{
  "nbformat": 4,
  "nbformat_minor": 0,
  "metadata": {
    "kernelspec": {
      "display_name": "Python 3",
      "language": "python",
      "name": "python3"
    },
    "language_info": {
      "codemirror_mode": {
        "name": "ipython",
        "version": 3
      },
      "file_extension": ".py",
      "mimetype": "text/x-python",
      "name": "python",
      "nbconvert_exporter": "python",
      "pygments_lexer": "ipython3",
      "version": "3.7.6"
    },
    "colab": {
      "name": "E12-SentimentPrediction.ipynb",
      "provenance": [],
      "collapsed_sections": []
    }
  },
  "cells": [
    {
      "cell_type": "markdown",
      "metadata": {
        "id": "oX6OeCw2cB2Z",
        "colab_type": "text"
      },
      "source": [
        "# Exercise 12\n",
        "\n",
        "## Analyze how travelers expressed their feelings on Twitter\n",
        "\n",
        "A sentiment analysis job about the problems of each major U.S. airline. \n",
        "Twitter data was scraped from February of 2015 and contributors were \n",
        "asked to first classify positive, negative, and neutral tweets, followed\n",
        "by categorizing negative reasons (such as \"late flight\" or \"rude service\")."
      ]
    },
    {
      "cell_type": "markdown",
      "metadata": {
        "id": "GXW2J7z9wmwA",
        "colab_type": "text"
      },
      "source": [
        "### **Juan Camilo Florez 201620135**\n",
        "### **Fernando Perez 200222809**\n",
        "### **Jhon Florez 201920529**\n",
        "### **Angie Paola Chacón 201012536**"
      ]
    },
    {
      "cell_type": "code",
      "metadata": {
        "id": "AAxAdHMvcB2c",
        "colab_type": "code",
        "colab": {
          "base_uri": "https://localhost:8080/",
          "height": 472
        },
        "outputId": "4c2d041d-b64e-41cb-cce4-efa51e0a4175"
      },
      "source": [
        "import pandas as pd\n",
        "import numpy as np\n",
        "from sklearn.ensemble import RandomForestRegressor, RandomForestClassifier\n",
        "\n",
        "%matplotlib inline\n",
        "import matplotlib.pyplot as plt\n",
        "\n",
        "# read the data and set the datetime as the index\n",
        "tweets = pd.read_csv('https://github.com/albahnsen/PracticalMachineLearningClass/raw/master/datasets/Tweets.zip', index_col=0)\n",
        "\n",
        "tweets.head()"
      ],
      "execution_count": null,
      "outputs": [
        {
          "output_type": "execute_result",
          "data": {
            "text/html": [
              "<div>\n",
              "<style scoped>\n",
              "    .dataframe tbody tr th:only-of-type {\n",
              "        vertical-align: middle;\n",
              "    }\n",
              "\n",
              "    .dataframe tbody tr th {\n",
              "        vertical-align: top;\n",
              "    }\n",
              "\n",
              "    .dataframe thead th {\n",
              "        text-align: right;\n",
              "    }\n",
              "</style>\n",
              "<table border=\"1\" class=\"dataframe\">\n",
              "  <thead>\n",
              "    <tr style=\"text-align: right;\">\n",
              "      <th></th>\n",
              "      <th>airline_sentiment</th>\n",
              "      <th>airline_sentiment_confidence</th>\n",
              "      <th>negativereason</th>\n",
              "      <th>negativereason_confidence</th>\n",
              "      <th>airline</th>\n",
              "      <th>airline_sentiment_gold</th>\n",
              "      <th>name</th>\n",
              "      <th>negativereason_gold</th>\n",
              "      <th>retweet_count</th>\n",
              "      <th>text</th>\n",
              "      <th>tweet_coord</th>\n",
              "      <th>tweet_created</th>\n",
              "      <th>tweet_location</th>\n",
              "      <th>user_timezone</th>\n",
              "    </tr>\n",
              "    <tr>\n",
              "      <th>tweet_id</th>\n",
              "      <th></th>\n",
              "      <th></th>\n",
              "      <th></th>\n",
              "      <th></th>\n",
              "      <th></th>\n",
              "      <th></th>\n",
              "      <th></th>\n",
              "      <th></th>\n",
              "      <th></th>\n",
              "      <th></th>\n",
              "      <th></th>\n",
              "      <th></th>\n",
              "      <th></th>\n",
              "      <th></th>\n",
              "    </tr>\n",
              "  </thead>\n",
              "  <tbody>\n",
              "    <tr>\n",
              "      <th>570306133677760513</th>\n",
              "      <td>neutral</td>\n",
              "      <td>1.0000</td>\n",
              "      <td>NaN</td>\n",
              "      <td>NaN</td>\n",
              "      <td>Virgin America</td>\n",
              "      <td>NaN</td>\n",
              "      <td>cairdin</td>\n",
              "      <td>NaN</td>\n",
              "      <td>0</td>\n",
              "      <td>@VirginAmerica What @dhepburn said.</td>\n",
              "      <td>NaN</td>\n",
              "      <td>2015-02-24 11:35:52 -0800</td>\n",
              "      <td>NaN</td>\n",
              "      <td>Eastern Time (US &amp; Canada)</td>\n",
              "    </tr>\n",
              "    <tr>\n",
              "      <th>570301130888122368</th>\n",
              "      <td>positive</td>\n",
              "      <td>0.3486</td>\n",
              "      <td>NaN</td>\n",
              "      <td>0.0000</td>\n",
              "      <td>Virgin America</td>\n",
              "      <td>NaN</td>\n",
              "      <td>jnardino</td>\n",
              "      <td>NaN</td>\n",
              "      <td>0</td>\n",
              "      <td>@VirginAmerica plus you've added commercials t...</td>\n",
              "      <td>NaN</td>\n",
              "      <td>2015-02-24 11:15:59 -0800</td>\n",
              "      <td>NaN</td>\n",
              "      <td>Pacific Time (US &amp; Canada)</td>\n",
              "    </tr>\n",
              "    <tr>\n",
              "      <th>570301083672813571</th>\n",
              "      <td>neutral</td>\n",
              "      <td>0.6837</td>\n",
              "      <td>NaN</td>\n",
              "      <td>NaN</td>\n",
              "      <td>Virgin America</td>\n",
              "      <td>NaN</td>\n",
              "      <td>yvonnalynn</td>\n",
              "      <td>NaN</td>\n",
              "      <td>0</td>\n",
              "      <td>@VirginAmerica I didn't today... Must mean I n...</td>\n",
              "      <td>NaN</td>\n",
              "      <td>2015-02-24 11:15:48 -0800</td>\n",
              "      <td>Lets Play</td>\n",
              "      <td>Central Time (US &amp; Canada)</td>\n",
              "    </tr>\n",
              "    <tr>\n",
              "      <th>570301031407624196</th>\n",
              "      <td>negative</td>\n",
              "      <td>1.0000</td>\n",
              "      <td>Bad Flight</td>\n",
              "      <td>0.7033</td>\n",
              "      <td>Virgin America</td>\n",
              "      <td>NaN</td>\n",
              "      <td>jnardino</td>\n",
              "      <td>NaN</td>\n",
              "      <td>0</td>\n",
              "      <td>@VirginAmerica it's really aggressive to blast...</td>\n",
              "      <td>NaN</td>\n",
              "      <td>2015-02-24 11:15:36 -0800</td>\n",
              "      <td>NaN</td>\n",
              "      <td>Pacific Time (US &amp; Canada)</td>\n",
              "    </tr>\n",
              "    <tr>\n",
              "      <th>570300817074462722</th>\n",
              "      <td>negative</td>\n",
              "      <td>1.0000</td>\n",
              "      <td>Can't Tell</td>\n",
              "      <td>1.0000</td>\n",
              "      <td>Virgin America</td>\n",
              "      <td>NaN</td>\n",
              "      <td>jnardino</td>\n",
              "      <td>NaN</td>\n",
              "      <td>0</td>\n",
              "      <td>@VirginAmerica and it's a really big bad thing...</td>\n",
              "      <td>NaN</td>\n",
              "      <td>2015-02-24 11:14:45 -0800</td>\n",
              "      <td>NaN</td>\n",
              "      <td>Pacific Time (US &amp; Canada)</td>\n",
              "    </tr>\n",
              "  </tbody>\n",
              "</table>\n",
              "</div>"
            ],
            "text/plain": [
              "                   airline_sentiment  ...               user_timezone\n",
              "tweet_id                              ...                            \n",
              "570306133677760513           neutral  ...  Eastern Time (US & Canada)\n",
              "570301130888122368          positive  ...  Pacific Time (US & Canada)\n",
              "570301083672813571           neutral  ...  Central Time (US & Canada)\n",
              "570301031407624196          negative  ...  Pacific Time (US & Canada)\n",
              "570300817074462722          negative  ...  Pacific Time (US & Canada)\n",
              "\n",
              "[5 rows x 14 columns]"
            ]
          },
          "metadata": {
            "tags": []
          },
          "execution_count": 1
        }
      ]
    },
    {
      "cell_type": "code",
      "metadata": {
        "id": "tNr6o-thcB2p",
        "colab_type": "code",
        "colab": {
          "base_uri": "https://localhost:8080/",
          "height": 35
        },
        "outputId": "d07a7e67-44a5-46d2-a93b-91929c4fe2f4"
      },
      "source": [
        "tweets.shape"
      ],
      "execution_count": null,
      "outputs": [
        {
          "output_type": "execute_result",
          "data": {
            "text/plain": [
              "(14640, 14)"
            ]
          },
          "metadata": {
            "tags": []
          },
          "execution_count": 2
        }
      ]
    },
    {
      "cell_type": "markdown",
      "metadata": {
        "id": "XNeLzfPHcB2y",
        "colab_type": "text"
      },
      "source": [
        "### Proportion of tweets with each sentiment"
      ]
    },
    {
      "cell_type": "code",
      "metadata": {
        "id": "mFjp-wvncB2z",
        "colab_type": "code",
        "colab": {
          "base_uri": "https://localhost:8080/",
          "height": 88
        },
        "outputId": "4399481b-7575-4959-b0ae-029ad2d34ab9"
      },
      "source": [
        "tweets['airline_sentiment'].value_counts()"
      ],
      "execution_count": null,
      "outputs": [
        {
          "output_type": "execute_result",
          "data": {
            "text/plain": [
              "negative    9178\n",
              "neutral     3099\n",
              "positive    2363\n",
              "Name: airline_sentiment, dtype: int64"
            ]
          },
          "metadata": {
            "tags": []
          },
          "execution_count": 3
        }
      ]
    },
    {
      "cell_type": "markdown",
      "metadata": {
        "id": "lAOi4l29cB24",
        "colab_type": "text"
      },
      "source": [
        "### Proportion of tweets per airline\n"
      ]
    },
    {
      "cell_type": "code",
      "metadata": {
        "id": "TjBn2RC0cB25",
        "colab_type": "code",
        "colab": {
          "base_uri": "https://localhost:8080/",
          "height": 141
        },
        "outputId": "95347237-0de0-457f-f440-a361c41a75a2"
      },
      "source": [
        "tweets['airline'].value_counts()"
      ],
      "execution_count": null,
      "outputs": [
        {
          "output_type": "execute_result",
          "data": {
            "text/plain": [
              "United            3822\n",
              "US Airways        2913\n",
              "American          2759\n",
              "Southwest         2420\n",
              "Delta             2222\n",
              "Virgin America     504\n",
              "Name: airline, dtype: int64"
            ]
          },
          "metadata": {
            "tags": []
          },
          "execution_count": 4
        }
      ]
    },
    {
      "cell_type": "code",
      "metadata": {
        "id": "BIycaBkqcB2-",
        "colab_type": "code",
        "colab": {
          "base_uri": "https://localhost:8080/",
          "height": 395
        },
        "outputId": "ab0bd5b2-68c3-49f7-f51b-5fe25539d7fe"
      },
      "source": [
        "pd.Series(tweets[\"airline\"]).value_counts().plot(kind = \"bar\",figsize=(8,6),rot = 0)"
      ],
      "execution_count": null,
      "outputs": [
        {
          "output_type": "execute_result",
          "data": {
            "text/plain": [
              "<matplotlib.axes._subplots.AxesSubplot at 0x7f6b47d58fd0>"
            ]
          },
          "metadata": {
            "tags": []
          },
          "execution_count": 5
        },
        {
          "output_type": "display_data",
          "data": {
            "image/png": "[encoded data removed]",
            "text/plain": [
              "<Figure size 576x432 with 1 Axes>"
            ]
          },
          "metadata": {
            "tags": [],
            "needs_background": "light"
          }
        }
      ]
    },
    {
      "cell_type": "code",
      "metadata": {
        "id": "I4mR2M7DcB3D",
        "colab_type": "code",
        "colab": {
          "base_uri": "https://localhost:8080/",
          "height": 421
        },
        "outputId": "61d1b6d8-fbe1-4c95-fad0-39a71c882346"
      },
      "source": [
        "pd.crosstab(index = tweets[\"airline\"],columns = tweets[\"airline_sentiment\"]).plot(kind='bar',figsize=(10, 6),alpha=0.5,rot=0,stacked=True,title=\"Sentiment by airline\")"
      ],
      "execution_count": null,
      "outputs": [
        {
          "output_type": "execute_result",
          "data": {
            "text/plain": [
              "<matplotlib.axes._subplots.AxesSubplot at 0x7f6b47c48438>"
            ]
          },
          "metadata": {
            "tags": []
          },
          "execution_count": 6
        },
        {
          "output_type": "display_data",
          "data": {
            "image/png": "[encoded data removed]",
            "text/plain": [
              "<Figure size 720x432 with 1 Axes>"
            ]
          },
          "metadata": {
            "tags": [],
            "needs_background": "light"
          }
        }
      ]
    },
    {
      "cell_type": "markdown",
      "metadata": {
        "id": "iOXDWgwNcB3I",
        "colab_type": "text"
      },
      "source": [
        "# Exercise 12.1 \n",
        "\n",
        "Predict the sentiment using CountVectorizer\n",
        "\n",
        "use Random Forest classifier"
      ]
    },
    {
      "cell_type": "code",
      "metadata": {
        "id": "e1xkceZlcB3J",
        "colab_type": "code",
        "colab": {}
      },
      "source": [
        "from sklearn.model_selection import train_test_split, cross_val_score\n",
        "from sklearn.feature_extraction.text import CountVectorizer, TfidfVectorizer\n",
        "from sklearn.ensemble import RandomForestClassifier\n",
        "from nltk.stem.snowball import SnowballStemmer\n",
        "from nltk.stem import WordNetLemmatizer\n",
        "from sklearn.naive_bayes import MultinomialNB"
      ],
      "execution_count": null,
      "outputs": []
    },
    {
      "cell_type": "code",
      "metadata": {
        "id": "rz67VkQwcB3Q",
        "colab_type": "code",
        "colab": {}
      },
      "source": [
        "X = tweets['text']\n",
        "y = tweets['airline_sentiment'].map({'negative':-1,'neutral':0,'positive':1})\n"
      ],
      "execution_count": null,
      "outputs": []
    },
    {
      "cell_type": "markdown",
      "metadata": {
        "id": "OvqO0PzncB3U",
        "colab_type": "text"
      },
      "source": [
        "**crear matrices sparse con los tokens con la función countvectorizer**"
      ]
    },
    {
      "cell_type": "code",
      "metadata": {
        "id": "17ctH3wecB3V",
        "colab_type": "code",
        "colab": {}
      },
      "source": [
        "vect = CountVectorizer(lowercase=True)\n",
        "X_dtm = vect.fit_transform(X)"
      ],
      "execution_count": null,
      "outputs": []
    },
    {
      "cell_type": "code",
      "metadata": {
        "id": "uVGPT74XcB3a",
        "colab_type": "code",
        "colab": {
          "base_uri": "https://localhost:8080/",
          "height": 35
        },
        "outputId": "9d5e3826-0e66-421a-b36d-b44e7bd90cfe"
      },
      "source": [
        "df=X_dtm.todense()\n",
        "df\n",
        "print(df.shape)"
      ],
      "execution_count": null,
      "outputs": [
        {
          "output_type": "stream",
          "text": [
            "(14640, 15051)\n"
          ],
          "name": "stdout"
        }
      ]
    },
    {
      "cell_type": "markdown",
      "metadata": {
        "id": "cS79_xTOcB3g",
        "colab_type": "text"
      },
      "source": [
        "Con la función de vectorizer se crea una matriz sparse con 15051 columnas (palabras). En este caso no se ha hecho ningún tipo de limpieza al texto\n",
        "\n",
        "**lista de tokens**"
      ]
    },
    {
      "cell_type": "code",
      "metadata": {
        "id": "BzkE0C5vcB3h",
        "colab_type": "code",
        "colab": {}
      },
      "source": [
        "#print(vect.get_feature_names())"
      ],
      "execution_count": 45,
      "outputs": []
    },
    {
      "cell_type": "markdown",
      "metadata": {
        "id": "zTdsWKoMcB3s",
        "colab_type": "text"
      },
      "source": [
        "**Modelo Random Forest**"
      ]
    },
    {
      "cell_type": "code",
      "metadata": {
        "id": "oqldiSoBcB3t",
        "colab_type": "code",
        "colab": {}
      },
      "source": [
        "#CRear base de train y test\n",
        "X_train, X_test, y_train, y_test = train_test_split(df, y, test_size=0.3, random_state=42)"
      ],
      "execution_count": null,
      "outputs": []
    },
    {
      "cell_type": "code",
      "metadata": {
        "id": "WkikRMCScB30",
        "colab_type": "code",
        "colab": {
          "base_uri": "https://localhost:8080/",
          "height": 159
        },
        "outputId": "2553e22e-e006-4351-d367-70d5a8da27d4"
      },
      "source": [
        "from sklearn.ensemble import RandomForestClassifier\n",
        "from sklearn.model_selection import cross_val_score\n",
        "from sklearn.metrics import mean_squared_error\n",
        "from sklearn import metrics\n",
        "\n",
        "clf = RandomForestClassifier(n_jobs=-1, n_estimators=100, max_depth=100, random_state=123, criterion = 'entropy')\n",
        "clf"
      ],
      "execution_count": null,
      "outputs": [
        {
          "output_type": "execute_result",
          "data": {
            "text/plain": [
              "RandomForestClassifier(bootstrap=True, ccp_alpha=0.0, class_weight=None,\n",
              "                       criterion='entropy', max_depth=100, max_features='auto',\n",
              "                       max_leaf_nodes=None, max_samples=None,\n",
              "                       min_impurity_decrease=0.0, min_impurity_split=None,\n",
              "                       min_samples_leaf=1, min_samples_split=2,\n",
              "                       min_weight_fraction_leaf=0.0, n_estimators=100,\n",
              "                       n_jobs=-1, oob_score=False, random_state=123, verbose=0,\n",
              "                       warm_start=False)"
            ]
          },
          "metadata": {
            "tags": []
          },
          "execution_count": 13
        }
      ]
    },
    {
      "cell_type": "code",
      "metadata": {
        "id": "_aBp2-4ucB37",
        "colab_type": "code",
        "colab": {}
      },
      "source": [
        "clf.fit(X_train, y_train)\n",
        "y_pred=clf.predict(X_test)"
      ],
      "execution_count": null,
      "outputs": []
    },
    {
      "cell_type": "code",
      "metadata": {
        "id": "wFG1jKRkcB4C",
        "colab_type": "code",
        "colab": {
          "base_uri": "https://localhost:8080/",
          "height": 35
        },
        "outputId": "87b2c2ad-3994-4314-9d4b-f880eacb64e7"
      },
      "source": [
        "acc_vect_constpw =metrics.accuracy_score(y_test, y_pred)\n",
        "print(\"Accuracy:\", acc_vect_constpw)"
      ],
      "execution_count": null,
      "outputs": [
        {
          "output_type": "stream",
          "text": [
            "Accuracy: 0.7666211293260473\n"
          ],
          "name": "stdout"
        }
      ]
    },
    {
      "cell_type": "markdown",
      "metadata": {
        "id": "4pzIKPMZcB4H",
        "colab_type": "text"
      },
      "source": [
        "**matriz de confusión para las predicciones del sentimiento del tweet: negative':-1,'neutral':0,'positive':1**"
      ]
    },
    {
      "cell_type": "code",
      "metadata": {
        "scrolled": true,
        "id": "hNfPSo30cB4I",
        "colab_type": "code",
        "colab": {
          "base_uri": "https://localhost:8080/",
          "height": 106
        },
        "outputId": "a2e5e371-7fdb-4529-c2e6-ee8641f26212"
      },
      "source": [
        "print(pd.crosstab(y_test, y_pred, rownames=['Actual sentiment'], colnames=['Predicted sentiment']))"
      ],
      "execution_count": null,
      "outputs": [
        {
          "output_type": "stream",
          "text": [
            "Predicted sentiment    -1    0    1\n",
            "Actual sentiment                   \n",
            "-1                   2736   62   16\n",
            " 0                    533  316   35\n",
            " 1                    308   71  315\n"
          ],
          "name": "stdout"
        }
      ]
    },
    {
      "cell_type": "markdown",
      "metadata": {
        "id": "Md4jMeg1cB4P",
        "colab_type": "text"
      },
      "source": [
        "Con el modelo incluyendo los stopwords se obtiene un accuracy de 0,76."
      ]
    },
    {
      "cell_type": "markdown",
      "metadata": {
        "id": "17zEkHvJcB4R",
        "colab_type": "text"
      },
      "source": [
        "# Exercise 12.2 \n",
        "\n",
        "Remove stopwords, then predict the sentiment using CountVectorizer.\n",
        "\n",
        "use Random Forest classifier"
      ]
    },
    {
      "cell_type": "code",
      "metadata": {
        "id": "yfjgiRCZcB4S",
        "colab_type": "code",
        "colab": {}
      },
      "source": [
        "vect2 = CountVectorizer(lowercase= True, stop_words='english') #calcula los token y elimina stopwords\n",
        "X_dtm2 = vect2.fit_transform(X) #entrenar el modelo"
      ],
      "execution_count": null,
      "outputs": []
    },
    {
      "cell_type": "code",
      "metadata": {
        "id": "Is1iQA9ocB4b",
        "colab_type": "code",
        "colab": {
          "base_uri": "https://localhost:8080/",
          "height": 35
        },
        "outputId": "6bb3a3bc-1419-4980-b7c8-53569910ba3f"
      },
      "source": [
        "df2=X_dtm2.todense()\n",
        "df2\n",
        "print(df2.shape)"
      ],
      "execution_count": null,
      "outputs": [
        {
          "output_type": "stream",
          "text": [
            "(14640, 14770)\n"
          ],
          "name": "stdout"
        }
      ]
    },
    {
      "cell_type": "markdown",
      "metadata": {
        "id": "Lvh3BmhBcB4k",
        "colab_type": "text"
      },
      "source": [
        "Al eliminar los stopword en la función de vectorizer, se crea una matriz sparse con 14770 columnas (palabras)\n",
        "\n",
        "**Modelo Random Forest para countvectorizer sin stopwords**"
      ]
    },
    {
      "cell_type": "code",
      "metadata": {
        "id": "MKvH-qQ0cB4n",
        "colab_type": "code",
        "colab": {
          "base_uri": "https://localhost:8080/",
          "height": 35
        },
        "outputId": "aaad4448-3fa5-4a97-df13-2327a26f1d60"
      },
      "source": [
        "#Crear base de train y test\n",
        "X_train2, X_test2, y_train2, y_test2 = train_test_split(df2, y, test_size=0.3, random_state=42)\n",
        "X_train2.shape"
      ],
      "execution_count": null,
      "outputs": [
        {
          "output_type": "execute_result",
          "data": {
            "text/plain": [
              "(10248, 14770)"
            ]
          },
          "metadata": {
            "tags": []
          },
          "execution_count": 19
        }
      ]
    },
    {
      "cell_type": "code",
      "metadata": {
        "id": "uhKu_zsocB43",
        "colab_type": "code",
        "colab": {
          "base_uri": "https://localhost:8080/",
          "height": 159
        },
        "outputId": "4fb7e015-613b-48ac-97dc-097dad471ceb"
      },
      "source": [
        "clf = RandomForestClassifier(n_jobs=-1, n_estimators=100, max_depth=100, random_state=123, criterion = 'entropy')\n",
        "clf"
      ],
      "execution_count": null,
      "outputs": [
        {
          "output_type": "execute_result",
          "data": {
            "text/plain": [
              "RandomForestClassifier(bootstrap=True, ccp_alpha=0.0, class_weight=None,\n",
              "                       criterion='entropy', max_depth=100, max_features='auto',\n",
              "                       max_leaf_nodes=None, max_samples=None,\n",
              "                       min_impurity_decrease=0.0, min_impurity_split=None,\n",
              "                       min_samples_leaf=1, min_samples_split=2,\n",
              "                       min_weight_fraction_leaf=0.0, n_estimators=100,\n",
              "                       n_jobs=-1, oob_score=False, random_state=123, verbose=0,\n",
              "                       warm_start=False)"
            ]
          },
          "metadata": {
            "tags": []
          },
          "execution_count": 20
        }
      ]
    },
    {
      "cell_type": "code",
      "metadata": {
        "id": "FjOHbjsNcB5E",
        "colab_type": "code",
        "colab": {}
      },
      "source": [
        "clf.fit(X_train2, y_train2)\n",
        "y_pred2=clf.predict(X_test2)"
      ],
      "execution_count": null,
      "outputs": []
    },
    {
      "cell_type": "code",
      "metadata": {
        "id": "bba1PaY-cB5N",
        "colab_type": "code",
        "colab": {
          "base_uri": "https://localhost:8080/",
          "height": 35
        },
        "outputId": "f4794d10-75a5-439f-9309-61654ad788b8"
      },
      "source": [
        "acc_vect_sinstpw =  metrics.accuracy_score(y_test2, y_pred2)\n",
        "print(\"Accuracy:\",acc_vect_sinstpw)"
      ],
      "execution_count": null,
      "outputs": [
        {
          "output_type": "stream",
          "text": [
            "Accuracy: 0.7497723132969034\n"
          ],
          "name": "stdout"
        }
      ]
    },
    {
      "cell_type": "markdown",
      "metadata": {
        "id": "Z57ItLXFcB5b",
        "colab_type": "text"
      },
      "source": [
        "**matriz de confusión para las predicciones del sentimiento del tweet: negative':-1,'neutral':0,'positive':1**"
      ]
    },
    {
      "cell_type": "code",
      "metadata": {
        "scrolled": true,
        "id": "wde6CW64cB5d",
        "colab_type": "code",
        "colab": {
          "base_uri": "https://localhost:8080/",
          "height": 106
        },
        "outputId": "171f70d9-7771-4743-cd58-df13604392ad"
      },
      "source": [
        "print(pd.crosstab(y_test2, y_pred2, rownames=['Actual sentiment'], colnames=['Predicted sentiment']))"
      ],
      "execution_count": null,
      "outputs": [
        {
          "output_type": "stream",
          "text": [
            "Predicted sentiment    -1    0    1\n",
            "Actual sentiment                   \n",
            "-1                   2720   45   49\n",
            " 0                    614  209   61\n",
            " 1                    285   45  364\n"
          ],
          "name": "stdout"
        }
      ]
    },
    {
      "cell_type": "markdown",
      "metadata": {
        "id": "8yiOcRorcB5n",
        "colab_type": "text"
      },
      "source": [
        "Con el modelo sin stopwords se obtiene un accuracy de 0,74, el cual es menor al modelo sin stopwords (0,76). Esto se puede deber a que alguna de las palabras que se están eliminando aportan información relevante sobre la predicción del sentimiento del tweet."
      ]
    },
    {
      "cell_type": "markdown",
      "metadata": {
        "id": "JuOqUTd2cB5p",
        "colab_type": "text"
      },
      "source": [
        "# Exercise 12.3\n",
        "\n",
        "Increase n_grams size (with and without stopwords),  then predict the sentiment using CountVectorizer\n",
        "\n",
        "use Random Forest classifier"
      ]
    },
    {
      "cell_type": "markdown",
      "metadata": {
        "id": "8aBZNjHPcB5r",
        "colab_type": "text"
      },
      "source": [
        "**Modelo random forest, iterando sobre enegramas eliminando stopwords** "
      ]
    },
    {
      "cell_type": "code",
      "metadata": {
        "scrolled": true,
        "id": "wGlneeZ8cB5u",
        "colab_type": "code",
        "colab": {
          "base_uri": "https://localhost:8080/",
          "height": 106
        },
        "outputId": "30ec9724-8352-448b-d8a2-2d0aa7bc0b30"
      },
      "source": [
        "#Sin la función stopwords\n",
        "gram = range(1,6)\n",
        "acc1=[]\n",
        "\n",
        "clf3 = RandomForestClassifier(n_jobs=-1, n_estimators=100, max_depth=100, random_state=123, criterion = 'entropy')\n",
        "\n",
        "for i in gram:\n",
        "    vect3 = CountVectorizer(ngram_range=(1, i), lowercase= True, stop_words='english') \n",
        "    X_dtm3 = vect3.fit_transform(X) \n",
        "    X_train3, X_test3, y_train3, y_test3 = train_test_split(X_dtm3, y, test_size=0.3, random_state=42)\n",
        "    clf3.fit(X_train3, y_train3)\n",
        "    y_pred3 = clf3.predict(X_test3)\n",
        "    acc = metrics.accuracy_score(y_test3, y_pred3)\n",
        "    acc1.append([i, acc])   \n",
        "\n",
        "acc1\n"
      ],
      "execution_count": null,
      "outputs": [
        {
          "output_type": "execute_result",
          "data": {
            "text/plain": [
              "[[1, 0.7497723132969034],\n",
              " [2, 0.7106102003642987],\n",
              " [3, 0.6867030965391621],\n",
              " [4, 0.6755464480874317],\n",
              " [5, 0.6614298724954463]]"
            ]
          },
          "metadata": {
            "tags": []
          },
          "execution_count": 24
        }
      ]
    },
    {
      "cell_type": "markdown",
      "metadata": {
        "id": "iKQHNjafcB5-",
        "colab_type": "text"
      },
      "source": [
        "**Modelo random forest, iterando sobre enegramas sin eliminar stopwords** "
      ]
    },
    {
      "cell_type": "code",
      "metadata": {
        "id": "-OAUb6JncB6A",
        "colab_type": "code",
        "colab": {
          "base_uri": "https://localhost:8080/",
          "height": 106
        },
        "outputId": "a77d0cc9-b454-403e-a459-324dfa075df5"
      },
      "source": [
        "#Sin la función stopwords\n",
        "gram = range(1,6)\n",
        "acc2=[]\n",
        "\n",
        "clf3 = RandomForestClassifier(n_jobs=-1, n_estimators=100, max_depth=100, random_state=123, criterion = 'entropy')\n",
        "\n",
        "for i in gram:\n",
        "    vect3 = CountVectorizer(ngram_range=(1, i), lowercase= True) \n",
        "    X_dtm3 = vect3.fit_transform(X) \n",
        "    X_train3, X_test3, y_train3, y_test3 = train_test_split(X_dtm3, y, test_size=0.3, random_state=42)\n",
        "    clf3.fit(X_train3, y_train3)\n",
        "    y_pred3 = clf3.predict(X_test3)\n",
        "    acc = metrics.accuracy_score(y_test3, y_pred3)\n",
        "    acc2.append([i, acc])  \n",
        "\n",
        "acc2\n"
      ],
      "execution_count": null,
      "outputs": [
        {
          "output_type": "execute_result",
          "data": {
            "text/plain": [
              "[[1, 0.7666211293260473],\n",
              " [2, 0.7331511839708561],\n",
              " [3, 0.7122040072859745],\n",
              " [4, 0.6933060109289617],\n",
              " [5, 0.6810109289617486]]"
            ]
          },
          "metadata": {
            "tags": []
          },
          "execution_count": 25
        }
      ]
    },
    {
      "cell_type": "markdown",
      "metadata": {
        "id": "W0W-VuwHfoLC",
        "colab_type": "text"
      },
      "source": [
        "Al iterar el número enegramas en los modelos randomforest con y sin stopwords, utilizando la función countvectorizer, se puede observar que el desempeño del modelo tiende a disminuir, a medida que aumenta el tamaño del enegrama. Por lo cual, se recomienda trabajar con un diccionario solo de palabras como tokens. "
      ]
    },
    {
      "cell_type": "markdown",
      "metadata": {
        "id": "nOt9k2W2cB6I",
        "colab_type": "text"
      },
      "source": [
        "# Exercise 12.4\n",
        "\n",
        "Predict the sentiment using TfidfVectorizer.\n",
        "\n",
        "use Random Forest classifier"
      ]
    },
    {
      "cell_type": "markdown",
      "metadata": {
        "id": "fzrWHkSUimk8",
        "colab_type": "text"
      },
      "source": [
        "### Random forest con TfidfVectorizer eliminando stopwords"
      ]
    },
    {
      "cell_type": "code",
      "metadata": {
        "id": "H1OM4EYEcB6K",
        "colab_type": "code",
        "colab": {
          "base_uri": "https://localhost:8080/",
          "height": 35
        },
        "outputId": "8c30f857-4750-4906-c666-58fba44af336"
      },
      "source": [
        "#\n",
        "\n",
        "clf3 = RandomForestClassifier(n_jobs=-1, n_estimators=100, max_depth=100, random_state=123, criterion = 'entropy')\n",
        "\n",
        "vect4 = TfidfVectorizer(lowercase= True, stop_words='english') \n",
        "X_dtm4 = vect4.fit_transform(X) \n",
        "X_train4, X_test4, y_train4, y_test4 = train_test_split(X_dtm4, y, test_size=0.3, random_state=42)\n",
        "clf3.fit(X_train4, y_train4)\n",
        "y_pred4 = clf3.predict(X_test4)\n",
        "acc_tfidf_sinstw = metrics.accuracy_score(y_test4, y_pred4)\n",
        "acc_tfidf_sinstw\n"
      ],
      "execution_count": null,
      "outputs": [
        {
          "output_type": "execute_result",
          "data": {
            "text/plain": [
              "0.7486338797814208"
            ]
          },
          "metadata": {
            "tags": []
          },
          "execution_count": 41
        }
      ]
    },
    {
      "cell_type": "markdown",
      "metadata": {
        "id": "thjgc41Qivro",
        "colab_type": "text"
      },
      "source": [
        "### Random forest con TfidfVectorizer sin eliminar stopwords"
      ]
    },
    {
      "cell_type": "code",
      "metadata": {
        "id": "CWNLRQ-Bilco",
        "colab_type": "code",
        "colab": {
          "base_uri": "https://localhost:8080/",
          "height": 35
        },
        "outputId": "0f436b58-4414-4c80-b87b-e81bc81c9a40"
      },
      "source": [
        "clf3 = RandomForestClassifier(n_jobs=-1, n_estimators=100, max_depth=100, random_state=123, criterion = 'entropy')\n",
        "\n",
        "vect5 = TfidfVectorizer( lowercase= True) \n",
        "X_dtm5 = vect5.fit_transform(X) \n",
        "X_train5, X_test5, y_train5, y_test5 = train_test_split(X_dtm5, y, test_size=0.3, random_state=42)\n",
        "clf3.fit(X_train5, y_train5)\n",
        "y_pred5 = clf3.predict(X_test5)\n",
        "acc_tfidf_constw = metrics.accuracy_score(y_test5, y_pred5)\n",
        "acc_tfidf_constw"
      ],
      "execution_count": null,
      "outputs": [
        {
          "output_type": "execute_result",
          "data": {
            "text/plain": [
              "0.7556921675774135"
            ]
          },
          "metadata": {
            "tags": []
          },
          "execution_count": 40
        }
      ]
    },
    {
      "cell_type": "markdown",
      "metadata": {
        "id": "Kn_TpTQEjdZ0",
        "colab_type": "text"
      },
      "source": [
        "En cuanto a los modelos utilizando tfidvectorizer, el modelo que tiene un mejor desempeño es el randomforest sin eliminar stopwords, con un accuracy de 0,71.  "
      ]
    },
    {
      "cell_type": "markdown",
      "metadata": {
        "id": "FI51b_YljM82",
        "colab_type": "text"
      },
      "source": [
        "### Random forest con TfidfVectorizer eliminando stopwords, iterando enegramas"
      ]
    },
    {
      "cell_type": "code",
      "metadata": {
        "id": "LH1yNoExjIPU",
        "colab_type": "code",
        "colab": {
          "base_uri": "https://localhost:8080/",
          "height": 106
        },
        "outputId": "69bd4b4c-f9c7-4220-e51c-39ca96874079"
      },
      "source": [
        "#Sin la función stopwords\n",
        "gram = range(1,6)\n",
        "acc3=[]\n",
        "clf3 = RandomForestClassifier(n_jobs=-1, n_estimators=100, max_depth=100, random_state=123, criterion = 'entropy')\n",
        "\n",
        "for i in gram:\n",
        "    vect3 = TfidfVectorizer(ngram_range=(1, i), lowercase= True) \n",
        "    X_dtm3 = vect3.fit_transform(X) \n",
        "    X_train3, X_test3, y_train3, y_test3 = train_test_split(X_dtm3, y, test_size=0.3, random_state=42)\n",
        "    clf3.fit(X_train3, y_train3)\n",
        "    y_pred3 = clf3.predict(X_test3)\n",
        "    acc_tfid_sinst = metrics.accuracy_score(y_test3, y_pred3)\n",
        "    acc3.append([i,acc_tfid_sinst])\n",
        "\n",
        "acc3\n",
        "    "
      ],
      "execution_count": null,
      "outputs": [
        {
          "output_type": "execute_result",
          "data": {
            "text/plain": [
              "[[1, 0.7556921675774135],\n",
              " [2, 0.7290528233151184],\n",
              " [3, 0.7135701275045537],\n",
              " [4, 0.6996812386156649],\n",
              " [5, 0.6903460837887068]]"
            ]
          },
          "metadata": {
            "tags": []
          },
          "execution_count": 29
        }
      ]
    },
    {
      "cell_type": "markdown",
      "metadata": {
        "id": "-82kOAWhkWy4",
        "colab_type": "text"
      },
      "source": [
        "### Random forest con TfidfVectorizer sin eliminar stopwords, iterando enegramas"
      ]
    },
    {
      "cell_type": "code",
      "metadata": {
        "id": "KgtsdQVUkE-x",
        "colab_type": "code",
        "colab": {
          "base_uri": "https://localhost:8080/",
          "height": 106
        },
        "outputId": "44b6fed3-0957-4602-eb11-ada627d0c58a"
      },
      "source": [
        "#Sin la función stopwords\n",
        "gram = range(1,6)\n",
        "acc4 = []\n",
        "\n",
        "clf3 = RandomForestClassifier(n_jobs=-1, n_estimators=100, max_depth=100, random_state=123, criterion = 'entropy')\n",
        "\n",
        "for i in gram:\n",
        "    vect3 = TfidfVectorizer(ngram_range=(1, i), lowercase= True, stop_words='english') \n",
        "    X_dtm3 = vect3.fit_transform(X) \n",
        "    X_train3, X_test3, y_train3, y_test3 = train_test_split(X_dtm3, y, test_size=0.3, random_state=42)\n",
        "    clf3.fit(X_train3, y_train3)\n",
        "    y_pred3 = clf3.predict(X_test3)\n",
        "    acc_tfid_const = metrics.accuracy_score(y_test3, y_pred3)\n",
        "    acc4.append([i, acc_tfid_const])\n",
        "\n",
        "acc4"
      ],
      "execution_count": null,
      "outputs": [
        {
          "output_type": "execute_result",
          "data": {
            "text/plain": [
              "[[1, 0.7486338797814208],\n",
              " [2, 0.7090163934426229],\n",
              " [3, 0.6898907103825137],\n",
              " [4, 0.6687158469945356],\n",
              " [5, 0.660063752276867]]"
            ]
          },
          "metadata": {
            "tags": []
          },
          "execution_count": 30
        }
      ]
    },
    {
      "cell_type": "markdown",
      "metadata": {
        "id": "_U9iMRkWvRCF",
        "colab_type": "text"
      },
      "source": [
        "Al iterar el número enegramas en los modelos Random Forest con y sin stopwords, utilizando la función TfidfVectorizer para calcular la frecuencia relativa, se puede observar que el desempeño del modelo tiende a disminuir, a medida que aumenta el tamaño del enegrama. Por lo cual, se recomienda trabajar con un diccionario solo de palabras como tokens. "
      ]
    },
    {
      "cell_type": "markdown",
      "metadata": {
        "id": "HVZSru5Vkmt6",
        "colab_type": "text"
      },
      "source": [
        "## Conclusiones"
      ]
    },
    {
      "cell_type": "code",
      "metadata": {
        "id": "EJtzdH-skpKW",
        "colab_type": "code",
        "colab": {
          "base_uri": "https://localhost:8080/",
          "height": 230
        },
        "outputId": "86cf4177-f36e-48f4-cb69-025a50f677ed"
      },
      "source": [
        "\n",
        "#print('Modelo con countvectorizer sin eliminar stop words \\n',acc_vect_constpw, '\\n ')\n",
        "#print('Modelo con countvectorizer eliminando stop words \\n',acc_vect_sinstpw, '\\n ') \n",
        "\n",
        "print('Modelo con countvectorizer sin eliminar stop words, iterando enegramas \\n',acc2, '\\n ')\n",
        "print('Modelo con countvectorizer eliminando stop words, iterando enegramas \\n', acc1, '\\n ')\n",
        "\n",
        "#print('Modelo con TfidfVectorize sin eliminar stop words \\n', acc_tfidf_constw, '\\n ')\n",
        "#print('Modelo con TfidfVectorize sin eliminar stop words \\n', acc_tfidf_sinstw, '\\n ')\n",
        "\n",
        "print('Modelo con TfidfVectorize sin eliminar stop words, iterando enegramas \\n', acc3, '\\n ')\n",
        "print('Modelo con TfidfVectorize sin eliminar stop words, iterando enegramas \\n', acc4, '\\n ')\n"
      ],
      "execution_count": null,
      "outputs": [
        {
          "output_type": "stream",
          "text": [
            "Modelo con countvectorizer sin eliminar stop words, iterando enegramas \n",
            " [[1, 0.7666211293260473], [2, 0.7331511839708561], [3, 0.7122040072859745], [4, 0.6933060109289617], [5, 0.6810109289617486]] \n",
            " \n",
            "Modelo con countvectorizer eliminando stop words, iterando enegramas \n",
            " [[1, 0.7497723132969034], [2, 0.7106102003642987], [3, 0.6867030965391621], [4, 0.6755464480874317], [5, 0.6614298724954463]] \n",
            " \n",
            "Modelo con TfidfVectorize sin eliminar stop words, iterando enegramas \n",
            " [[1, 0.7556921675774135], [2, 0.7290528233151184], [3, 0.7135701275045537], [4, 0.6996812386156649], [5, 0.6903460837887068]] \n",
            " \n",
            "Modelo con TfidfVectorize sin eliminar stop words, iterando enegramas \n",
            " [[1, 0.7486338797814208], [2, 0.7090163934426229], [3, 0.6898907103825137], [4, 0.6687158469945356], [5, 0.660063752276867]] \n",
            " \n"
          ],
          "name": "stdout"
        }
      ]
    },
    {
      "cell_type": "markdown",
      "metadata": {
        "id": "QvSU6Fm6vE6q",
        "colab_type": "text"
      },
      "source": [
        "**El modelo de mejor desempeño para clasificar el sentimiento del tweet para las aerolíneas se da con la función countvectorizer con un accuracy del 76%, en este caso se debe tener en cuenta los stopwords y no se deben incluir enegramas mayores a 2.** \n",
        "\n",
        "Asímismo, se recomienda hacer una calibración de los parámetros del random forest, para obtener un mejor resultado de predicción. "
      ]
    },
    {
      "cell_type": "code",
      "metadata": {
        "id": "REuq08Wgvzh8",
        "colab_type": "code",
        "colab": {}
      },
      "source": [
        ""
      ],
      "execution_count": null,
      "outputs": []
    }
  ]
}