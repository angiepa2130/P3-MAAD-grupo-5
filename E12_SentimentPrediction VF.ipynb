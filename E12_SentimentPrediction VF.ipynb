{
  "nbformat": 4,
  "nbformat_minor": 0,
  "metadata": {
    "kernelspec": {
      "display_name": "Python 3",
      "language": "python",
      "name": "python3"
    },
    "language_info": {
      "codemirror_mode": {
        "name": "ipython",
        "version": 3
      },
      "file_extension": ".py",
      "mimetype": "text/x-python",
      "name": "python",
      "nbconvert_exporter": "python",
      "pygments_lexer": "ipython3",
      "version": "3.7.6"
    },
    "colab": {
      "name": "E12-SentimentPrediction.ipynb",
      "provenance": [],
      "collapsed_sections": []
    }
  },
  "cells": [
    {
      "cell_type": "markdown",
      "metadata": {
        "id": "oX6OeCw2cB2Z",
        "colab_type": "text"
      },
      "source": [
        "# Exercise 12\n",
        "\n",
        "## Analyze how travelers expressed their feelings on Twitter\n",
        "\n",
        "A sentiment analysis job about the problems of each major U.S. airline. \n",
        "Twitter data was scraped from February of 2015 and contributors were \n",
        "asked to first classify positive, negative, and neutral tweets, followed\n",
        "by categorizing negative reasons (such as \"late flight\" or \"rude service\")."
      ]
    },
    {
      "cell_type": "markdown",
      "metadata": {
        "id": "GXW2J7z9wmwA",
        "colab_type": "text"
      },
      "source": [
        "### **Juan Camilo Florez 201620135**\n",
        "### **Fernando Perez 200222809**\n",
        "### **Jhon Florez 201920529**\n",
        "### **Angie Paola Chacón 201012536**"
      ]
    },
    {
      "cell_type": "code",
      "metadata": {
        "id": "AAxAdHMvcB2c",
        "colab_type": "code",
        "colab": {
          "base_uri": "https://localhost:8080/",
          "height": 472
        },
        "outputId": "4c2d041d-b64e-41cb-cce4-efa51e0a4175"
      },
      "source": [
        "import pandas as pd\n",
        "import numpy as np\n",
        "from sklearn.ensemble import RandomForestRegressor, RandomForestClassifier\n",
        "\n",
        "%matplotlib inline\n",
        "import matplotlib.pyplot as plt\n",
        "\n",
        "# read the data and set the datetime as the index\n",
        "tweets = pd.read_csv('https://github.com/albahnsen/PracticalMachineLearningClass/raw/master/datasets/Tweets.zip', index_col=0)\n",
        "\n",
        "tweets.head()"
      ],
      "execution_count": null,
      "outputs": [
        {
          "output_type": "execute_result",
          "data": {
            "text/html": [
              "<div>\n",
              "<style scoped>\n",
              "    .dataframe tbody tr th:only-of-type {\n",
              "        vertical-align: middle;\n",
              "    }\n",
              "\n",
              "    .dataframe tbody tr th {\n",
              "        vertical-align: top;\n",
              "    }\n",
              "\n",
              "    .dataframe thead th {\n",
              "        text-align: right;\n",
              "    }\n",
              "</style>\n",
              "<table border=\"1\" class=\"dataframe\">\n",
              "  <thead>\n",
              "    <tr style=\"text-align: right;\">\n",
              "      <th></th>\n",
              "      <th>airline_sentiment</th>\n",
              "      <th>airline_sentiment_confidence</th>\n",
              "      <th>negativereason</th>\n",
              "      <th>negativereason_confidence</th>\n",
              "      <th>airline</th>\n",
              "      <th>airline_sentiment_gold</th>\n",
              "      <th>name</th>\n",
              "      <th>negativereason_gold</th>\n",
              "      <th>retweet_count</th>\n",
              "      <th>text</th>\n",
              "      <th>tweet_coord</th>\n",
              "      <th>tweet_created</th>\n",
              "      <th>tweet_location</th>\n",
              "      <th>user_timezone</th>\n",
              "    </tr>\n",
              "    <tr>\n",
              "      <th>tweet_id</th>\n",
              "      <th></th>\n",
              "      <th></th>\n",
              "      <th></th>\n",
              "      <th></th>\n",
              "      <th></th>\n",
              "      <th></th>\n",
              "      <th></th>\n",
              "      <th></th>\n",
              "      <th></th>\n",
              "      <th></th>\n",
              "      <th></th>\n",
              "      <th></th>\n",
              "      <th></th>\n",
              "      <th></th>\n",
              "    </tr>\n",
              "  </thead>\n",
              "  <tbody>\n",
              "    <tr>\n",
              "      <th>570306133677760513</th>\n",
              "      <td>neutral</td>\n",
              "      <td>1.0000</td>\n",
              "      <td>NaN</td>\n",
              "      <td>NaN</td>\n",
              "      <td>Virgin America</td>\n",
              "      <td>NaN</td>\n",
              "      <td>cairdin</td>\n",
              "      <td>NaN</td>\n",
              "      <td>0</td>\n",
              "      <td>@VirginAmerica What @dhepburn said.</td>\n",
              "      <td>NaN</td>\n",
              "      <td>2015-02-24 11:35:52 -0800</td>\n",
              "      <td>NaN</td>\n",
              "      <td>Eastern Time (US &amp; Canada)</td>\n",
              "    </tr>\n",
              "    <tr>\n",
              "      <th>570301130888122368</th>\n",
              "      <td>positive</td>\n",
              "      <td>0.3486</td>\n",
              "      <td>NaN</td>\n",
              "      <td>0.0000</td>\n",
              "      <td>Virgin America</td>\n",
              "      <td>NaN</td>\n",
              "      <td>jnardino</td>\n",
              "      <td>NaN</td>\n",
              "      <td>0</td>\n",
              "      <td>@VirginAmerica plus you've added commercials t...</td>\n",
              "      <td>NaN</td>\n",
              "      <td>2015-02-24 11:15:59 -0800</td>\n",
              "      <td>NaN</td>\n",
              "      <td>Pacific Time (US &amp; Canada)</td>\n",
              "    </tr>\n",
              "    <tr>\n",
              "      <th>570301083672813571</th>\n",
              "      <td>neutral</td>\n",
              "      <td>0.6837</td>\n",
              "      <td>NaN</td>\n",
              "      <td>NaN</td>\n",
              "      <td>Virgin America</td>\n",
              "      <td>NaN</td>\n",
              "      <td>yvonnalynn</td>\n",
              "      <td>NaN</td>\n",
              "      <td>0</td>\n",
              "      <td>@VirginAmerica I didn't today... Must mean I n...</td>\n",
              "      <td>NaN</td>\n",
              "      <td>2015-02-24 11:15:48 -0800</td>\n",
              "      <td>Lets Play</td>\n",
              "      <td>Central Time (US &amp; Canada)</td>\n",
              "    </tr>\n",
              "    <tr>\n",
              "      <th>570301031407624196</th>\n",
              "      <td>negative</td>\n",
              "      <td>1.0000</td>\n",
              "      <td>Bad Flight</td>\n",
              "      <td>0.7033</td>\n",
              "      <td>Virgin America</td>\n",
              "      <td>NaN</td>\n",
              "      <td>jnardino</td>\n",
              "      <td>NaN</td>\n",
              "      <td>0</td>\n",
              "      <td>@VirginAmerica it's really aggressive to blast...</td>\n",
              "      <td>NaN</td>\n",
              "      <td>2015-02-24 11:15:36 -0800</td>\n",
              "      <td>NaN</td>\n",
              "      <td>Pacific Time (US &amp; Canada)</td>\n",
              "    </tr>\n",
              "    <tr>\n",
              "      <th>570300817074462722</th>\n",
              "      <td>negative</td>\n",
              "      <td>1.0000</td>\n",
              "      <td>Can't Tell</td>\n",
              "      <td>1.0000</td>\n",
              "      <td>Virgin America</td>\n",
              "      <td>NaN</td>\n",
              "      <td>jnardino</td>\n",
              "      <td>NaN</td>\n",
              "      <td>0</td>\n",
              "      <td>@VirginAmerica and it's a really big bad thing...</td>\n",
              "      <td>NaN</td>\n",
              "      <td>2015-02-24 11:14:45 -0800</td>\n",
              "      <td>NaN</td>\n",
              "      <td>Pacific Time (US &amp; Canada)</td>\n",
              "    </tr>\n",
              "  </tbody>\n",
              "</table>\n",
              "</div>"
            ],
            "text/plain": [
              "                   airline_sentiment  ...               user_timezone\n",
              "tweet_id                              ...                            \n",
              "570306133677760513           neutral  ...  Eastern Time (US & Canada)\n",
              "570301130888122368          positive  ...  Pacific Time (US & Canada)\n",
              "570301083672813571           neutral  ...  Central Time (US & Canada)\n",
              "570301031407624196          negative  ...  Pacific Time (US & Canada)\n",
              "570300817074462722          negative  ...  Pacific Time (US & Canada)\n",
              "\n",
              "[5 rows x 14 columns]"
            ]
          },
          "metadata": {
            "tags": []
          },
          "execution_count": 1
        }
      ]
    },
    {
      "cell_type": "code",
      "metadata": {
        "id": "tNr6o-thcB2p",
        "colab_type": "code",
        "colab": {
          "base_uri": "https://localhost:8080/",
          "height": 35
        },
        "outputId": "d07a7e67-44a5-46d2-a93b-91929c4fe2f4"
      },
      "source": [
        "tweets.shape"
      ],
      "execution_count": null,
      "outputs": [
        {
          "output_type": "execute_result",
          "data": {
            "text/plain": [
              "(14640, 14)"
            ]
          },
          "metadata": {
            "tags": []
          },
          "execution_count": 2
        }
      ]
    },
    {
      "cell_type": "markdown",
      "metadata": {
        "id": "XNeLzfPHcB2y",
        "colab_type": "text"
      },
      "source": [
        "### Proportion of tweets with each sentiment"
      ]
    },
    {
      "cell_type": "code",
      "metadata": {
        "id": "mFjp-wvncB2z",
        "colab_type": "code",
        "colab": {
          "base_uri": "https://localhost:8080/",
          "height": 88
        },
        "outputId": "4399481b-7575-4959-b0ae-029ad2d34ab9"
      },
      "source": [
        "tweets['airline_sentiment'].value_counts()"
      ],
      "execution_count": null,
      "outputs": [
        {
          "output_type": "execute_result",
          "data": {
            "text/plain": [
              "negative    9178\n",
              "neutral     3099\n",
              "positive    2363\n",
              "Name: airline_sentiment, dtype: int64"
            ]
          },
          "metadata": {
            "tags": []
          },
          "execution_count": 3
        }
      ]
    },
    {
      "cell_type": "markdown",
      "metadata": {
        "id": "lAOi4l29cB24",
        "colab_type": "text"
      },
      "source": [
        "### Proportion of tweets per airline\n"
      ]
    },
    {
      "cell_type": "code",
      "metadata": {
        "id": "TjBn2RC0cB25",
        "colab_type": "code",
        "colab": {
          "base_uri": "https://localhost:8080/",
          "height": 141
        },
        "outputId": "95347237-0de0-457f-f440-a361c41a75a2"
      },
      "source": [
        "tweets['airline'].value_counts()"
      ],
      "execution_count": null,
      "outputs": [
        {
          "output_type": "execute_result",
          "data": {
            "text/plain": [
              "United            3822\n",
              "US Airways        2913\n",
              "American          2759\n",
              "Southwest         2420\n",
              "Delta             2222\n",
              "Virgin America     504\n",
              "Name: airline, dtype: int64"
            ]
          },
          "metadata": {
            "tags": []
          },
          "execution_count": 4
        }
      ]
    },
    {
      "cell_type": "code",
      "metadata": {
        "id": "BIycaBkqcB2-",
        "colab_type": "code",
        "colab": {
          "base_uri": "https://localhost:8080/",
          "height": 395
        },
        "outputId": "ab0bd5b2-68c3-49f7-f51b-5fe25539d7fe"
      },
      "source": [
        "pd.Series(tweets[\"airline\"]).value_counts().plot(kind = \"bar\",figsize=(8,6),rot = 0)"
      ],
      "execution_count": null,
      "outputs": [
        {
          "output_type": "execute_result",
          "data": {
            "text/plain": [
              "<matplotlib.axes._subplots.AxesSubplot at 0x7f6b47d58fd0>"
            ]
          },
          "metadata": {
            "tags": []
          },
          "execution_count": 5
        },
        {
          "output_type": "display_data",
          "data": {
            "image/png": "[encoded data removed]",
            "text/plain": [
              "<Figure size 576x432 with 1 Axes>"
            ]
          },
          "metadata": {
            "tags": [],
            "needs_background": "light"
          }
        }
      ]
    },
    {
      "cell_type": "code",
      "metadata": {
        "id": "I4mR2M7DcB3D",
        "colab_type": "code",
        "colab": {
          "base_uri": "https://localhost:8080/",
          "height": 421
        },
        "outputId": "61d1b6d8-fbe1-4c95-fad0-39a71c882346"
      },
      "source": [
        "pd.crosstab(index = tweets[\"airline\"],columns = tweets[\"airline_sentiment\"]).plot(kind='bar',figsize=(10, 6),alpha=0.5,rot=0,stacked=True,title=\"Sentiment by airline\")"
      ],
      "execution_count": null,
      "outputs": [
        {
          "output_type": "execute_result",
          "data": {
            "text/plain": [
              "<matplotlib.axes._subplots.AxesSubplot at 0x7f6b47c48438>"
            ]
          },
          "metadata": {
            "tags": []
          },
          "execution_count": 6
        },
        {
          "output_type": "display_data",
          "data": {
            "image/png": "[encoded data removed]",
            "text/plain": [
              "<Figure size 720x432 with 1 Axes>"
            ]
          },
          "metadata": {
            "tags": [],
            "needs_background": "light"
          }
        }
      ]
    },
    {
      "cell_type": "markdown",
      "metadata": {
        "id": "iOXDWgwNcB3I",
        "colab_type": "text"
      },
      "source": [
        "# Exercise 12.1 \n",
        "\n",
        "Predict the sentiment using CountVectorizer\n",
        "\n",
        "use Random Forest classifier"
      ]
    },
    {
      "cell_type": "code",
      "metadata": {
        "id": "e1xkceZlcB3J",
        "colab_type": "code",
        "colab": {}
      },
      "source": [
        "from sklearn.model_selection import train_test_split, cross_val_score\n",
        "from sklearn.feature_extraction.text import CountVectorizer, TfidfVectorizer\n",
        "from sklearn.ensemble import RandomForestClassifier\n",
        "from nltk.stem.snowball import SnowballStemmer\n",
        "from nltk.stem import WordNetLemmatizer\n",
        "from sklearn.naive_bayes import MultinomialNB"
      ],
      "execution_count": null,
      "outputs": []
    },
    {
      "cell_type": "code",
      "metadata": {
        "id": "rz67VkQwcB3Q",
        "colab_type": "code",
        "colab": {}
      },
      "source": [
        "X = tweets['text']\n",
        "y = tweets['airline_sentiment'].map({'negative':-1,'neutral':0,'positive':1})\n"
      ],
      "execution_count": null,
      "outputs": []
    },
    {
      "cell_type": "markdown",
      "metadata": {
        "id": "OvqO0PzncB3U",
        "colab_type": "text"
      },
      "source": [
        "**crear matrices sparse con los tokens con la función countvectorizer**"
      ]
    },
    {
      "cell_type": "code",
      "metadata": {
        "id": "17ctH3wecB3V",
        "colab_type": "code",
        "colab": {}
      },
      "source": [
        "vect = CountVectorizer(lowercase=True)\n",
        "X_dtm = vect.fit_transform(X)"
      ],
      "execution_count": null,
      "outputs": []
    },
    {
      "cell_type": "code",
      "metadata": {
        "id": "uVGPT74XcB3a",
        "colab_type": "code",
        "colab": {
          "base_uri": "https://localhost:8080/",
          "height": 35
        },
        "outputId": "9d5e3826-0e66-421a-b36d-b44e7bd90cfe"
      },
      "source": [
        "df=X_dtm.todense()\n",
        "df\n",
        "print(df.shape)"
      ],
      "execution_count": null,
      "outputs": [
        {
          "output_type": "stream",
          "text": [
            "(14640, 15051)\n"
          ],
          "name": "stdout"
        }
      ]
    },
    {
      "cell_type": "markdown",
      "metadata": {
        "id": "cS79_xTOcB3g",
        "colab_type": "text"
      },
      "source": [
        "Con la función de vectorizer se crea una matriz sparse con 15051 columnas (palabras). En este caso no se ha hecho ningún tipo de limpieza al texto\n",
        "\n",
        "**lista de tokens**"
      ]
    },
    {
      "cell_type": "code",
      "metadata": {
        "id": "BzkE0C5vcB3h",
        "colab_type": "code",
        "colab": {
          "base_uri": "https://localhost:8080/",
          "height": 55
        },
        "outputId": "0bfae1f9-f098-4a5e-cf61-2a109e0dd916"
      },
      "source": [
        "print(vect.get_feature_names())"
      ],
      "execution_count": null,
      "outputs": [
        {
          "output_type": "stream",
          "text": [
            "['00', '000', '000114', '000419', '000ft', '000lbs', '0011', '0016', '00a', '00am', '00p', '00pm', '01', '0162389030167', '0162424965446', '0162431184663', '0167560070877', '0185', '01ldxn3qqq', '01pm', '02', '0200', '03', '0316', '0372389047497', '04', '0400', '04sdytt7zd', '05', '0510', '0530', '05am', '05pm', '06', '0600', '0638', '0671', '07', '0736', '0769', '07p', '07xhcacjax', '08', '0985', '0_0', '0bjnz4eix5', '0cevy3p42b', '0ewj7oklji', '0hmmqczkcf', '0hxlnvzknp', '0jjt4x3yxg', '0jutcdrljl', '0kn7pjelzl', '0liwecasoe', '0pdntgbxc6', '0prgysvurm', '0wbjawx7xd', '0xjared', '10', '100', '1000', '1000cost', '1001', '1002', '1007', '1008', '101', '1016', '1019', '1020', '1024', '1025', '1027', '1028', '103', '1030pm', '1032', '1038', '104', '1041', '1046', '105', '1050', '1051', '1058', '106', '1065', '1071', '1074', '1079871763', '108', '1080', '1081', '1086', '108639', '1089', '1098', '1099', '10a', '10am', '10d', '10f', '10hrs', '10m', '10min', '10mins', '10p', '10pm', '10th', '10tmthvfdc', '10voucherwhatajoke', '10x', '10x9x17', '10yr', '11', '110', '1101', '1102', '1106', '1108', '1109', '1114', '1117', '1119', '112', '1120am', '1125', '1130', '1130pm', '1133', '1136', '1137', '1138', '1140', '1142', '1146', '1152', '1153', '1156', '1159', '1161', '117', '1170', '1171', '1172', '118', '1180', '1181', '1183', '11a', '11am', '11c', '11pm', '11th', '12', '120', '1200', '1202', '1205', '1212', '1215pm', '1217', '1219', '122', '1220', '1222', '1225', '1226', '1228', '1229', '123', '1230', '1230am', '1235', '1239', '1242', '1247', '1249', '125', '1254', '125k', '1261', '1265', '127', '1272', '1274', '1278', '1285', '129', '1299', '12a', '12am', '12b', '12h', '12h30am', '12pm', '12th', '12thman', '13', '130', '1300', '130am', '1316', '1318', '132', '1320', '1326', '1330', '13341', '1337', '1338', '134', '1348', '135', '1357', '1359', '136', '1366', '1373', '138', '1384', '1388', '1389', '13ewr', '13pm', '13th', '14', '140', '1401', '1408', '1415', '1416', '1418', '1427', '1447', '1449', '1457', '145s', '1463', '1472', '1491', '14a', '14am', '14hrs', '14th', '15', '150', '1500', '150000', '150202', '150219', '1503', '1504', '150am', '1510', '1512', '1514', '152', '1528', '153', '1531', '1533', '1534', '1535', '154', '1542', '1544', '1547', '1552', '1553', '1555', '1557', '1558', '1562', '1565', '1568', '157', '1571aus', '1572', '1576', '1579', '1580', '1581', '1583', '1584', '1585', '1589', '159', '1591', '15am', '15lb', '15min', '15mins', '15minutes', '15p', '15th', '15yr', '16', '160', '1600', '1601', '1605', '1610', '1612', '1613', '1614', '1618', '162', '1620', '1623', '1625', '1627', '1629', '1632', '1636', '1640', '1641', '1642', '1644', '165', '1651', '1657', '1665', '1669', '167', '1672', '1675', '1679', '1680', '1684', '16866853', '1687', '1689', '1691', '16a', '16c9ex79rk', '16h', '16hr', '16mo', '16mont', '16th', '17', '170', '1700', '1701', '1702', '1703', '1706', '1707', '1708', '1712', '1715', '1729', '1735', '174', '1748', '175', '1750', '1758', '1761', '1769', '1773', '1776', '1777', '1783', '1786', '179', '1791', '1796', '1797', '1798', '17a', '17mph', '17pm', '17th', '18', '180', '1800', '18009174929', '1800flowers', '1800iflyswa', '1801', '1802', '1808', '1814', '1815', '1818', '1820', '1826', '1831', '1836', '1838', '1839', '184', '1843', '1848', '1851', '1855', '1856', '1857', '1861', '1870', '1874get', '1875', '188', '1881', '1891', '1898', '1899', '18feb', '18fmr06mn6', '18gal', '18hrs', '18th', '19', '190', '1903', '1907', '1914', '1917', '1918', '192', '1923', '1925', '1937', '1943', '1945', '1946', '195', '1951', '1966', '1970', '1971', '1997', '1999', '19b', '19jun', '19pm', '1a', '1aavvoreph', '1agr9kncpf', '1am', '1at', '1ateafnc6r', '1b', '1esmmnizek', '1f', '1g9rnmyuqe', '1h', '1h08', '1h40m', '1h45m', '1hour', '1hr', '1incncav4n', '1k', '1ker', '1l9scwphph', '1lesscustomer', '1m', '1m36ntptr8', '1mnth', '1of', '1other', '1per', '1person', '1pm', '1pm10', '1st', '1stclass', '1sttimeflyer', '1sywlmtzek', '1tfh2v0a7z', '1thingafteranother', '1tix', '1tzz0vbmbs', '1way', '1world', '1xdlbibclp', '1xzrk66wvq', '1yln1gx4qx', '1ywxrfn0gr', '1zt2kee8up', '20', '200', '2000', '2007', '2008', '2009', '200er', '200fee', '2010', '2011', '2012', '2013', '2014', '2015', '2016', '2017', '20171', '202', '2020', '2022', '2023', '203', '2031', '2034', '2046', '2053', '206', '2062', '2063', '2065', '2066', '2069', '2070', '2078', '2086', '209', '20feb15', '20hrs', '20k', '20l', '20min', '20mins', '20minute', '20minutes', '20pm', '20th', '20x15', '20years', '20yr', '21', '210', '2100', '2102', '210pm', '211', '2118', '2119', '211pilot', '2120', '2133', '2139', '214', '214i0rtih4', '2155', '2160', '2168', '218', '21feb15', '21l', '21mbps', '21p', '21st', '22', '2202', '2208', '2210', '2214', '2218', '2222', '2224', '223', '2238', '2244', '2247', '2251', '2258', '226', '2275', '2284', '2293', '2298', '22ipgeicsm', '22nd', '23', '2301', '2302', '230am', '2312', '2321', '2324', '2330', '2334', '2339', '2348', '235', '2350', '236', '2373', '2386', '2390', '2396', '23oct', '23rd', '23sep', '24', '240', '2401', '240minute', '2413', '2416', '2417', '2424', '2440', '245', '2463', '2464', '2470', '2488', '249', '2495', '2498', '24h', '24hours', '24hr', '24hrs', '24th', '25', '250', '250k', '2513', '2516', '2522', '253', '2559', '256746438028', '2586', '259', '2595', '25a', '25m', '25min', '25mins', '25mn', '25th', '25yrs', '26', '2600', '2601', '261093929756', '261633561838', '2646', '266', '2672', '2692', '2696', '26f', '26min', '26pm', '26th', '27', '2702', '2705', '2707', '275', '276', '277', '2771', '2792125083854', '27a', '27aitzl6nd', '27d', '27l', '27th', '28', '280', '285', '2851', '2888155964', '28apr', '28hrs', '28mar', '28th', '29', '290', '2917', '293', '2934', '295', '2954', '2955', '296', '2962', '297', '298033455', '299', '2990176298', '29daystogo', '2a', '2am', '2b', '2b4bdtldx2', '2bestfriends', '2boh2mh3cb', '2brt0athau', '2bwi', '2check', '2chng', '2d', '2day', '2days', '2dayslate', '2daysofhell', '2daysofunitedfailures', '2edgc6tbls', '2fails', '2gether', '2go', '2h30m', '2hours', '2hourwaitsucks', '2hr', '2hr15min', '2hr30', '2hr30min', '2hrs', '2hrs35minonhold', '2hxsdp0ha4', '2ikbp8gxwi', '2ir7ynmbdu', '2jul', '2k', '2k424j0', '2littlebirds', '2maro', '2min', '2mins', '2mm', '2morrow', '2morrw', '2nd', '2ndary', '2nite', '2npxb6obmr', '2nt', '2ny5tuxfqf', '2nzh3qoazo', '2of2', '2oz', '2plains', '2pm', '2pujvcelng', '2qjbcv5jzq', '2rent', '2rsw', '2spooky', '2thc9rkurt', '2trgemtebz', '2uaicfjrms', '2wks', '2x', '2xdaily', '2xjvun66zz', '2y', '2yo', '2yr', '2z3hgqprsg', '2z3jv73ilw', '2zm4jkalzl', '30', '300', '30000ft', '3001408092', '3001885409', '300er', '300rt', '300s', '304', '3040', '304min', '305', '3056', '307', '3075', '3076', '3078', '30a', '30am', '30k', '30min', '30mins', '30pm', '30th', '30timesenough', '31', '310', '3104', '3111', '3113', '3121', '3127', '3130', '3138', '314505529', '317', '3198', '31cfhtk60r', '31daysofoscar', '31f', '32', '320', '3200', '320008a', '3231dtw', '324', '325', '3252', '3260', '3267', '3277', '329', '33', '330', '33036', '3312', '3322', '333', '3336', '3345', '3349', '335', '3359', '336', '3367', '337', '338', '3387', '3389', '3397', '34', '340', '3403', '3415', '343', '3444', '345', '3458', '3466', '3472', '348', '3487', '3494', '3499', '34pm', '35', '350', '3500pts', '350pm', '3511', '3526665682', '353', '354', '356', '3574', '358', '3586', '3589', '359', '35a', '35k', '35pm', '35x', '36', '360', '3611', '3618', '362', '3636', '3659', '367', '3670', '36min', '37', '3709', '3710', '372', '3729', '3739', '374', '3744', '3745', '375', '3750', '3751', '376', '3763', '3768', '3781', '3797', '37d', '38', '380', '381', '3818', '382', '3825', '3837', '384', '3841', '3854', '386', '3860', '3866', '3867', '3870', '3875', '3880', '3883', '389', '3899', '38a', '38e', '38otlzak5d', '39', '390', '3900', '3913', '3923', '3933', '3935', '3937', '395', '3960', '3970', '3999', '3a', '3am', '3d', '3days', '3dcwerz1kr', '3ddqq0gqni', '3fhes0lpmu', '3fq3xelbon', '3hourdelay', '3hours', '3hr', '3hr30min', '3hrdelay', '3hrs', '3khgjofgpx', '3kvkd8yrxa', '3lpvfhky2f', '3ltx7jkbo9', '3m', '3min', '3months', '3nsusfsbpv', '3oq1t4ohjl', '3pm', '3qyezhjgsb', '3rd', '3rdtimethishashappened', '3thparty', '3ticketsforjax', '3ubcoasyws', '3x', '3x9nruovts', '3xdaily', '3xweekly', '3yr', '3zpjr7kwbk', '3zzkqwwbjz', '40', '400', '4001', '4007', '4009', '400er', '400s', '4011', '4016', '4016688561', '402', '4028', '403', '4035', '404', '4040', '4047', '4050', '4053', '407', '408', '409', '4097', '40am', '40k', '40min', '40mins', '40pm', '40th', '41', '411', '4110', '4124', '4125', '413', '413gial0yl', '4146', '415', '4158', '416', '417', '4179', '419', '4199', '41am', '41cgqueen', '41g', '41min', '42', '4200', '4210', '4223', '4229', '423', '4232', '424', '4251', '425pm', '4275', '4278', '428', '4285', '4297', '43', '430', '4302', '430am', '4315', '4322', '433', '4333', '4348', '435', '436', '4369', '437', '4372', '4386', '43rd', '44', '440', '4404', '441', '4411', '4420', '4424', '442998', '4435', '4438', '4439', '443min', '4443', '445', '4454', '445pm', '4461', '4464', '4465', '4467', '4469', '4471', '4473', '4478', '4487', '449', '4491', '44pm', '44stocker', '44zhmfdiw6', '45', '450', '4500', '4505', '4524', '453', '4532', '454', '455', '4553', '456', '4565', '4567', '4569', '457', '4583', '4591', '4595', '45am', '45hrs', '45ktssk18j', '45min', '45minflight', '45mins', '45minutes', '45pm', '46', '460', '4603', '4606', '4609', '462', '4628', '463', '464', '4649', '4651', '4663', '46am1bsi2g', '46min', '46mins', '46n9kdcsxu', '47', '470', '471', '472', '4720', '475', '4781', '479', '48', '480', '4827', '4828', '4840', '4841', '486', '489', '48hrs', '49', '4914', '493', '494', '495', '496', '4968', '4972', '4994', '49flbgzzkd', '49min', '49pv3kchnr', '4am', '4c', '4days', '4g0k0z2rei', '4geiger', '4gr39s91dl', '4h2m', '4helped', '4hr', '4hrs', '4jdvk8tcqx', '4jun', '4kbtzvju3b', '4kh92mkotz', '4ki6xr67nk', '4klfywwmq1', '4ktk2hsmgy', '4llwi5oxvo', '4me', '4mqfmxebxt', '4oje523ptw', '4ojrsdwpkk', '4pm', '4ponj3jide', '4q', '4rl0p5jchb', '4sfpcbyy9m', '4th', '4that', '4urzvbpjko', '4ward', '4x', '4y78byackc', '4yr', '50', '500', '5000', '5001', '501', '5012', '5015', '502', '503', '504', '505', '5077', '5080', '5084773604', '5095', '5097', '50am', '50hrs', '50k', '50lbs', '50m', '50min', '50minssss', '50pm', '50th', '51', '5102newflight', '512', '5129', '5136', '5137', '513mph', '514', '5141', '5163', '518', '5182', '5187', '51pm', '52', '5202', '5203', '521', '5223', '5237', '5238', '525', '5268', '528', '5283', '529557', '53', '530', '5302', '5320', '533', '5347', '5348', '5350', '539', '5392', '5396', '54', '5418', '5431', '544', '545', '547', '5491', '54pm', '55', '550', '5530', '5534', '5545', '5547', '555', '55558000', '5559', '555phltoslc', '556', '558', '559', '5594', '55am', '55min', '55mins', '55pm', '56', '561', '5612', '5639', '5644', '5653', '566', '56essfoowt', '57', '5713', '5721', '5722', '574', '577', '578', '57am', '58', '580815', '581', '584', '587', '587701925count', '589', '58b7swrpmq', '58tutgli0d', '59', '5903', '5957', '597', '5979', '599', '59pm', '5a', '5am', '5ammisery', '5b2agfd8c4', '5cdx2roae6', '5cwh1yfoow', '5db9esbnzg', '5fmipw9dhi', '5h2m', '5hours', '5hourwait', '5hpsqvrjk8', '5hr', '5hrs', '5hs', '5imdckodfx', '5kshtue6q0', '5lb', '5lbs', '5on3klzvmt', '5pm', '5pvg2hjxkp', '5sdlyn9mss', '5sep', '5siczx1oez', '5t4fpcgrej', '5th', '5txu5tsfkj', '5xgnyhgafz', '5xvnnmltiw', '5xweekly', '5yrs', '5z9styuqj3', '5znmwxdi9u', '60', '600', '6000', '600117', '600mph', '601', '603', '604', '605', '606', '60th', '610', '611', '614', '616', '6166', '617', '6170', '618', '619', '62', '620', '6212', '622', '623', '6232', '628', '62godfaknb', '630', '630a', '631', '633', '634', '6344', '635', '636', '6373', '6377', '639', '639p', '63zaq2lt8f', '640', '644', '645', '6457', '6475', '648', '6491', '64gb', '64kn6geep8', '65', '6500', '651', '653', '6533', '654', '656', '657', '6600', '666', '667', '668', '669', '66nxzhbbmt', '67', '670', '672', '673', '675', '676', '67k4n9eq6e', '68', '680', '681', '683', '684', '686', '689', '69', '691', '694', '695', '699', '6a', '6am', '6asuwx3kv0', '6cgfv02gzb', '6cpypgfnd6', '6delays', '6f', '6h5uezh4cv', '6hjucp694l', '6hour', '6hr', '6hrs', '6in', '6k', '6kp4m0r1f7', '6kpyhcka9l', '6kqlhvap7g', '6may', '6mbk79mdnw', '6mbvjflpbm', '6mos', '6pm', '6redd3vc73', '6rlz0ebk2x', '6sep', '6th', '6ttzejv3hy', '6tz6imqzlg', '6uxwpadugs', '6wks', '6x', '6yo', '6zj6l2ztua', '70', '700', '702', '703', '704', '705', '70f', '70min', '70oz', '70plus', '70s', '71', '711', '713', '714', '715', '717', '719', '71a', '72', '723', '725', '728', '729', '72h', '72rmpkogwu', '73', '730', '7300', '730a', '730pm', '732', '734', '736', '737', '738', '74', '740', '7403607771', '740pm', '742', '745', '746', '747', '748', '7498', '75', '750', '751', '755', '755vpym4mv', '757', '757s', '758', '759', '75yo', '763', '763s', '767', '768', '769', '77', '7700', '771', '776', '777', '778aztdaer', '779', '77min', '78', '781', '787', '787s', '788', '79', '790', '791', '795', '799', '79wajk7eyt', '7a', '7am', '7apr', '7br5t5qcxk', '7c', '7d', '7dm2j8h97m', '7e5bxwg16t', '7f', '7gb0hgw51t', '7hours', '7hrs', '7im9rhivyr', '7min', '7pm', '7pofsxojsy', '7stktjxan1', '7t1rdrcre6', '7th', '7ujt8vtcpa', '7vee44macm', '7x8', '7x9usbj2fv', '7xmav13g2w', '7z3gqebfk2', '80', '800', '8000', '8004337300', '800iflyswa', '800w', '802', '805', '806', '8088', '80s', '80sweresomuchfun', '80th', '81', '810', '813', '815', '816', '8162', '82', '820pm', '823', '826', '826pkiq5hi', '8273993', '83', '830', '833', '834', '835', '837', '838', '8441639', '8465981', '8473573', '8477733', '849', '85', '850', '8544484', '856', '858', '85832', '86', '8602947', '863', '87', '871', '8719519', '877', '878', '879', '87yearslate', '88', '880', '882', '883', '89', '890', '891', '893', '894', '898', '899', '89gkyuf1qh', '89ish', '8a', '8am', '8aug', '8b', '8c', '8d', '8dqzlrjo9p', '8e', '8fkqw', '8fmzzoltv9', '8h', '8h4', '8hh0c63tie', '8hh4p2', '8hr', '8hrs', '8jcediky9u', '8je1h3666w', '8mwitri9kf', '8o3scr5efw', '8oz', '8pm', '8q6mfd', '8qsqmm7kf2', '8th', '8thtime5monthsold', '8tjuum22dd', '8uxzj2', '8vnckgzxl1', '8wbzorrn3c', '8x7xvm', '8yr', '90', '900', '900s', '901', '901hlngbtx', '904am', '906', '909', '90min', '90mins', '90s', '910', '912', '914', '9148445695', '915', '917', '918', '918j_a', '919', '930', '930pm', '94', '947', '94lxa62', '95', '952', '953', '955', '959', '96', '964012', '964077', '964078', '96apr35qan', '96ftlzwtvo', '96sctomh29', '98', '989', '99', '992', '994', '99999999', '9a', '9abc', '9am', '9bzqzqx8dc', '9c', '9eueyxawcv', '9gx5mmmubb', '9h', '9hour', '9hr', '9hrs', '9may', '9meozbo4xl', '9news', '9newsbusiness', '9nivw9ftzw', '9pm', '9r9omzqavi', '9ragncw2bk', '9rx5homm25', '9shhtvioti', '9skrlyrz1o', '9tbsjquw41', '9trvfncedl', '9unxqotzik', '9v8tmusjvu', '9vkj9s7jrm', '9vtfm7knad', '9xbo5dakak', '9xkiy0kq2j', '9year', '9za6xb1h89', '9º', '__rwg__', '_austrian', '_defcon_', '_emmaclifford', '_exact_', '_justdippin_', '_lucy_may', '_robprice', 'a0yosjhzmc', 'a1', 'a15', 'a18', 'a1choxkpjp', 'a20', 'a3', 'a30', 'a319', 'a320', 'a321', 'a330', 'a37n3ohokl', 'a380s', 'a3ycflalxv', 'a3zz0f', 'a4', 'a49', 'a587cw', 'a60', 'a68d5fulmh', 'a7nvbj8ipx', 'a8', 'a9', 'a_life_story_', 'aa', 'aa104', 'aa106', 'aa1061', 'aa1103', 'aa111', 'aa1119', 'aa1224', 'aa1237', 'aa1344', 'aa138', 'aa1401', 'aa1457', 'aa1458', 'aa1469', 'aa153', 'aa157', 'aa1657', 'aa1675', 'aa1679', 'aa1691', 'aa199', 'aa200', 'aa215', 'aa2227', 'aa223', 'aa2334', 'aa2401', 'aa2402', 'aa2416', 'aa2444', 'aa2450', 'aa2595', 'aa291', 'aa2924', 'aa3031so', 'aa304', 'aa3074', 'aa3181', 'aa3186', 'aa3195', 'aa3230', 'aa3370', 'aa3390', 'aa3465', 'aa3490', 'aa362', 'aa363', 'aa3688', 'aa375', 'aa4285', 'aa45', 'aa5', 'aa504', 'aa5411', 'aa65', 'aa67', 'aa76', 'aa91', 'aa919', 'aa951', 'aa953', 'aa973', 'aa977', 'aaaand', 'aaadvantage', 'aaalwayslate', 'aacustomerservice', 'aadavantage', 'aadelay', 'aadv', 'aadvantage', 'aafail', 'aal', 'aal65', 'aaron', 'aarp', 'aateam', 'aau9mka6zy', 'aay5avg99b', 'ab', 'aback', 'abandon', 'abandoned', 'abandonment', 'abassinet', 'abbreve', 'abc', 'abc11_wtvd', 'abc7newsbayarea', 'abcletjetbluestreamfeed', 'abcnetwork', 'abcnews', 'abducted', 'abi', 'abigailedge', 'abilities', 'ability', 'able', 'aboard', 'aboout', 'abounds', 'about', 'above', 'abq', 'abroad', 'absolute', 'absolutely', 'absorb', 'absorber', 'absoulutely', 'absurd', 'absurdity', 'absurdly', 'abt', 'abundance', 'abuse', 'abused', 'abysmal', 'ac', 'ac6zwmuoon', 'acarl4', 'acc', 'accelerate', 'accept', 'acceptable', 'accepted', 'accepting', 'acces', 'access', 'accessibility', 'accessible', 'accessing', 'accident', 'accidentally', 'accidents', 'accomidating', 'accommodate', 'accommodated', 'accommodates', 'accommodating', 'accommodation', 'accommodations', 'accompaniments', 'accompany', 'accomplish', 'accomplished', 'according', 'accordingly', 'account', 'accountability', 'accountable', 'accounts', 'accrue', 'accruing', 'acct', 'accts', 'accumulation', 'accurate', 'accurately', 'accuratetraveltimes', 'accused', 'acebo6elpa', 'achieve', 'achieves', 'achieving', 'ack', 'acknowledge', 'acknowledgement', 'acknowledgment', 'acnewsguy', 'acosta', 'acoustic', 'acpt', 'acquire', 'acquired', 'acquisition', 'across', 'act', 'acted', 'acting', 'actingoutmgmnt', 'action', 'actions', 'activate', 'activated', 'active', 'active_aly', 'actively', 'activities', 'activity', 'acts', 'actual', 'actually', 'actualy', 'acu', 'acy', 'ad', 'ada', 'adam', 'adam_karren', 'adams', 'adapted', 'add', 'addair', 'added', 'adding', 'addition', 'additional', 'additionally', 'additonal', 'addr', 'address', 'addressed', 'addresses', 'addressing', 'adds', 'addtl', 'adjacent', 'adjusting', 'adjustment', 'adjustments', 'admin', 'admiral', 'admirals', 'admiralsclub', 'admit', 'admitted', 'adolfo', 'adopted', 'adopting', 'adore', 'adress', 'ads', 'adult', 'adv', 'advan', 'advance', 'advantage', 'adventure', 'advertise', 'advertised', 'advertising', 'advice', 'advis', 'advise', 'advised', 'advising', 'advisories', 'advisory', 'advsry', 'aegeanairlines', 'aerocivilcol', 'aerojobmarket', 'aeroport', 'aesthetics', 'aex', 'af', 'affairs', 'affect', 'affected', 'affecting', 'affects', 'affiliate', 'affiliated', 'affiliates', 'afford', 'affordable', 'afiliates', 'aflame', 'aforementioned', 'afraid', 'african', 'aft', 'after', 'after2', 'afterall', 'afternoon', 'afterward', 'aftr', 'again', 'against', 'agcommunity', 'age', 'aged', 'agencies', 'agency', 'agent', 'agents', 'ages', 'aggiemensgolf', 'aggravated', 'aggravating', 'aggravation', 'aggressive', 'agian', 'aging', 'agnt', 'ago', 'agpb45v8wt', 'agree', 'agreed', 'agreement', 'agt', 'agts', 'ah', 'aha', 'ahah', 'ahead', 'ahem', 'ahhhh', 'ahhhhh', 'ahlxhhkiyn', 'ahold', 'ahoy', 'ai0yzwt8za', 'aiecraft', 'aif2015', 'ailing', 'aim', 'aimed', 'ain', 'air', 'airborne', 'airbus', 'airbus321seat14fproblems', 'airbusintheus', 'aircanada', 'aircargo', 'aircraft', 'aircrafts', 'aircrft', 'aired', 'aires', 'airfare', 'airfares', 'airfarewatchdog', 'airline', 'airlineadviser', 'airlinegave', 'airlinegeeks', 'airlineguys', 'airlinequality', 'airliner', 'airlines', 'airlinesecurity', 'airnzusa', 'airplane', 'airplanemodewason', 'airplanes', 'airport', 'airport_fra', 'airportcardio', 'airports', 'airpt', 'airserv', 'airside', 'airsouthwest', 'airspace', 'airstairs', 'airtahitinui', 'airtran', 'airway', 'airways', 'ais', 'aisle', 'aisles', 'aiyc9wv5oq', 'ajm3bhjvaa', 'aka', 'akron', 'al', 'alabama', 'alamo', 'alan', 'alan_bledsoe', 'alarm', 'alas', 'alaska', 'alaskaair', 'alavera', 'alb', 'albany', 'albanyairport', 'albeit', 'albertbreer', 'albums', 'albuquer', 'albuquerque', 'alcohol', 'alert', 'alerted', 'alerts', 'alex', 'alfamilyoffour', 'ali', 'alicia', 'aligned', 'alison', 'alist', 'alistpreferred', 'alittle', 'alittlebetter', 'alive', 'all', 'allan', 'allegiantair', 'allegianttravel', 'allende', 'allergic', 'allergies', 'allergy', 'alleviate', 'allgood', 'alliance', 'allll', 'allow', 'allowabl', 'allowable', 'allowance', 'allowances', 'allowed', 'allowing', 'allows', 'allready', 'allrepresentativesbusy', 'allright', 'allyoucanjetpass', 'almost', 'alone', 'along', 'alot', 'already', 'alreadyrebookedonce', 'alright', 'als', 'also', 'alsonodrinkcartcomingaround', 'alsoyayforsnacks', 'alstdi', 'alt', 'alternate', 'alternative', 'alternatively', 'alternatives', 'although', 'altitude', 'altonbrownlive', 'alway', 'always', 'alwaysdelayed', 'alwaysdelayedonunited', 'alwayshappensthere', 'alwayslate', 'alynewton', 'am', 'am9cuiewo4', 'amagrino', 'amarillo', 'amateur', 'amateurish', 'amateurs', 'amaze', 'amazed', 'amazing', 'amazingflightcrew', 'amazingly', 'amazings', 'amazon', 'ambassador', 'ambivalence', 'amen', 'amend', 'amenities', 'amenity', 'america', 'american', 'americanair', 'americanairbr', 'americanairlines', 'americanairlinesfail', 'americanairlnes', 'americanairsucks', 'americandairlinessucks', 'americanforlife', 'americanisbetter', 'americanone', 'americans', 'americant', 'americanview', 'amex', 'amexserve', 'amid', 'amiga', 'amiltx3', 'amin_aur', 'amirite', 'amm', 'amnt', 'among', 'amongst', 'amount', 'amounts', 'amp', 'ams', 'amsterdam', 'amt', 'amtrak', 'amy', 'amybruni', 'amypoehler', 'an', 'ana', 'analyst', 'analystdoc', 'analysts', 'analytics', 'anamarketers', 'anaphylaxis', 'anarchy', 'anchorage', 'and', 'andchexmix', 'anderson', 'andrew', 'andrew_wasila', 'andrewbiga', 'andrewfallis', 'andrews', 'android', 'andthewinneris', 'andyellwood', 'aneqxzr4bp', 'angel', 'angeles', 'angelo', 'angering', 'angle', 'angriest', 'angry', 'angryairtravel', 'angryandsober', 'angrybird', 'angrycustomer', 'angrytraveler', 'angst', 'anhour', 'animal', 'animals', 'anku', 'ann', 'anna', 'annamarie', 'annebevi', 'annettenaif', 'anni', 'anniversary', 'annnndddd', 'annnnddddd', 'annnnnd', 'announce', 'announced', 'announcement', 'announcements', 'announcer', 'announces', 'announcing', 'annoyed', 'annoying', 'annricord', 'annual', 'another', 'anotherdisappointment', 'anotherfail', 'ans', 'ansleyhutson', 'answer', 'answered', 'answering', 'answerphone', 'answers', 'answerthephone', 'answerthis', 'ant', 'ant_kneee', 'anthony', 'anti', 'anticipate', 'anticipating', 'anticipation', 'antigua', 'antitrust', 'antonio', 'anxiety', 'anxious', 'any', 'any1', 'anybody', 'anyhelp', 'anymore', 'anyone', 'anyone40min', 'anyonethere', 'anythin', 'anything', 'anytime', 'anyway', 'anyways', 'anywhere', 'aoeaeszdlx', 'ap', 'apart', 'apathetic', 'apathy', 'apeared', 'api', 'apnea', 'apollochplayers', 'apologies', 'apologise', 'apologize', 'apologized', 'apologizes', 'apologizing', 'apology', 'apostrophe', 'apostrophefail', 'app', 'appalled', 'appalling', 'apparent', 'apparently', 'appealing', 'appear', 'appeared', 'appears', 'appease', 'applaud', 'applauded', 'applause', 'apple', 'applepay', 'appleton', 'applicable', 'application', 'applications', 'applied', 'applies', 'apply', 'applying', 'appointed', 'appointment', 'appointments', 'appreciate', 'appreciated', 'appreciates', 'appreciation', 'approach', 'approaching', 'appropriate', 'appropriately', 'appropriation', 'approproately', 'approval', 'approvals', 'approve', 'approved', 'approx', 'approximate', 'approximately', 'apps', 'appt', 'april', 'apron', 'aprzspxige', 'apt', 'aptzpurop4', 'apx', 'apy3zlsquu', 'aqjn4hwnac', 'aquadilla', 'aqzwecokk2', 'ar', 'ar0vaylmfc', 'arab', 'arbitrarily', 'arbitrary', 'arc', 'archaic', 'ardent', 'are', 'area', 'areas', 'aren', 'arena', 'arent', 'ares', 'areyounew', 'argentina', 'argg', 'argh', 'argue', 'argued', 'argueing', 'arguing', 'argument', 'arizona', 'arkansas', 'arminrosen', 'armrest', 'arms', 'army', 'arose', 'around', 'arpt', 'arrange', 'arranged', 'arrangement', 'arrangements', 'arrival', 'arrivals', 'arrive', 'arrived', 'arrives', 'arriving', 'arrogant', 'art', 'article', 'artisanal', 'aruba', 'aruba_airport', 'aruna', 'arvls', 'as', 'asap', 'asarco_es_ar', 'ase', 'ase24766m', 'asgmnt', 'asha', 'ashamed', 'ashes', 'ashevilleair', 'ashley', 'ashleykatherton', 'asia', 'aside', 'ask', 'askamex', 'asked', 'asking', 'askpaypal', 'asks', 'asleep', 'aspen', 'aspenbaggagefail', 'ass', 'assaulted', 'assed', 'asses', 'asset', 'assets', 'asshole', 'assholes', 'assign', 'assigned', 'assignment', 'assignments', 'assist', 'assistance', 'assistant', 'assisted', 'assisting', 'associated', 'assuage', 'assult', 'assume', 'assumed', 'assuming', 'assurance', 'assurances', 'assure', 'assured', 'assuring', 'astoria', 'astounded', 'astounding', 'astounds', 'asus', 'asw6qwuf1z', 'asyqe1tdjp', 'at', 'atc', 'atct', 'atd2sm8hf4', 'atfrkp6goy', 'ath', 'athlete', 'athletes', 'atl', 'atlanta', 'atlantic', 'atleast', 'atrocious', 'att', 'attach', 'attached', 'attackingbabymomma', 'attained', 'attdt', 'attempt', 'attempted', 'attempting', 'attempts', 'attend', 'attendant', 'attendants', 'attended', 'attendees', 'attendent', 'attendents', 'attending', 'attention', 'attentive', 'attentiveness', 'attire', 'attitude', 'attitudeissues', 'attitudes', 'attitudy', 'attndt', 'atwonline', 'atwyifh6zy', 'atx', 'au', 'au1066', 'auciello', 'auckland', 'aucsykfuhd', 'auction', 'audience', 'audio', 'audition', 'auditorium', 'auf', 'aufm4xdaj2', 'aug', 'augjscmolu', 'august', 'auh', 'aumilo1', 'aunties', 'aunts', 'aurn07pwd4', 'aurorabiz', 'aus', 'aussie', 'austic', 'austin', 'austinairport', 'australia', 'austrian', 'authoritative', 'authority', 'authorize', 'authors', 'auto', 'automated', 'automatic', 'automatically', 'automobiles', 'autoresponse', 'av', 'av2rffhmcv', 'av_duffy', 'avail', 'availab', 'availability', 'available', 'avalible', 'avalonhollywood', 'avatars', 'avbdstjujs', 'avenue', 'average', 'averaging', 'averted', 'avgeek', 'aviation', 'avios', 'avis', 'aviv', 'avoid', 'avoidable', 'avoided', 'avoiding', 'avon', 'avp', 'avrtowtyzk', 'avyqdmpi1y', 'aw', 'await', 'awaiting', 'awake', 'award', 'awards', 'aware', 'away', 'awe', 'awe1701', 'awe474', 'aweful', 'awesome', 'awesomeee', 'awesomeness', 'awful', 'awfulcustomerservice', 'awfully', 'awfulness', 'awgjkjiiac', 'awheelchair', 'awhile', 'awkward', 'awol', 'awrd', 'aww', 'awww', 'awwweesssooomee', 'axpn28xiqb', 'axryeiwzh0', 'ay', 'ay1gidcfa4', 'aye', 'aygaoeb6uu', 'aypyaduy6a', 'ayyy', 'az', 'azltjhf7lv', 'b1', 'b11', 'b12', 'b13', 'b15', 'b16', 'b18', 'b2xi4yg5t8', 'b3', 'b36a', 'b4', 'b40', 'b44', 'b46', 'b4xhirugzv', 'b5ttno68xu', 'b6', 'b737', 'b738', 'b767', 'b777', 'b787', 'b787fans', 'b8', 'b91', 'ba', 'ba1506', 'ba1551', 'ba_usa', 'babies', 'baby', 'babyfood', 'bach', 'bachelorpartymishap', 'back', 'backed', 'backhome', 'backing', 'backlog', 'backpack', 'backpacks', 'backroads', 'backs', 'backtodelta', 'backtowinter', 'backup', 'backwards', 'backyard', 'bad', 'bad4business', 'badairline', 'badbadbad', 'badbusiness', 'badbussiness', 'badcustomerexperience', 'badcustomerservice', 'badcustomersrvice', 'bademployeeproblem', 'badge', 'badges', 'badly', 'badmgmt', 'badpolicy', 'badservice', 'badwebsite', 'bae', 'baejet', 'bafore', 'baftz', 'bag', 'bagage', 'bagawim', 'baggage', 'baggagedrama', 'baggagefail', 'baggageissues', 'baggagelost', 'baggages', 'bags', 'bagsflyfree', 'bagsflyfreebutnotwithme', 'bagtag', 'bahamas', 'bailed', 'bailey', 'bait', 'baitandswitch', 'baked', 'baking', 'balance', 'balancing', 'baldordash', 'baldwin', 'ball', 'ballbag', 'ballin', 'balloons', 'balls', 'balt', 'baltimore', 'banana', 'band', 'bandie', 'bands', 'bandwidth', 'bangkok', 'bank', 'bankrupt', 'bankruptcies', 'bankruptcy', 'banned', 'banning', 'bape6rumne', 'bar', 'barbados', 'barbara', 'barclay', 'barclaycardus', 'barclays', 'barcodes', 'barely', 'barking', 'barklays', 'barnum', 'barrel', 'barrettkarabis', 'barrier', 'barriers', 'bars', 'barzegar', 'base', 'based', 'bashing', 'basic', 'basically', 'basics', 'basket', 'basketball', 'bass', 'bastards', 'bathroom', 'bathrooms', 'batman', 'batteries', 'battery', 'battierccipuppy', 'batting', 'battle', 'battles', 'battling', 'bay', 'bayepzkmiz', 'bbaonx9txd', 'bbb_media', 'bbbne_sd_ks_ia', 'bbhtlzgh2c', 'bbj6kmtyul', 'bbm6pabort', 'bbzijwfdl3', 'bc', 'bcn', 'bcs', 'bcuz', 'bcwckwtnle', 'bcz', 'bd', 'bd5tvr3gcy', 'bday', 'bdindallas', 'bdl', 'bdng', 'bdsm', 'bduauzfhw2', 'be', 'be0b4k1xbt', 'be4', 'beach', 'beaches', 'beamske', 'beanie', 'beans', 'beantownmatty', 'bear', 'bearable', 'beareavement', 'beat', 'beating', 'beatriz', 'beats', 'beatsmusic', 'beatstheothers', 'beautiful', 'beautifull', 'beautifully', 'beauty', 'bebetter', 'bec', 'became', 'because', 'becky', 'become', 'becomes', 'becoming', 'becuase', 'becuz', 'bed', 'bedofroses', 'beefjerky', 'been', 'been3hours', 'beer', 'beers', 'befor', 'before', 'beg', 'began', 'begging', 'begin', 'beginning', 'begins', 'begrudgingly', 'begun', 'behalf', 'behave', 'behaves', 'behavior', 'behind', 'beijing', 'bein', 'being', 'beingsuckontarmacsucks', 'belabor', 'belfast', 'belfastairport', 'belief', 'believable', 'believe', 'believing', 'belize', 'bellagio', 'belligerent', 'belong', 'belongings', 'beloved', 'below', 'belt', 'ben', 'benadryl', 'bench', 'bene', 'beneficial', 'benefit', 'benefits', 'benjaminokeefe', 'bensonhenderson', 'beought', 'beqotlnugc', 'bereavement', 'bergstrom', 'berlin', 'bernhardtjh', 'bershawnjackson', 'besides', 'best', 'bestairline', 'bestairlineever', 'bestcrew', 'bestdressed', 'bestemployees', 'bestflightever', 'bestfriend', 'bestinclass', 'bestinclasssocial', 'bestplanesever', 'besty', 'bet', 'beta', 'betch', 'bethonors', 'betsy', 'better', 'betting', 'bettween', 'betty', 'between', 'beverage', 'beverages', 'bevies', 'beware', 'beyond', 'bf', 'bff', 'bffs', 'bfpfw6eyku', 'bg', 'bg0kwm', 'bgm', 'bgr', 'bgr1061', 'bgtjfmneot', 'bham', 'bhm', 'bhooiyt6zq', 'bhx_official', 'bible', 'biceps', 'bicycle', 'bicycles', 'bid', 'big', 'bigger', 'biggest', 'biggie', 'bike', 'bikes', 'bil', 'bila', 'bill', 'billed', 'billing', 'billions', 'billmelate', 'bills', 'bin', 'bingo', 'bins', 'bio', 'bird', 'birder', 'birds', 'birmingham', 'birth', 'birthdate', 'birthday', 'birthdays', 'births', 'biscuits', 'bish', 'bit', 'bitch', 'bitchy', 'bitcoin', 'bite', 'bites', 'bitty', 'biz', 'bizarre', 'bizness', 'biztravel', 'bk', 'bked', 'bkk', 'bkmfey7qol', 'black', 'blackberry10', 'blacked', 'blackhistorymonth', 'blackish', 'blacklist', 'blacklivesmatter', 'blackmailed', 'blade', 'blah', 'blame', 'blamed', 'blames', 'blameshiftoverload', 'blaming', 'blanc', 'blank', 'blanket', 'blankets', 'blast', 'blasting', 'blatant', 'blatantly', 'blatimore', 'blazer', 'bleed', 'blegh', 'bleh', 'bless', 'blessed', 'blew', 'blind', 'blindsided', 'bliss', 'blizzard', 'blizzue', 'bloated', 'block', 'blocked', 'blocking', 'blog', 'blood', 'bloody', 'bloodymary', 'bloombergnews', 'bloombergradio', 'blow', 'blowing', 'blown', 'blows', 'blue', 'bluecarpet', 'blueheros', 'bluemanity', 'bluetiful', 'blumanity', 'blushing', 'bm2unraoni', 'bm9o2k5x5j', 'bmi', 'bna', 'bnasnow', 'bnflhpxtmw', 'bng', 'bngpli8jt6', 'board', 'boarded', 'boarding', 'boardingpass', 'boards', 'boat', 'bobbi', 'bobwesson', 'body', 'boeing', 'boeingairplanes', 'boggling', 'bogota', 'bogotá', 'bohnjai', 'bohol', 'boiled', 'boise', 'bold', 'boldflavors', 'bom', 'bone', 'bonnie', 'bonsinthesky', 'bonus', 'bonuses', 'boo', 'boofin', 'book', 'bookable', 'booked', 'booking', 'booklet', 'bookofnegroes', 'books', 'bool', 'boom', 'booo', 'boooo', 'boost', 'booster', 'boot', 'bootbag', 'booted', 'boots', 'booze', 'bops', 'bora', 'border', 'borderline', 'bored', 'born', 'borrow', 'bos', 'bosnia', 'boson', 'boss', 'boston', 'bostonbbb', 'bostongarden', 'bostonlogan', 'bot', 'botched', 'both', 'bother', 'bothered', 'bots', 'bottle', 'bottles', 'bottom', 'bought', 'bougth', 'bounce', 'bounced', 'bouncer', 'bounces', 'bound', 'boundless', 'bourbon', 'bout', 'bowl', 'box', 'boy', 'boycott', 'boyfriend', 'boyfriends', 'boys', 'bozos', 'bpdfpp', 'bqn', 'bqonpa', 'bracket', 'bradley', 'bradley_airport', 'brag', 'bragged', 'bragging', 'brain', 'brancato', 'brand', 'brandi', 'branding', 'brandloveaffair', 'brandmance', 'brands', 'brandssayingbae', 'branson', 'brave', 'braved', 'braving', 'bravo', 'brazil', 'brcsjbxg2s', 'brd', 'breach', 'bread', 'break', 'breakdown', 'breaker', 'breakfast', 'breaking', 'breaks', 'breakup', 'breast', 'breastfeeding', 'breath', 'breathe', 'breathing', 'breavement', 'breeze', 'breezy', 'brendan', 'brendanpshannon', 'brent', 'bretharold', 'brewcrewfan8', 'brian', 'brianregancomic', 'briansumers', 'bride', 'bridesmaid', 'bridge', 'bridges', 'briefings', 'bright', 'brighter', 'brilliant', 'bring', 'bringbackrealstaff', 'bringbacktheluvtordu', 'bringin', 'bringing', 'brings', 'bringyourown', 'brink', 'brisk', 'british_airways', 'brittany', 'brittanyobx11', 'briughy', 'brizzyberg27', 'bro', 'broad', 'broadway', 'brochure', 'broke', 'broken', 'brokenpromises', 'brokenwheel', 'brooding', 'brooklyn', 'bros', 'brotha', 'brothaaaaaa', 'brother', 'brothers', 'brought', 'brownsville', 'browser', 'browsers', 'brrr', 'bru', 'bruh', 'bruins', 'brush', 'brushing', 'brussels', 'brutal', 'bryant', 'bs', 'bso', 'bsuxlu', 'bt', 'bt37kyrbyj', 'btb4awqtln', 'btr', 'bttgmyn0a0', 'bttr', 'btv', 'btvpxtzju0', 'btw', 'btwn', 'bubbly', 'buck', 'bucket', 'bucketobolts', 'bucks', 'budapest', 'buddies', 'buddy', 'budget', 'budweiserduels', 'bueno', 'buenos', 'buf', 'buffalo', 'buffaloairport', 'bug', 'bugging', 'buggy', 'build', 'building', 'built', 'buisness', 'bulb', 'bulkhead', 'bull', 'bullshit', 'bully', 'bullying', 'bummed', 'bummer', 'bump', 'bumped', 'bumper', 'bumping', 'bums', 'bunch', 'bundle', 'bundleup', 'bur', 'burbank', 'burden', 'bureau', 'burg', 'burger', 'burgundy', 'burlington', 'burn', 'burned', 'burning', 'burningman', 'burrito', 'burroughs', 'burst', 'bus', 'busads', 'buses', 'bush', 'bushleague', 'bushug', 'busiest', 'business', 'businessfirst', 'businessmodel', 'businesstravel', 'businesstrip', 'bussey', 'bussines', 'busted', 'busy', 'but', 'butnot', 'butt', 'button', 'buttons', 'buwjtvuwkm', 'buy', 'buybacks', 'buyer', 'buying', 'buys', 'buzz', 'buzzkill', 'bvfaxdubaq', 'bwahahaha', 'bwi', 'bwi_airport', 'bwood', 'by', 'by3vdiosua', 'bye', 'byebyejetblue', 'byebyeusairline', 'byod', 'bypass', 'bz', 'bze', 'bzwgp7adve', 'c11', 'c12', 'c14', 'c16', 'c17', 'c19', 'c22', 'c24cefa9pl', 'c25', 'c26', 'c29', 'c2next', 'c38', 'c4', 'c47', 'c68ld9', 'c7kzbvf8h8', 'c7tpdkqulm', 'c8mqezxvdh', 'c9', 'c9p2iosphm', 'c_istudios', 'ca', 'cab', 'cabaret', 'cabcelled', 'cabin', 'cabine', 'cabinfever', 'cabins', 'cable', 'cabo', 'cabs', 'cac', 'cache', 'caching', 'cae', 'caexhibitions', 'caf2cx3gfi', 'cafe', 'caffeine', 'cak', 'cakairport', 'cake', 'cakendeath', 'cal', 'calamity', 'calderon', 'calendar', 'calgary', 'cali', 'calibrated', 'california', 'call', 'callback', 'callbacks', 'called', 'caller', 'callers', 'calling', 'callings', 'callmestanley7', 'calls', 'calming', 'calves', 'came', 'camera', 'cameragear', 'cameras', 'cameron__roe', 'camp', 'campaign', 'campilley', 'campus', 'can', 'cana', 'canada', 'canadaair', 'canadian', 'canadians', 'cancelled', 'cancer', 'cancld', 'cancun', 'candace', 'candice', 'candy', 'caned', 'canister', 'canld', 'canned', 'cannedtweet', 'cannot', 'cant', 'cantblametheweather', 'canthurtasking', 'cantlogoutofunitedwifi', 'canx', 'cap', 'capa_aviation', 'capabilities', 'capability', 'capable', 'capacity', 'capeair', 'capital', 'capitalized', 'capt', 'captain', 'captive', 'captiveaudience', 'capture', 'captured', 'car', 'caravannyc', 'card', 'cardholder', 'cards', 'care', 'cared', 'career', 'careers', 'careless', 'caren', 'cares', 'careyon', 'cargo', 'caribbean', 'caribbejan', 'caring', 'carlton', 'carlw1980', 'carmen', 'carol', 'carolina', 'carolinas', 'caroline', 'carousel', 'carpet', 'carrie', 'carried', 'carrier', 'carriers', 'carrieunderwood', 'carry', 'carrying', 'carryon', 'carryonbagssloweverybodydown', 'carryons', 'cars', 'carseat', 'carsl', 'cart', 'carta', 'cartagena', 'cartago', 'carts', 'cascino', 'case', 'cases', 'cash', 'casimir', 'casleah', 'casual', 'cat', 'catch', 'catching', 'category', 'cater', 'catered', 'catering', 'caterobbie', 'catfoodbeerglue', 'cathay', 'cathaypacific', 'cathaypacificus', 'cathy', 'cats', 'catsanddogslivingtogether', 'cattle', 'cattle2slaughter', 'caucasity', 'caught', 'cause', 'caused', 'causes', 'causing', 'caution', 'cavalli', 'cavan', 'cave', 'cavs', 'cayman_islands', 'cb', 'cbarrows', 'cbcallinaday', 'cbcnews', 'cbsbaltimore', 'cbsnews', 'cbsphilly', 'cbssoxfan', 'cbv7f3kbkx', 'cc', 'ccicanine', 'ccndjp', 'cdg', 'cdn', 'cdt', 'cdzhtyd0ak', 'ce3k', 'ceases', 'cebu', 'cehroeurc5', 'celebrate', 'celebrates', 'celebrating', 'celebration', 'celebs', 'cell', 'cellphone', 'cement', 'center', 'centerl', 'centers', 'central', 'centre', 'centric', 'centricity', 'cents', 'century', 'century21', 'ceo', 'cert', 'certain', 'certainly', 'certificate', 'certificates', 'certs', 'cessna', 'cesspool', 'cfi1e3kxa9', 'cflanagian', 'cfzdjmn0ui', 'cgjase', 'cgroup', 'ch0nmjymgh', 'ch_mom', 'cha', 'chaching', 'chain', 'chair', 'chairman', 'chairmanlove', 'chairmans', 'chairs', 'chalk', 'challemann', 'challenge', 'challenges', 'challenging', 'champagne', 'championship', 'chance', 'chances', 'change', 'changed', 'changer', 'changes', 'changing', 'channel', 'channels', 'chantilly', 'chaos', 'chaotic', 'chaperone', 'chapman', 'chapter', 'char', 'charac', 'character', 'characterize', 'characters', 'charge', 'charged', 'charger', 'chargers', 'charges', 'charging', 'chariot', 'charity', 'charles', 'charleston', 'charlote', 'charlotte', 'charm', 'chart', 'charter', 'chartering', 'chase', 'chasefoster', 'chasing', 'chat', 'chathes', 'chats', 'chatted', 'chatting', 'cheap', 'cheap1', 'cheaper', 'cheapest', 'cheapflights', 'cheapoair', 'cheapoairchat', 'cheapslogannotmotto', 'cheat', 'cheatcustomers', 'cheated', 'check', 'checked', 'checkers', 'checkin', 'checking', 'checkout', 'checkpoint', 'checks', 'cheduled', 'cheek', 'cheer', 'cheers', 'cheertymedad', 'cheerupdates', 'cheese', 'cheesy', 'cheeze', 'chef', 'chemistry', 'cheque', 'cherry', 'chewey', 'chg', 'chgd', 'chge', 'chging', 'chgy5yrvka', 'chi', 'chiberia', 'chicago', 'chicagomidway', 'chicagosmayor', 'chicagotribune', 'chicken', 'chief', 'child', 'childish', 'children', 'childrens', 'chill', 'chillpill', 'chilly', 'chillycvz', 'china', 'chinese', 'chipper', 'chips', 'chitocle', 'chk', 'chkd', 'chkin', 'chking', 'chkout', 'chl', 'chng', 'chnge', 'cho', 'chocked', 'chocolate', 'choice', 'choices', 'choose', 'choosechicago', 'choosekind', 'choosing', 'choppiest', 'choppy', 'chose', 'chosen', 'chrishasmadeusblush', 'christine', 'christinebpc', 'christmas', 'chrome', 'chronicleherald', 'chronological', 'chrysichrysic', 'chs', 'chuckhole', 'church', 'churn', 'ci5cfrlqbe', 'cid', 'cigarettes', 'cih1qnllcm', 'cinci', 'cincinnati', 'cincy', 'cinedrones', 'cinnabon', 'cinnabons', 'cinziannap', 'circle', 'circles', 'circling', 'circuit', 'circulation', 'circumstances', 'ciscojimfrench', 'cisnerosmedia', 'citi', 'cities', 'citing', 'citizen', 'city', 'cityandsand', 'civilized', 'cjdjpdx', 'cju102xp2k', 'ckin', 'cking', 'claim', 'claimed', 'claiming', 'claims', 'clarence', 'clarification', 'clarify', 'clarifying', 'clarion', 'clarita', 'clarkey_19', 'clarkhoward', 'class', 'classed', 'classes', 'classic', 'classics', 'classiq', 'classy', 'claudia', 'claudoakeshott', 'cld', 'cldnt', 'cle', 'clean', 'cleaned', 'cleaning', 'cleanliness', 'clear', 'clearance', 'cleared', 'clearing', 'clearly', 'clearvision', 'cleveland', 'clever', 'click', 'clicked', 'clicking', 'clicks', 'client', 'clientnothappy', 'clients', 'clifton', 'clincher', 'cling', 'clinicpolly', 'cll', 'clo', 'clob5qwmxr', 'clockwork', 'clog', 'close', 'closed', 'closepwcs', 'closer', 'closes', 'closest', 'closet', 'closing', 'closings', 'closure', 'clothes', 'clothing', 'cloud', 'clouds', 'clown', 'clowns', 'cls', 'clt', 'cltdouglas', 'clu5pdprhp', 'club', 'club_', 'clubs', 'clue', 'clueless', 'clues', 'clunky', 'cluster', 'clusterfucks', 'clutch', 'clvlhfguzw', 'cm4roiypc2', 'cmfat35000feet', 'cmh', 'cmjriwop7o', 'cmon', 'cnbc', 'cncdld', 'cnceld', 'cncld', 'cncled', 'cnctl7g1ef', 'cng', 'cnn', 'cnnbrk', 'cnnmoney', 'cnx', 'cnxn', 'cnxns', 'co', 'coach', 'coached', 'coachgs', 'coast', 'coasts', 'coat', 'coathanging', 'coats', 'cobedien', 'cockpit', 'cockroaches', 'cocktail', 'cocktails', 'cockup', 'code', 'coded', 'codes', 'codeshare', 'codycleverly', 'coffee', 'coffeemaker', 'coffeeneeded', 'coffin', 'coin', 'coincidence', 'coke', 'cold', 'colder', 'coldly', 'coles', 'colleague', 'colleagues', 'collect', 'collection', 'collectively', 'college', 'colliding', 'colo', 'colombia', 'colombian', 'colonist', 'color', 'colored', 'colors', 'colossal', 'colours', 'coltsmissingbags', 'columbia', 'columbian', 'columbus', 'com', 'coma', 'combat', 'combative', 'combination', 'combine', 'combined', 'combo', 'comcast', 'comclassic', 'come', 'comedian', 'comedic', 'comedy', 'comenity', 'comeon', 'comeonpeople', 'comes', 'cometoaustin', 'comfort', 'comfortable', 'comfortably', 'comforting', 'comically', 'comin', 'coming', 'comm', 'command', 'commands', 'commence', 'commend', 'comment', 'commented', 'comments', 'commercial', 'commercials', 'commission', 'commit', 'commitment', 'commitments', 'committed', 'common', 'comms', 'communicate', 'communicated', 'communicating', 'communication', 'communicationfail', 'communicationiskey', 'communications', 'communist', 'community', 'commutation', 'commute', 'comp', 'compact', 'companies', 'companion', 'companionpass', 'companionpasses', 'companions', 'company', 'comparable', 'compare', 'compared', 'compares', 'comparing', 'comparison', 'compartments', 'compassion', 'compassionate', 'compatible', 'comped', 'compensate', 'compensated', 'compensates', 'compensating', 'compensation', 'compete', 'competent', 'competes', 'competing', 'competition', 'competitively', 'competitor', 'competitors', 'comping', 'complain', 'complained', 'complainer', 'complainers', 'complaining', 'complains', 'complaint', 'complaints', 'complete', 'completed', 'completely', 'completing', 'complex', 'compliant', 'complicated', 'compliment', 'complimentary', 'complimentarybeveragesneeded', 'complimenting', 'compliments', 'complt', 'compounded', 'compounding', 'comps', 'compton', 'computer', 'computers', 'con', 'concentrate', 'concept', 'concern', 'concerned', 'concerning', 'concerns', 'concert', 'concerts', 'concierge', 'concourse', 'concrete', 'cond', 'condescending', 'condescension', 'condition', 'conditioning', 'conditions', 'condo', 'condolences', 'condom', 'conection', 'conf', 'conference', 'confidence', 'confident', 'config', 'confirm', 'confirmation', 'confirmations', 'confirmed', 'confirming', 'conflict', 'conflicting', 'confrontational', 'confused', 'confuses', 'confusing', 'confusion', 'congested', 'congrats', 'congratulation', 'congratulations', 'conjunction', 'conn', 'connect', 'connected', 'connectfor', 'connecticut', 'connectin', 'connecting', 'connection', 'connections', 'connectns', 'connector', 'connectors', 'connects', 'connetion', 'connex', 'connolly', 'consecutive', 'consequence', 'consider', 'considerable', 'considerably', 'considerate', 'consideration', 'considered', 'considering', 'consistency', 'consistent', 'consistently', 'consolation', 'consoled', 'constant', 'constantly', 'constitution', 'construction', 'constructive', 'consult', 'consultant', 'consumer', 'consumermarketing', 'consumers', 'consumption', 'cont', 'contaced', 'contact', 'contactcej', 'contacted', 'contacting', 'contactless', 'contagious', 'contain', 'container', 'contains', 'contd', 'contempt', 'contend', 'content', 'contentmarketing', 'contents', 'contest', 'context', 'continental', 'continentalair1', 'continentalairlines', 'contingencies', 'contingency', 'continually', 'continue', 'continued', 'continues', 'continuing', 'continuous', 'contract', 'contractors', 'contracts', 'contradictory', 'contribution', 'control', 'controllable', 'controllableirregularity', 'controlled', 'controller', 'controllers', 'conv', 'convenience', 'convenient', 'conveniently', 'conversation', 'conversational', 'conversations', 'conversed', 'conversion', 'convey', 'conveyer', 'conveyor', 'convince', 'convinced', 'convo', 'cooker', 'cookie', 'cookies', 'cookjaycook123', 'cool', 'cooler', 'coordinate', 'cop', 'copa', 'copay', 'copilot', 'copy', 'core', 'corevalues', 'corner', 'corny', 'corp', 'corpgreed', 'corporate', 'corporation', 'correct', 'corrected', 'correctly', 'correctness', 'correlate', 'correspondence', 'corrupt', 'cory', 'corybronze', 'cos', 'coshared', 'cosmetic', 'cosmopolitan', 'cost', 'costa', 'costarica', 'costing', 'costs', 'costumer', 'costumers', 'costumerservice', 'cot', 'cots', 'cough', 'coughed', 'could', 'couldn', 'couldnt', 'count', 'counted', 'counter', 'counterparts', 'counters', 'counting', 'countingdown', 'countless', 'countries', 'country', 'counts', 'county', 'couple', 'coupled', 'coupon', 'coupons', 'courier', 'courrier', 'course', 'courses', 'court', 'courteous', 'courteroy', 'courtesy', 'courtney', 'courtsey', 'courtsnod', 'cousin', 'cousins', 'cover', 'coverage', 'covered', 'covering', 'covert', 'cowardly', 'cowboy', 'cowboycerrone', 'cowgirl', 'coworker', 'coworkers', 'cozy', 'cp', 'cpap', 'cpus', 'cpzb285o71', 'cqmm7nue9m', 'cr', 'crabby', 'cracker', 'crackers', 'craft', 'craftbeer', 'cramming', 'cramped', 'cranky', 'crap', 'crappiest', 'crappy', 'crash', 'crashed', 'crashes', 'crashing', 'crated', 'craving', 'crawling', 'craziness', 'crazinessintherockies', 'crazy', 'crazybitch', 'cream', 'create', 'created', 'creates', 'creating', 'creative', 'credentials', 'credibility', 'credit', 'creditcardsales', 'credited', 'credits', 'crew', 'crewe', 'crewmember', 'crewmembers', 'crews', 'crfrwpc1sx', 'cri', 'crib', 'crickets', 'cried', 'criminal', 'crisis', 'cristian', 'criteria', 'criticism', 'crjs', 'crook', 'crooked', 'cross', 'crossed', 'crossing', 'crosswinds', 'crosswords', 'crowd', 'crowded', 'crucial', 'cruel', 'cruise', 'crumbs', 'crummyservice', 'crutches', 'cruz', 'crw', 'cry', 'crying', 'crystal', 'crâpe', 'cs', 'cs1673hrqq', 'csddccmvbd', 'csfail', 'csm', 'csnrpvy9b9', 'cspkcats', 'csr', 'csrs', 'css', 'cst', 'cstmr', 'cstsvc', 'ct', 'ctg', 'ctl', 'ctr', 'cty', 'cuba', 'cud', 'cudtomers', 'cue', 'cultural', 'culture', 'cun', 'cup', 'cups', 'cur', 'curb', 'curbside', 'curfew', 'curiosity', 'curious', 'current', 'currently', 'currentlysittingontarmac', 'curse', 'curt', 'curtesy', 'curvygirltravels', 'cus', 'cushion', 'cushions', 'cushy', 'cussed', 'cust', 'custexp', 'customary', 'customer', 'customerappreciation', 'customerexperience', 'customerloyalty', 'customers', 'customerservice', 'customerservicefail', 'customerservicenot', 'customerserviceplease', 'customerservices', 'customerservicewin', 'customersfirst', 'customs', 'custs', 'custserv', 'custservicehasnonumber', 'custy', 'cut', 'cute', 'cutest', 'cutoff', 'cuts', 'cutting', 'cuz', 'cuzco', 'cvba4olcbl', 'cvg', 'cvgairport', 'cx', 'cxl', 'cxld', 'cxp', 'cxrzhcdtvz', 'cxttxv2lmp', 'cyberattack', 'cycle', 'cycles', 'cyncyn661', 'cyndi', 'cyoonzftdc', 'cyprhe5gok', 'czamkoff', 'czor4nyh9n', 'd1ergpdwsj', 'd1mqf5', 'd4', 'd6', 'd7pqouatdf', 'd9', 'd_goodspeed', 'da', 'daaa0rqbxw', 'dad', 'dad_or_alive', 'dadboner', 'daddy', 'daddyshome', 'dadeland', 'dads', 'dai_president', 'daiber', 'daily', 'dajwzhlvyu', 'dakota', 'dal', 'dale', 'dallas', 'dallas_news', 'dallasairport', 'dallaslovefield', 'dam', 'damage', 'damaged', 'damageluggage', 'damages', 'damion', 'damionflight4223', 'damn', 'damper', 'dan', 'dan_roam', 'danahajek', 'danbury', 'dance', 'dancing', 'dandy', 'dang', 'danger', 'dangerofgettingsnowedin', 'dangerous', 'dani', 'daniel', 'danihampton', 'danny', 'dare', 'dark', 'darn', 'darquenloveli', 'darrel', 'dart', 'dartmedia', 'daryl', 'data', 'date', 'dates', 'dating', 'datingrev', 'daughter', 'daughters', 'david', 'davidson', 'dawn', 'dawn_davis', 'day', 'daycare', 'daydreaming', 'dayjustgotworse', 'days', 'daysinn', 'daytona', 'daytonabeach', 'dbcvepn5qc', 'dc', 'dc10', 'dc9', 'dca', 'dca48810m', 'dcoadavon', 'dcobokn7ee', 'de', 'deactivate', 'deactivated', 'dead', 'deadhead', 'deaf', 'deaffriendly', 'deal', 'dealing', 'dealings', 'deals', 'dealt', 'dean', 'deane', 'dear', 'death', 'debacle', 'debating', 'debbie', 'debit', 'deboards', 'deborah', 'dec', 'deceiving', 'december', 'decency', 'decent', 'deceptive', 'decide', 'decided', 'decides', 'deciding', 'decision', 'decisions', 'deck', 'declaration', 'declared', 'decline', 'declined', 'decorum', 'dedicated', 'dedication', 'deed', 'deedee', 'deemed', 'deep', 'deeply', 'def', 'defective', 'defend', 'deferring', 'defiantly', 'defibrillator', 'deficiency', 'definately', 'define', 'defines', 'definitely', 'definition', 'definitive', 'deflator', 'degree', 'degrees', 'dehli', 'dehydrated', 'deice', 'deiced', 'deicer', 'deicing', 'del', 'delacy', 'delaney', 'delay', 'delayed', 'delayedl', 'delayedovernight', 'delayforwhat', 'delaying', 'delays', 'delayua53', 'delete', 'deleted', 'delhi', 'deli', 'deliberate', 'delicious', 'delight', 'delighted', 'delightful', 'delinquent', 'deliver', 'delivered', 'delivering', 'delivery', 'delk', 'delongerry', 'delta', 'deltaassist', 'deltanews', 'deltapoints', 'delyd', 'demand', 'demanded', 'demanding', 'demo', 'demolish', 'demonstration', 'demoted', 'den', 'denairport', 'denied', 'denise', 'denisejtaylor', 'dented', 'denver', 'denverairport', 'deny', 'deoderant', 'deodorant', 'dep', 'depart', 'departed', 'departing', 'department', 'departments', 'departs', 'departure', 'departures', 'dependable', 'dependents', 'depending', 'depends', 'deplane', 'deplaned', 'deplanes', 'deplaning', 'deplorable', 'deployment', 'depot', 'depressing', 'depression', 'dept', 'derek', 'derekc21', 'derrick', 'des', 'descending', 'descent', 'describe', 'describing', 'description', 'desert', 'deserve', 'deserved', 'deserves', 'design', 'designated', 'designed', 'designer', 'designs', 'desirable', 'desired', 'desires', 'desition', 'desk', 'desks', 'desktop', 'desparately', 'desperate', 'desperately', 'despicable', 'despise', 'despite', 'dest', 'destin', 'destination', 'destinationdragon', 'destinationdragons', 'destinations', 'destroy', 'destroyed', 'destroying', 'detail', 'detailed', 'details', 'detective', 'detectors', 'deter', 'deteriorating', 'determination', 'determined', 'detroit', 'deval', 'devaluation', 'devalue', 'devalued', 'devastated', 'develop', 'developers', 'development', 'device', 'devices', 'devotedyyours', 'devs', 'dewithpew2', 'dfmvmibh4x', 'dfpietra', 'dfw', 'dfwairport', 'dgruber1700', 'dh2rfuijyp', 'dhepburn', 'dhhomg2kix', 'dia', 'diabetic', 'dial', 'dialing', 'dialogue', 'dialup', 'diamond', 'diane', 'diapers', 'dice', 'dick', 'dickheads', 'dicks', 'dictionary', 'did', 'didn', 'didnt', 'die', 'died', 'diego', 'diehardvirgin', 'dies', 'diet', 'dietcoke', 'diff', 'differ', 'difference', 'different', 'differently', 'difficult', 'difficulties', 'difficulty', 'diffused', 'dig', 'digg', 'digging', 'digit', 'digital', 'dignity', 'dildo', 'dilemma', 'diligent', 'dim', 'dime', 'dimensions', 'diminishes', 'dimmed', 'ding', 'dining', 'dinner', 'dinosaur', 'dinosaurs', 'direct', 'directed', 'directflights', 'directing', 'direction', 'directional', 'directly', 'directs', 'directtv', 'directv', 'dirt', 'dirtiest', 'dirty', 'dis', 'disability', 'disabled', 'disabledtraveler', 'disallows', 'disappear', 'disappeared', 'disappearing', 'disappears', 'disappoint', 'disappointed', 'disappointing', 'disappointment', 'disappointments', 'disappoints', 'disapptment', 'disaster', 'disastrous', 'disbelief', 'disciplined', 'disclose', 'discnct', 'discomfort', 'disconnect', 'disconnected', 'disconnecting', 'disconnection', 'disconnections', 'disconnects', 'discontinue', 'discontinued', 'discount', 'discounts', 'discouraging', 'discourteous', 'discover', 'discovered', 'discovergrenada', 'discrimination', 'discuss', 'discusses', 'discussing', 'disgrace', 'disgraceful', 'disgruntled', 'disguised', 'disgusted', 'disgusting', 'disgutedindenver', 'disheartening', 'dishonest', 'dishonoring', 'disinfectant', 'dislexia', 'dislike', 'disloyal', 'dismissed', 'dismissive', 'disney', 'disneyland', 'disneyprincesshalfmarathon', 'disneyworld', 'disorganised', 'disorganization', 'disorganized', 'dispatch', 'dispatchalerts', 'dispatcher', 'dispatchissue', 'displaced', 'display', 'displayed', 'displays', 'displeased', 'displeasure', 'disproportionate', 'dispute', 'disputed', 'disregard', 'disrespect', 'disrespected', 'disrespectful', 'disrespectfully', 'disrupted', 'disruption', 'disruptions', 'dissapointed', 'dissapointing', 'dissapointment', 'dissaponted', 'dissatisfaction', 'dissatisfied', 'dissemination', 'disspointed', 'distance', 'distances', 'distinguish', 'distress', 'distressed', 'distribution', 'distributor', 'disturb', 'disunited', 'disupdates', 'diufep8n2q', 'div', 'divadapouch', 'diverged', 'diversion', 'diversions', 'divert', 'diverted', 'diverting', 'divided', 'dividend', 'dividendmiles', 'dividendrewards', 'dividends', 'dividendsmember', 'divident', 'divider', 'dj', 'djevolutionhd', 'djhxvjt201', 'djimpact', 'djjjn9slht', 'djq_kc', 'dkyde6', 'dkzl57upqi', 'dl', 'dlewis2412', 'dlh9138hbg', 'dm', 'dmangen', 'dmb41shows', 'dmd', 'dmed', 'dming', 'dmoukdarath', 'dms', 'dmsc', 'dmv', 'dn1if2cgwe', 'dndoepqukz', 'dnmsblzumr', 'dns', 'dnstitrzwy', 'dnt', 'dnx58v', 'do', 'dobetter', 'dobetterjetblue', 'doc', 'docmvotwti', 'docs', 'doctor', 'doctors', 'document', 'documentation', 'does', 'doesn', 'doesnt', 'doesntfeellikestatusyet', 'dog', 'dogbuckeye', 'doin', 'doing', 'doke', 'doll', 'dollar', 'dollars', 'domestic', 'domingo', 'dominican', 'dominick', 'don', 'donaldaroberts1', 'donate', 'donation', 'done', 'donedeal', 'donkey', 'donna', 'donotflyusair', 'donotflywiththem', 'dont', 'dontchangeathing', 'dontdothistome', 'dontflythem', 'dontflyusairways', 'donthavehighhopes', 'dontmakemebeg', 'dontmakemegooutside', 'donut', 'donuts', 'doo', 'doom', 'door', 'doors', 'doorstep', 'dope', 'dorm', 'dorns', 'doruxbqla1', 'dory', 'dos', 'dosequis', 'dot', 'dotnetnate', 'double', 'doubled', 'doublestandards', 'doubt', 'doubtful', 'doug', 'douglas', 'doumented', 'dounotwantmybusiness', 'down', 'downgrade', 'downgraded', 'downgrading', 'downhill', 'download', 'downloaded', 'downnnnn', 'downright', 'downs', 'downstairs', 'downtown', 'doyourjob', 'dozen', 'dozens', 'dpdfpp', 'dphqrgkdoa', 'dplq3mhqgd', 'dpt', 'dpted', 'dpx3yogtej', 'dqjl8vz2h2', 'dqnn0rf1v8', 'dqny4aktg9', 'dr', 'dr5octp1dy', 'draft', 'drag', 'dragon', 'dragons', 'drain', 'dramatically', 'draw', 'drawing', 'draws', 'dre', 'dread', 'dreadful', 'dreading', 'dream', 'dreaming', 'dreamliner', 'dreampath', 'dreams', 'drenched', 'dresparkles', 'dress', 'dressed', 'drift', 'drink', 'drinker', 'drinking', 'drinks', 'drive', 'driven', 'driver', 'drivers', 'drives', 'driving', 'drone', 'drop', 'droped', 'dropped', 'droppeditoffyet', 'dropping', 'drops', 'drove', 'drunk', 'drunkpilots', 'drunks', 'drvrugby', 'drw08djhai', 'drwinston001', 'dry', 'ds22ceeenj', 'dsdebodmel', 'dsearls', 'dsm', 'dtheyofxrb', 'dtlguq1kak', 'dtv', 'dtw', 'dualcam', 'duanenclark', 'dub', 'dubai', 'dublin', 'dublinairport', 'duck', 'duct', 'dude', 'due', 'duecto', 'duffle', 'duh', 'duhbj41jhx', 'duke', 'dulles', 'dulles_airport', 'dullessucks', 'dullestostatecollege', 'dultch97', 'dumas2ttg', 'dumb', 'dump', 'dumped', 'dumping', 'dumps', 'dungeon', 'dunkin', 'dunno', 'duped', 'durango', 'during', 'dust', 'dustyob', 'duty', 'dvr', 'dvsltqzkmq', 'dvt', 'dw5nf0ibtr', 'dw6vdvqxbb', 'dwell', 'dwese7xidr', 'dxb', 'dxicoyioxf', 'dxn58rxdks', 'dxux6dbfd3', 'dying', 'dynamite', 'dzegapfqw1', 'dzg99jfiik', 'dzkc3auzu9', 'e09kej9bv1', 'e0c9bi09cf', 'e0r0nto4tr', 'e11', 'e190', 'e1eofthgaj', 'e1mex0t6q5', 'e2axlqzwvh', 'e2kvm4', 'e36', 'e5naxbue4s', 'e9', 'ea', 'each', 'eager', 'eagle', 'ear', 'earlier', 'earliest', 'early', 'earlybird', 'earlybirdmeansnothing', 'earn', 'earned', 'earnedmybusiness', 'earning', 'earnings', 'earphone', 'earring', 'earrings', 'earth', 'earthquake', 'ease', 'easier', 'easiest', 'easily', 'east', 'easter', 'eastern', 'easy', 'eat', 'eaten', 'eatgregeat', 'eating', 'eatup', 'eb', 'ebhset', 'ebokeers', 'ebola', 'ebxc94kfjd', 'ec', 'eco', 'ecom', 'econ', 'economic', 'economy', 'ecuador', 'eczhcmm5vi', 'ed', 'edge', 'edgy', 'edinburgh', 'edit', 'edition', 'edits', 'edplotts', 'edreams_en', 'educate', 'education', 'educational', 'eeqwvammiy', 'eerekdf9fq', 'ees', 'ef4p0hishb', 'effect', 'effective', 'efficencies', 'efficiency', 'efficient', 'efficiently', 'effin', 'effing', 'effort', 'effortless', 'efforts', 'egaejtrglb', 'ege', 'egkvfokogj', 'egregious', 'eh', 'ehsanismpowered', 'eigajyzcw2', 'eight', 'eis9hcnpro', 'either', 'eiw2syb8fu', 'ejacqui', 'el', 'el_ingeniero', 'ela7tntcir', 'elaborate', 'elbows', 'elderly', 'elected', 'electric', 'electrical', 'electronic', 'electronics', 'eleonora7', 'elevate', 'elevategold', 'elevateuser', 'elevator', 'elhxuv0uj1', 'eligible', 'elise', 'elite', 'eliz', 'eliza', 'elizabeth', 'ella', 'ellahenderson', 'ellen', 'elm', 'elmira', 'elp', 'elpaso', 'els', 'else', 'elsewhere', 'eltboljul9', 'elwoodblues77', 'em', 'email', 'emailed', 'emailing', 'emailmailto', 'emails', 'emaleesugano', 'emb145', 'embarrassed', 'embarrassing', 'embarrassment', 'embassy', 'embed', 'embody', 'embossed', 'embraersa', 'emer', 'emerald', 'emerg', 'emergencies', 'emergency', 'emerging', 'emeyerson', 'emily', 'emily_donneiiy', 'emilylyonss', 'emirates', 'emotional', 'emp', 'empathetic', 'empathize', 'empathizes', 'empathy', 'emphasize', 'empl', 'emplid', 'employ', 'employee', 'employeerelations', 'employees', 'employer', 'emptied', 'empty', 'emrey35', 'emrubu4wzd', 'ems', 'emv', 'emxlyy', 'en', 'encounter', 'encountered', 'encourage', 'encouraged', 'encouragement', 'end', 'ended', 'ending', 'endless', 'endlessly', 'ends', 'enemy', 'energy', 'enertainment', 'enforce', 'enforcement', 'enforcing', 'engadget', 'engagement', 'engagements', 'engaging', 'engine', 'engineer', 'england', 'english', 'enh1keuutd', 'enhance', 'eniqg0buzj', 'enjoy', 'enjoyable', 'enjoyed', 'enjoying', 'enormous', 'enough', 'enoughisenough', 'enquires', 'enraging', 'enroll', 'enrolled', 'enroute', 'ensued', 'ensure', 'ensured', 'ensuring', 'enter', 'entered', 'entering', 'enterprise', 'enters', 'entertain', 'entertained', 'entertaining', 'entertainment', 'entertainmnt', 'entire', 'entirely', 'entitled', 'entrance', 'entree', 'entrees', 'entrusted', 'entry', 'enuf', 'environment', 'envoy', 'enxv64rkbu', 'enzo', 'eom', 'eould', 'ep', 'epic', 'epicfail', 'epicfailunited', 'epicfailure', 'epipens', 'epitimeoffail', 'epqqonho2h', 'eps', 'eqepkkpsxm', 'eqm', 'eqp', 'eqqi1nfszh', 'equal', 'equality', 'equalizer', 'equally', 'equals', 'equip', 'equipment', 'equipped', 'equivalent', 'erased', 'eri', 'ericbradleypt', 'erickofiejones', 'erie', 'erieairport', 'erj145', 'ernie_vigil', 'err', 'erring', 'error', 'errored', 'erroring', 'errors', 'ers', 'erw', 'erzht75kqz', 'es', 'escalate', 'escape', 'escaping', 'escorted', 'esd3xd5v1r', 'eservice', 'esp', 'especially', 'espinosa', 'espn_coachmack', 'essence', 'essential', 'essentially', 'essentials', 'est', 'establish', 'established', 'estelle', 'estellevw', 'estimate', 'estimated', 'esuu0hiajm', 'et', 'eta', 'etailwest', 'etc', 'etd', 'eternal', 'eternally', 'eternity', 'etfjqiwuvt', 'ethan', 'ethics', 'ethiopia', 'etihad', 'etiquette', 'eu', 'eul6sdurbu', 'europe', 'european', 'euros', 'evacuated', 'evaluate', 'evansville', 'evasive', 'eve', 'even', 'evening', 'evenlate', 'evenmorespace', 'evenmoreview', 'evennotified', 'event', 'eventhoughits2degreesathome', 'eventprof', 'events', 'eventually', 'ever', 'everglades', 'evermoreroom', 'every', 'everybody', 'everyone', 'everyones', 'everything', 'everythingsgonnabealright', 'everytime', 'everywhere', 'evidence', 'evidently', 'evil', 'evn', 'evolved', 'evoucher', 'evr', 'evry', 'evrytime', 'evv', 'ew', 'ewk', 'ewr', 'ewwgi97gdx', 'ewxwxidtfx', 'ex', 'exacerbates', 'exact', 'exactly', 'example', 'exams', 'exasperating', 'exceed', 'excellence', 'excellent', 'excellentcustomerservice', 'except', 'exception', 'exceptional', 'exceptionally', 'exceptionalservice', 'exceptions', 'excess', 'exchange', 'excited', 'excitement', 'exciting', 'exclusive', 'exclusively', 'excruciatingly', 'excusable', 'excuse', 'excuses', 'exe', 'exec', 'execplat', 'execution', 'executive', 'executiveplatinummeansnothing', 'executives', 'exercise', 'exhausted', 'exhausting', 'exhaustion', 'exhibited', 'exhorbitantfees', 'exicted', 'exist', 'existence', 'existent', 'existing', 'exists', 'exit', 'exiting', 'exits', 'exp', 'expand', 'expanded', 'expanding', 'expansion', 'expect', 'expectations', 'expected', 'expecting', 'expects', 'expedia', 'expedient', 'expedite', 'expedited', 'expeditious', 'expens', 'expense', 'expenses', 'expensive', 'exper', 'experience', 'experienced', 'experiences', 'experiencing', 'experts', 'expiration', 'expire', 'expired', 'expires', 'expiring', 'explain', 'explained', 'explaining', 'explains', 'explanation', 'explanations', 'explore', 'explorer', 'exposed', 'expowest', 'express', 'expressed', 'expressing', 'exps', 'extend', 'extended', 'extending', 'extension', 'extent', 'extenuating', 'extinct', 'extortion', 'extra', 'extractions', 'extralight', 'extraordinaire', 'extraordinary', 'extravaganza', 'extreme', 'extremely', 'ey', 'eye', 'eyeglasses', 'eyes', 'eyewitness', 'eyw', 'eyyyy', 'ezee', 'ezemanalyst', 'f1yvaio9ul', 'f2lfulcbq7', 'f38ish', 'f3kxb8', 'f4tp0dawbd', 'f5ixyw8xyb', 'f5r3zz', 'f6', 'f623', 'f6copx1fvj', 'f6dk04', 'f8neqm', 'fa', 'fa7nygn1ux', 'faa', 'faaaannntastic', 'faail', 'faanews', 'fab', 'fabrice', 'fabulous', 'face', 'facebook', 'faced', 'faceless', 'facepalm', 'faces', 'facilities', 'facing', 'fact', 'facts', 'fail', 'failagain', 'failback', 'failed', 'failing', 'failingyourcustomer', 'failover', 'failphone', 'fails', 'failure', 'failures', 'faint', 'fair', 'fairbanks', 'faire', 'fairfax', 'fairly', 'fairs', 'fairway', 'faith', 'faithful', 'fake', 'fakeawards', 'fakesincerity', 'fall', 'fallen', 'falling', 'fallow', 'falls', 'false', 'falseadvertising', 'fam', 'familiar', 'families', 'family', 'famous', 'fan', 'fancy', 'fans', 'fantastic', 'fantasy', 'faq', 'far', 'farce', 'fare', 'farecompare', 'farelock', 'fares', 'fargo', 'fargoairport', 'farmington', 'farms', 'fas', 'fashion', 'fashioned', 'fast', 'fastcompany', 'fasten', 'faster', 'fastest', 'fat', 'fate', 'father', 'fattire', 'fattuesday', 'fault', 'faults', 'faulty', 'faundation', 'fav', 'fave', 'faves', 'favor', 'favorite', 'favoriteairline', 'fax', 'fay', 'fb', 'fbtemfwrsp', 'fc', 'fcmostinnovative', 'fcuk', 'fd2tnyctrb', 'fd4snvkiem', 'fe', 'fear', 'fearing', 'feat', 'feature', 'feb', 'february', 'februaryfreezefox17', 'fec4i3vwq7', 'feces', 'feck', 'fed', 'federal', 'fedex', 'fedexed', 'fedora', 'fedup', 'fee', 'feed', 'feedback', 'feel', 'feelbetter', 'feeling', 'feelings', 'feelingtheluv', 'feels', 'feelsgood', 'feeltheheat', 'fees', 'feet', 'fefhpmfple', 'fehqne', 'fell', 'fella', 'felt', 'feltthelove', 'female', 'fend', 'fend4urself', 'fend4yourself', 'fendforyourself', 'fernheinig18', 'ferrissalameh', 'ferry', 'festival', 'festivities', 'fete', 'few', 'fewer', 'ff', 'ffanixjhwh', 'ffc13zygjs', 'ffl', 'ffstatusdontmatter', 'fgjbex480d', 'fgkxv5', 'fgrbpazsix', 'fhk2te', 'fi', 'fiancee', 'fiancé', 'fiancée', 'fiasco', 'fib', 'fiction', 'fidencio', 'fidifamilies', 'field', 'fields', 'fifth', 'fifty', 'fight', 'fights', 'figure', 'figured', 'figures', 'file', 'filed', 'filing', 'fill', 'filled', 'filling', 'film', 'filmcrew', 'filmjobnoequipment', 'films', 'filters', 'filthy', 'filthyplane', 'final', 'finale', 'finalizing', 'finally', 'finals', 'finalstretch', 'financial', 'find', 'findanothergate', 'finder', 'finding', 'finds', 'findurgrip', 'fine', 'finest', 'finger', 'fingers', 'fingerscrossed', 'finish', 'finishes', 'finleybklyncfs', 'finnair', 'finq5fh6ue', 'fioretti2ndward', 'fiousairways', 'fire', 'fired', 'firefighters', 'firefox', 'firevan', 'firing', 'firm', 'first', 'firstclass', 'firstlove', 'firststari', 'firstworldproblems', 'fiscal', 'fispahani', 'fist', 'fistfights', 'fit', 'fitbit', 'fits', 'fitz', 'five', 'fix', 'fixed', 'fixes', 'fixing', 'fixthis', 'fixyourstuff', 'fjbfsc', 'fjkvqmbmas', 'fkn', 'fl', 'fl1289', 'fl1289sfo', 'fl382', 'fla', 'flagging', 'flailing', 'flamethrowers', 'flashlight', 'flat', 'flatiron', 'flattering', 'flavors', 'flaw', 'flawed', 'flawless', 'flcnnn2usd', 'fleek', 'fleet', 'flew', 'flex', 'flexes', 'flexibility', 'flexible', 'flght', 'flgjt', 'flgt', 'flier', 'flierfriendly', 'fliers', 'flies', 'flight', 'flight108', 'flight1407', 'flight16', 'flight1797', 'flight2031', 'flight2149', 'flight293', 'flight353', 'flight424', 'flight4592', 'flight5182', 'flight6831', 'flight7', 'flight838', 'flight850', 'flight911', 'flight919', 'flightation', 'flightations', 'flightattendant', 'flightaware', 'flightcancelled', 'flightd', 'flightdelay', 'flighted', 'flightedflight', 'flightfail', 'flightglobal', 'flighting', 'flightlanding', 'flightlation', 'flightlations', 'flightled', 'flightledflight', 'flightling', 'flightly', 'flightn', 'flightncy', 'flightness', 'flightnightmare', 'flightr', 'flightrs', 'flights', 'flightspots', 'flightst', 'fligt', 'fligth', 'fligths', 'flintstone', 'flip', 'flipped', 'flipping', 'flite', 'flite454', 'fll', 'fllairport', 'fllight', 'floor', 'floors', 'florida', 'floridavacation', 'flow', 'flowers', 'flown', 'flt', 'flt1088', 'flt1533', 'flt1727', 'flt1999', 'flt2417', 'flt348', 'flt5127', 'flt635', 'flt803', 'flts', 'flu', 'fluctuated', 'fluid', 'flustered', 'flutter', 'flwmgdahxu', 'fly', 'fly2midway', 'fly2ohare', 'fly_nashville', 'flyana_official', 'flybetter', 'flydelta', 'flydeltanexttime', 'flyeia', 'flyer', 'flyerfriendly', 'flyers', 'flyfi', 'flyfrontier', 'flyin', 'flying', 'flyingainteasy', 'flyingitforward', 'flyingretro', 'flyingwithus', 'flyitforward', 'flyjetblue', 'flyknoxville', 'flylaxairport', 'flypbi', 'flypdx', 'flyquiet', 'flyrepublicair', 'flysaa', 'flysfo', 'flysouthwest', 'flysw', 'flyswa', 'flythefriendlyskies', 'flythroughs', 'flytpa', 'flyunited', 'flyus', 'flywhonotblue', 'flyyow', 'fm', 'fmjtyl', 'fml', 'fn2qxybt9k', 'fnd', 'fo', 'focus', 'focused', 'fog', 'foh', 'fold', 'folder', 'folding', 'folk', 'folks', 'follow', 'followback', 'followed', 'followers', 'following', 'follows', 'fong', 'food', 'foodallergies', 'foodallergy', 'foodnetwork', 'fool', 'foolish', 'foot', 'footage', 'footrest', 'for', 'for4', 'for40', 'force', 'forced', 'forcedovernight', 'forces', 'forcing', 'forecast', 'forecasted', 'forecasts', 'foreign', 'forelock', 'foresight', 'forever', 'forevercold', 'foreverrrrrr', 'forfeit', 'forfeited', 'forfeits', 'forget', 'forgets', 'forgetting', 'forgive', 'forgiven', 'forgot', 'forgotten', 'form', 'formal', 'formality', 'formally', 'format', 'formed', 'former', 'forms', 'formula', 'fornpf69ky', 'forsyth_factor', 'fort', 'forth', 'fortunately', 'fortunemagazine', 'forty', 'foru', 'forum', 'forward', 'forwarding', 'fostering', 'found', 'four', 'fourth', 'fouty', 'fox8news', 'foxnews', 'fp9m6y', 'fr', 'fr1', 'fra', 'fraction', 'frame', 'fran', 'france', 'franchise02', 'francisco', 'frank', 'frankfurt', 'frankly', 'franks105', 'fransico', 'fransisco', 'fraqdpkyga', 'fraud', 'frauds', 'frd0cay6da', 'freaked', 'freakin', 'freaking', 'freaks', 'freaky', 'freberg15', 'fred', 'freddie', 'freddieawards', 'free', 'freecomedyshow', 'freeconcert', 'freedrinkcoupons', 'freeflight', 'freeneversucks', 'freeze', 'freezes', 'freezing', 'french', 'freq', 'frequency', 'frequent', 'frequentflyer', 'frequentflyerappreciates', 'frequentflyers', 'frequently', 'fresh', 'fresno', 'freyabevan_fund', 'freyasfund', 'frghglmkqf', 'frhuxib8ii', 'fri', 'fricken', 'friday', 'fridge', 'friend', 'friendliest', 'friendly', 'friendlyfriday', 'friendlyskies', 'friendlysky', 'friendlyteam', 'friends', 'frightening', 'frigid', 'frigidfriday', 'fritz', 'frm', 'fro', 'from', 'fromthefrontseat', 'fron', 'front', 'frontier', 'frontrunner', 'froschtravel', 'froward', 'frown', 'frowny', 'frozen', 'frozentoilet', 'frozenwater', 'frrfxccw7z', 'fruit', 'frustrated', 'frustrating', 'frustratingly', 'frustration', 'frustrations', 'fs4ve7', 'fsd', 'fsqthg', 'fsz4yo', 'ft', 'ft1892', 'ftl', 'ftlauderdale', 'ftlauderdalesun', 'ftmyers', 'fttfyfmvco', 'ftv2nwwqf1', 'ftw', 'fu', 'fuccc', 'fuchzrzjg5', 'fuck', 'fucked', 'fucken', 'fuckin', 'fuckinf', 'fucking', 'fuckinlame', 'fuckoff', 'fudgers', 'fudgin', 'fuel', 'fueled', 'fuk', 'fuking', 'fulfill', 'fulfilled', 'full', 'fullprice', 'fully', 'fun', 'func', 'function', 'functional', 'functionality', 'functionally', 'functioning', 'funds', 'funeral', 'funerals', 'funflightattendants', 'funited', 'funny', 'funnycaptain', 'fupf0uayir', 'furious', 'furnish', 'furrow', 'furryfiesta', 'further', 'fuselage', 'fustrated', 'fusturated', 'future', 'fuyukaidesuyo', 'fvf9yw', 'fvlxirh1f1', 'fvudmh27pf', 'fvyzjldton', 'fw', 'fw3cy8hgdj', 'fwa', 'fwd', 'fwhei6', 'fwiw', 'fwkj49b1le', 'fwwe7f', 'fwzclbvug4', 'fx9bijlxat', 'fxnv618b1a', 'fy6f9rzb9k', 'fyi', 'fyvrfn', 'fê', 'g00saozgtv', 'g12sn5qsqz', 'g3uy6w28qh', 'g4o6yx7tmj', 'g4wwr6vbrq', 'g6455c', 'g8', 'g8cvwj', 'g8dka3edhf', 'g97habyep5', 'g9b6e0a2sz', 'ga', 'ga8pbamu0c', 'gabriela', 'gaga', 'gagent', 'gah', 'gain', 'gaincustomers', 'gainesville', 'gains', 'gal', 'gala', 'galaxy', 'galley', 'game', 'gameboy', 'gang', 'gangway', 'gap', 'garage', 'garbage', 'garcia', 'garcia4chicago', 'gardening', 'gary', 'garywerk', 'gas', 'gassing', 'gastoncounty', 'gate', 'gate4', 'gates', 'gather', 'gatwick', 'gave', 'gay', 'gbd5r1olsi', 'gbiw9ugfnm', 'gcwvfuopl2', 'gd', 'gdzadxzbya', 'gear', 'gears', 'gee', 'geeeeezzzzz', 'geekandahalf', 'geeks', 'geekstiel', 'geez', 'geg', 'geg4nghmie', 'gem', 'gems', 'general', 'generally', 'generated', 'generic', 'geneva', 'genious', 'genius', 'gent', 'gentleman', 'gently', 'gents', 'genuine', 'genuinely', 'geography', 'george', 'georgia', 'geraghty', 'geraldine', 'german', 'germany', 'germs', 'gerne', 'gerri_elliott', 'gesture', 'get', 'get2', 'getaway', 'getconnected', 'getittogether', 'getmartyhome', 'getmehome', 'getmeoffrhisfuckinplane', 'getmeoffthisbird', 'getmeoffthisplane', 'getmeontop', 'getmeoutofhere', 'getmeouttahere', 'getmorehands', 'getphilz', 'gets', 'gettin', 'getting', 'gettingbetter', 'gettingimpatient', 'gettingoffplane', 'gettingthirsty', 'getyouracttogether', 'getyourlife', 'gf', 'gfc', 'gg8929', 'ggqzqd', 'ggreenwald', 'gguaa1jvdf', 'gguig3t28z', 'ghettofab', 'ghjbp5gg67', 'giannilee', 'giant', 'giants', 'giennyqn22', 'gif', 'gift', 'gifting', 'gifts', 'gig', 'giggled', 'gills', 'gimme', 'gin', 'girl', 'girlfriend', 'girls', 'girlsweekend', 'gis2015', 'gist', 'give', 'given', 'gives', 'givethemraises', 'givethoseladiesraise', 'giving', 'gj', 'gjqx6j', 'gjt', 'gkgkzlawpr', 'gla', 'glad', 'gladly', 'gladys', 'glance', 'glasgow', 'glass', 'glassdoor', 'glasses', 'glassslipperchallenge', 'glenn', 'glitch', 'glitches', 'glitchy', 'global', 'globe', 'gloves', 'glowing', 'gluten', 'glxfwp6nqh', 'gma', 'gmail', 'gml7ot3imh', 'gn30p75kqb', 'gng', 'gnight', 'gnv', 'go', 'goal', 'gobankrupt', 'god', 'goddamn', 'godelta', 'goes', 'gofundme', 'gogh', 'gogo', 'goin', 'going', 'going2', 'goingforgreat', 'goingforgreatnessfail', 'goingtovegas', 'gold', 'golden', 'goldentickets', 'golds', 'golf', 'golfbags', 'golfunited', 'golfwithwoody', 'gone', 'gong', 'gonmrwem6i', 'gonna', 'gonnabealongnight', 'good', 'goodbye', 'goodcustomerservice', 'goodday', 'goodenoughmother', 'goodenufmother', 'goodflight', 'goodgenes', 'goodgriefpeople', 'goodluckamericanair', 'goodness', 'goodnight', 'goods', 'goodthingscome', 'goodwill', 'google', 'goose', 'goosebayairport', 'gooutofbusiness', 'gopatriots', 'gopro', 'gopuregrenada', 'gorgeous', 'gosh', 'got', 'gotcha', 'gotta', 'gotten', 'gottogetbetter', 'gouzrdt7zf', 'gov', 'government', 'governor', 'govt', 'gpu', 'gqp69g9zgw', 'gr8', 'grab', 'grabbed', 'grace', 'gracias', 'gracious', 'graded', 'grader', 'grades', 'graduate', 'graduation', 'gramp', 'grand', 'grandbabies', 'grandcanyon', 'grandcayman', 'grandfather', 'grandkids', 'grandma', 'grandmother', 'grandmothers', 'grandpa', 'grandparents', 'granny', 'grant', 'granting', 'graphic', 'graphics', 'gras', 'grasshopper', 'grassy', 'grateful', 'gratitude', 'gray', 'great', 'greatcustomerservice', 'greater', 'greatest', 'greatjob', 'greatly', 'greatservice', 'greed', 'greedy', 'greeeaat', 'green', 'greenfield', 'greensboro', 'greenville', 'greeted', 'greeting', 'greetings', 'greetingz', 'greg', 'gregm528', 'gregwallace66', 'greyed', 'greyhoundbus', 'grief', 'grievance', 'grinding', 'gripeo', 'grk', 'grk13575m', 'grkbj7bxlk', 'grnd', 'groan', 'gross', 'grossed', 'grossedout', 'grouchy', 'ground', 'grounded', 'grounds', 'group', 'groupa', 'grouping', 'groups', 'grow', 'growing', 'grown', 'grp', 'grr', 'grrrr', 'grrrrrr', 'grrrrrrrr', 'grt', 'gru', 'gruber', 'grumpy', 'grumpykim', 'gs', 'gsa', 'gsb2j3c4gm', 'gso', 'gsp', 'gt', 'gt6umhbh43', 'gth239', 'gtsvyb', 'guacamole', 'guam', 'guarantee', 'guaranteed', 'guardia', 'guatemala', 'guc', 'guess', 'guessing', 'guesstimate', 'guessweflyingdelta', 'guest', 'guests', 'guidance', 'guide', 'guidelines', 'guilty', 'guiltypleasures', 'guinea', 'guitar', 'guitars', 'gum', 'gun', 'gunna', 'guns', 'guru', 'gusty', 'guy', 'guyana', 'guys', 'guyyyys', 'gvgkhbx1rb', 'gvn', 'gx7qbtckbr', 'gxdqortss0', 'gxvfumn3iz', 'gz9gqdt7jj', 'h11jglw74l', 'h2o', 'h3k3owohd1', 'h44uj63cjg', 'h46ht1oz40', 'h6ce3mwcqj', 'h6hn33jjje', 'h8', 'h952rdktqy', 'ha', 'haa', 'habitrails', 'habitually', 'hacked', 'hacks', 'had', 'hadn', 'hah', 'haha', 'hahah', 'hahaha', 'hahahah', 'hahahaha', 'hahahahaha', 'hail', 'hair', 'haiti', 'haj5lkqjw4', 'half', 'halfway', 'hall', 'hammer', 'hamsters', 'hand', 'handbag', 'handed', 'handedly', 'handicap', 'handicapped', 'handily', 'handing', 'handle', 'handled', 'handler', 'handlers', 'handles', 'handling', 'hands', 'handshake', 'handy', 'hang', 'hangar', 'hanged', 'hanger', 'hanging', 'hangs', 'hangup', 'haning', 'hannah', 'hanneslohmann', 'hap4gbostu', 'happen', 'happend', 'happened', 'happening', 'happens', 'happier', 'happily', 'happiness', 'happy', 'happy4them', 'happybirthday', 'happycamper', 'happycustomer', 'happyflier', 'happyflight', 'happyfriday', 'happytohelp', 'happytweet', 'haqc7gdg7c', 'harass', 'harbor', 'hard', 'hardcase', 'harder', 'hardest', 'hardly', 'hardtodo', 'hardworking', 'hare', 'harf', 'harris', 'harsh', 'hartford', 'has', 'hashtag', 'hasn', 'hassle', 'hassles', 'hasty', 'hat', 'hatch', 'hate', 'hated', 'hateful', 'hates', 'hating', 'hats', 'haul', 'havana', 'have', 'haven', 'havent', 'havin', 'having', 'havoc', 'hawaii', 'hawaiian', 'hawaiianair', 'hayden', 'hayes', 'hayleymad', 'hazard', 'hb799cco0t', 'hbsj2sf17h', 'hcnn0wxqqr', 'hd', 'hdn', 'hdndl11785', 'hdoxim6nz2', 'hdsportsguy', 'he', 'head', 'headache', 'headaches', 'headed', 'header', 'heading', 'headlines', 'headphone', 'headphones', 'heads', 'healing', 'health', 'healthbenefitsofplants', 'hear', 'heard', 'hearing', 'heart', 'heartbroken', 'heartlanta', 'heartless', 'hearts', 'heat', 'heated', 'heathrow', 'heathrowairport', 'heattrap', 'heaven', 'heavenlychc9', 'heavily', 'heavy', 'heck', 'hectic', 'heel', 'heels', 'hegshmeg', 'heh', 'heidimacey', 'height', 'heinekenusacorp', 'helacohlc', 'held', 'helene', 'hell', 'hella', 'heller', 'hello', 'hellobrittney_', 'help', 'help_lindsey', 'helpaa', 'helped', 'helper', 'helpful', 'helpfulness', 'helpimstuck', 'helping', 'helpless', 'helpline', 'helpmeplease', 'helps', 'helsinkiairport', 'hemisphere', 'hemispheres', 'hemispheresmag', 'hemophilia', 'hence', 'henrikwagner73', 'hep', 'hepknpuzwu', 'hepl', 'her', 'herb', 'herba', 'herbal', 'herded', 'here', 'herman', 'herndon', 'hero', 'heroes', 'herself', 'hesitant', 'hey', 'heymynameissean', 'heyo', 'heyyyy', 'hez4jk4zsk', 'hf8ajz4ffl', 'hfjkto', 'hfjyn2vtvj', 'hfof33iyhi', 'hg7veqhghy', 'hgeronemus', 'hhagerty', 'hhoxqpsuba', 'hi', 'hi6fl1ax9e', 'hi76boavxy', 'hiccups', 'hid', 'hidden', 'hide', 'higgs', 'high', 'highbuddyyy', 'higher', 'higherandhigher', 'highest', 'highhopes', 'highlight', 'highly', 'highway', 'hike', 'hilarious', 'hill', 'hillaconlin', 'hilo', 'hilton', 'hiltonworldwide', 'him', 'hime', 'himself', 'hindered', 'hint', 'hinted', 'hints', 'hip', 'hipster', 'hipunis', 'hirasmusbidragi', 'hire', 'hired', 'hiremorepeople', 'hiremorepoeple', 'hiring', 'his', 'hisc4ndmgz', 'historical', 'historically', 'history', 'hit', 'hitawall', 'hitch', 'hits', 'hitting', 'hizouse', 'hj5kq82chn', 'hkg', 'hlm2oks6xl', 'hlp', 'hlzahxkdsn', 'hm', 'hmm', 'hmmm', 'hn', 'hnl', 'ho', 'hoagy10', 'hockey', 'hof', 'hogs', 'hold', 'holder', 'holders', 'holding', 'holdon', 'holds', 'holdtime', 'holdup', 'hole', 'holiday', 'holidays', 'holla', 'holler', 'hollow', 'hollymais', 'hollywood', 'holton', 'holy', 'holz', 'home', 'homeandreadyfornexttrip', 'homegirl', 'homeless', 'homeschool', 'hometown', 'homeward', 'homewardbound', 'homosexual', 'hon', 'honalulu', 'honest', 'honestly', 'honesty', 'honey', 'honeymoon', 'honolulu', 'honor', 'honorable', 'honored', 'honoring', 'honors', 'honour', 'honululu', 'hoo', 'hood', 'hoodlums', 'hook', 'hooked', 'hooking', 'hoom', 'hooooo', 'hoops', 'hooray', 'hoot', 'hop', 'hope', 'hoped', 'hopeful', 'hopefully', 'hopeidonotgetsick', 'hopeless', 'hopes', 'hopethegearmakesitintact', 'hopetogetanswersoon', 'hopin', 'hoping', 'hopkins', 'hopped', 'hops', 'horizon', 'hormonal', 'hormones', 'horrendous', 'horrible', 'horribleattitudes', 'horriblecustomerservice', 'horribleservice', 'horribly', 'horrid', 'horrific', 'horror', 'horse', 'hosp', 'hospice', 'hospitality', 'hospitals', 'hostage', 'hostel', 'hostile', 'hosting', 'hot', 'hotel', 'hotelliving', 'hotels', 'hotelstonight', 'hotl', 'hotlanta', 'hotline', 'hotmail', 'hotspot', 'hotter', 'hotterandlongerthanhell', 'hou', 'hour', 'hour20delay', 'hourandtenminutedelay', 'hourdelay', 'hours', 'house', 'housing', 'houston', 'hover', 'hovuaisg16', 'how', 'howdy', 'however', 'howhardcanthatreallybe', 'howisthatpossible', 'hp', 'hp9rppcvhx', 'hpgxyzrw8o', 'hpn', 'hpsieaokwh', 'hqdb5iruvg', 'hqdtk6atue', 'hqhdad7fvk', 'hr', 'hrl', 'hrs', 'hrvuktpvn1', 'hs', 'hsmpbsf4uf', 'hstg', 'hsv', 'html5', 'hts', 'http', 'https', 'hub', 'hubby', 'hubbys', 'hubs', 'huclxluv5h', 'huffpostbiz', 'hug', 'huge', 'hugeeeee', 'hugely', 'hughes', 'huh', 'human', 'humanity', 'humans', 'humiliated', 'humiliating', 'humor', 'humored', 'humour', 'humphrey', 'hundred', 'hundreds', 'hung', 'hungary', 'hungry', 'hungupnohelp', 'hunky', 'hunt', 'hunting', 'huntsville', 'hurricane', 'hurry', 'hurt', 'hurting', 'hurts', 'hury', 'husain', 'husainhaqqani', 'husband', 'husbands', 'huston', 'hutchinsjim', 'huxleyesque', 'hv', 'hve', 'hxsnv7fbbh', 'hxvvis0vww', 'hy0vrfhjht', 'hyperlinked', 'hypocrisy', 'hyrao7a4uu', 'i1sfmi7zat', 'i5v9wfbtue', 'i6ep18', 'i7ut2zvhco', 'i7vdi9wqsf', 'i9kcgaxxfa', 'i9s86kihge', 'iad', 'iadore', 'iah', 'ialiceh2ft', 'iamtedking', 'iata', 'iatanbul', 'ib8kyjbcjm', 'iberia', 'ibvvtzls4e', 'ice', 'icecream', 'iced', 'iceday', 'iceland', 'icelandair', 'ichangedyourdiaper', 'icing', 'icloud', 'iconography', 'icu', 'icy', 'icyflight', 'id', 'idaho', 'idea', 'ideal', 'ideas', 'identical', 'ideologias', 'ideserveareward', 'idiot', 'idiotic', 'idiots', 'idk', 'idlovetoask', 'idnumber8569822', 'idols', 'idonotcare', 'idontwannalivewithoutyourlove', 'idontwanttocallback', 'idra8kenoh', 'ids', 'ieg2obcepp', 'iest', 'if', 'ifc', 'ife', 'ifeeldumb', 'ifespcbztm', 'iflyalot', 'iflyoakland', 'ifthe80sneverstopped', 'ig2dgctt2m', 'igiveup', 'igkogywksr', 'ignorant', 'ignore', 'ignored', 'ignores', 'ignoring', 'igotmonte', 'igsvzvrbbn', 'ih5w9nfkz2', 'iha', 'ihatemergers', 'ihop', 'iidrblnoox', 'iiiii', 'iimtjxcvlg', 'iitojhuikh', 'ij4xl01tkx', 'ijustwanttobeinboston', 'ijustwanttosleep', 'ikqbdza7tn', 'il', 'ilc0hp', 'ill', 'illegal', 'illiterate', 'illness', 'illogical', 'ilm', 'ilookyoung', 'ilovejetblue', 'ilqzmmjiyq', 'ils', 'im', 'images', 'imagine', 'imagined', 'imaginedragons', 'imateacher', 'imdetermined', 'imessage', 'imjustsaying', 'imma', 'immediate', 'immediately', 'immensely', 'imo', 'impact', 'impacts', 'impaired', 'impatience', 'impatient', 'impediment', 'impending', 'impersonal', 'impersonator', 'implement', 'impolite', 'important', 'importantflight', 'impossible', 'impossibly', 'impress', 'impressed', 'impression', 'impressions', 'impressive', 'improper', 'improve', 'improved', 'improvement', 'improvements', 'improves', 'improvetheprocess', 'improving', 'imran_r44', 'imrlau77ih', 'imtired', 'imvmpnqxai', 'in', 'in1st', 'in24bpb7dw', 'inability', 'inaccessibility', 'inaccurate', 'inactivity', 'inadequate', 'inappropriate', 'inappropriately', 'inbound', 'inbox', 'inc', 'incapable', 'incase', 'incedentals', 'incentive', 'inch', 'inchecking', 'inches', 'incident', 'incidentally', 'incidentals', 'incidents', 'incl', 'inclement', 'inclemental', 'incls', 'include', 'included', 'includes', 'including', 'inclusion', 'income', 'incoming', 'incompetence', 'incompetency', 'incompetent', 'incompetentmanagers', 'incomprehensible', 'inconceivable', 'inconsiderate', 'inconsistent', 'inconvenience', 'inconvenienced', 'inconveniences', 'inconvenient', 'inconveniently', 'inconvience', 'incorrect', 'incorrectly', 'increase', 'increased', 'increasing', 'incredible', 'incredibly', 'increments', 'incubator', 'incur', 'incurred', 'incurring', 'ind', 'ind43728m', 'indeed', 'indenial', 'independence', 'india', 'indian', 'indianapolis', 'indicate', 'indicated', 'indicates', 'indicating', 'indication', 'indignation', 'individual', 'induce', 'industry', 'indy', 'inebriated', 'inedible', 'ineedabeer', 'ineedcoffee', 'inefficiency', 'inefficient', 'ineligible', 'inept', 'inevitable', 'inexcusable', 'inexpensive', 'inexperienced', 'infant', 'infants', 'inferior', 'infinite', 'infinity', 'inflatable', 'inflating', 'inflation', 'inflexible', 'inflght', 'inflight', 'influx', 'info', 'infographic', 'inform', 'information', 'informative', 'informed', 'informing', 'informs', 'infrastructure', 'infringement', 'infuriated', 'infuriating', 'ing', 'ingredients', 'inhumane', 'initial', 'initiated', 'initiative', 'injured', 'injuries', 'injury', 'inline', 'inner', 'innovacion', 'innovation', 'innp0kkyby', 'inop', 'inoperable', 'inperson', 'inpolite', 'input', 'inputted', 'inquire', 'inquired', 'inquiries', 'inquiring', 'inquiry', 'ins', 'insane', 'insanely', 'insanity', 'insensitive', 'inserted', 'inside', 'insider', 'insight', 'insist', 'insisted', 'inspected', 'inspiration', 'inspired', 'inspiring', 'insta', 'instagram', 'installation', 'installed', 'installing', 'instance', 'instant', 'instantly', 'instead', 'institutional', 'instructed', 'instructions', 'instrument', 'instruments', 'insubstantial', 'insufficient', 'insulin', 'insult', 'insulted', 'insulting', 'insurance', 'insure', 'int', 'intact', 'integrate', 'integrating', 'integration', 'integrity', 'intel', 'intelligence', 'intelligent', 'intend', 'intended', 'intent', 'intention', 'intentional', 'intentionally', 'interaction', 'interchangeably', 'intercom', 'intercontinental', 'interest', 'interested', 'interesting', 'interferes', 'interfering', 'interim', 'interior', 'interiors', 'intern', 'internal', 'internally', 'international', 'internationally', 'internet', 'internjohnradio', 'interns', 'internship', 'internships', 'interpreting', 'interrogated', 'interrupted', 'interupt', 'interview', 'interviewed', 'interviews', 'intimate', 'intl', 'intlcheckin', 'into', 'intra', 'intro', 'intrusive', 'intuit', 'intuitlife', 'inv', 'invalid', 'invalid_loyalty_member_account_status', 'inventory', 'invest', 'investigate', 'investigated', 'investigation', 'investment', 'investor', 'investors', 'invitation', 'invitational', 'invite', 'invited', 'invoice', 'invoices', 'involuntarily', 'involve', 'involved', 'iol', 'ionlyflyblue', 'ios', 'iove', 'iowa', 'ipaamzt7z2', 'ipad', 'iphone', 'ipodtouch', 'iqnvyfpg4p', 'iqu0ppvq2s', 'iraiq', 'irate', 'ireland', 'irene', 'irina', 'irixaifjjx', 'irmafromdallas', 'irons', 'irony', 'irregularity', 'irreplaceable', 'irresponsible', 'irritated', 'irritating', 'irrlcd', 'irrops', 'is', 'is9jx1', 'isabelle', 'isdelayed', 'ish', 'ishouldhavedriven', 'isis', 'isit', 'isitsummeryet', 'isitthegarykellyway', 'island', 'islandexpert', 'islands', 'isle', 'isn', 'isnt', 'isolate', 'isp', 'israel', 'issue', 'issued', 'issues', 'issuing', 'istanbul', 'istead', 'isthisreal', 'isthisyourfirsttry', 'it', 'italian', 'italy', 'item', 'items', 'itenary', 'itfits', 'ithaca', 'ithelpsabit', 'ithica', 'itin', 'itineraries', 'itinerary', 'itis', 'ito', 'itover', 'itproblems', 'itravelalot', 'its', 'itsaaronchriz', 'itscold', 'itscostingmeincome', 'itself', 'itslaloca', 'itsthelittlethings', 'itunesmusic', 'itwasminttobe', 'iusedtoloveu', 'iux94rgc83', 'ive', 'ivgpzsjtkw', 'ivr', 'iwantcoffee', 'iwantmymoneyback', 'iwas', 'iwoigrlhxb', 'iwoulddoanythingforlove', 'ixm3t5mizc', 'iy', 'iyuzm2puvs', 'izfofgjzui', 'j0mhmkdivl', 'j4cj0lrf2d', 'j6hb4jdver', 'j6iclv8dts', 'j_beatz247', 'jabevan221', 'jac', 'jack', 'jack_kairys', 'jackass', 'jacked', 'jacket', 'jackpot', 'jackson', 'jacksonville', 'jacqueline', 'jacquelyn', 'jacquie', 'jail', 'jailbreak', 'jaipur', 'jal', 'jam', 'jamaica', 'james', 'jamesasworth', 'jameskraw', 'jameswester', 'jamie', 'jammed', 'jan', 'jana', 'jane', 'janet', 'janna', 'jannasaurusrex', 'january', 'japan', 'jaramillo', 'jaskyplwt5', 'jason', 'jasonwhitely', 'javascript', 'jax', 'jax2bna', 'jayfranceschi', 'jaynegelman', 'jayvig', 'jb', 'jbdkxd6efz', 'jblu', 'jbmvvha63a', 'jbyvmsod29', 'jcolenc', 'jdbwaffles', 'jdhadp', 'jealous', 'jeanette', 'jeanine', 'jeans', 'jedediah', 'jedediahbila', 'jeff', 'jeff_hofmann', 'jeffsmisek', 'jennifer', 'jenniferdawnpro', 'jenniferwalshpr', 'jennings', 'jeokoo', 'jeopardy', 'jerk', 'jerks', 'jersey', 'jessicajaymes', 'jesus', 'jet', 'jetbae', 'jetblue', 'jetblueanyone', 'jetblueblues', 'jetbluebos', 'jetbluebruins', 'jetbluecheeps', 'jetbluefail', 'jetbluefame', 'jetblueforever', 'jetbluehatesbtv', 'jetbluejfk', 'jetbluemember', 'jetbluemess', 'jetbluerocks', 'jetblues', 'jetbluesofly', 'jetbluesucks', 'jetbridge', 'jetgreen', 'jetred', 'jets', 'jetscrew', 'jetsetter', 'jetway', 'jetways', 'jeu7od3eyj', 'jewel', 'jezziegoldz', 'jfk', 'jgdu5us8dz', 'jgor0vdi3s', 'jh', 'jhamilton2007', 'jhau4k48yv', 'jhughes1025', 'jhxwmutx4g', 'ji2pg4gom9', 'ji7xks2jkk', 'jieycat1ek', 'jilted', 'jim', 'jimcramer', 'jimdaytv', 'jimmy', 'jimtrotter_nfl', 'jindalcmc', 'jj', 'jjdosfyibm', 'jk', 'jk7qmdfqgf', 'jkf', 'jknwugj778', 'jlhalldc', 'jlhm0x7ukb', 'jlittle100', 'jln', 'jloiblnair', 'jm4geyxby5', 'jm8gq1kgrf', 'jmercadomma', 'jmnkj6bmc2', 'jms2802', 'jn3v3k3qgv', 'jnqnbk7hut', 'joanna', 'joanne', 'job', 'jobfail', 'jobs', 'jockeying', 'joe', 'john', 'johnnosta', 'johnwayneair', 'join', 'joined', 'joke', 'jokers', 'jokerunning', 'jokesonus', 'joking', 'jon', 'joni', 'joplin', 'jordnnicole7', 'jorescfb4x', 'jorge', 'jose', 'josephtreis', 'journal', 'journalist', 'journey', 'joy', 'joyadventuremom', 'jp', 'jparkermastin', 'jpd7nsgrt7', 'jperhi', 'jqhg4jtm4w', 'jrbzlhrw7y', 'js', 'jsom', 'jsumiyasu', 'jt', 'jtrexsocial', 'jtxyhqhfjj', 'ju9rhz4rqc', 'jua', 'juan', 'judas', 'judeo', 'juice', 'julesdameron', 'julgood1', 'julian', 'juliasinton948', 'julie', 'july', 'jump', 'jumped', 'jumping', 'junction', 'june', 'junk', 'jurassic', 'just', 'justdoit', 'justgetmehome', 'justifiable', 'justify', 'justifythissupport', 'justsayin', 'justsaying', 'justwantmybed', 'justwrong', 'justynmoro', 'jvj73zza4a', 'jvmchat', 'jvstatus', 'jwa', 'jwl26g6lrw', 'jx4s2t', 'k0mhzrjf6e', 'k13', 'k20', 'k66srfnw77', 'k7ubotmr1r', 'kacy2awdbw', 'kaej9g0chd', 'kaha58', 'kailua', 'kaneshow', 'kangaroos', 'kanne822', 'kansas', 'kaps12', 'karaax', 'karabuxthomps', 'karajusto', 'karen', 'karinslee', 'karma', 'kat', 'kate', 'kathryn', 'kathrynsotelo', 'katie', 'kats', 'kauai', 'kax', 'kay', 'kbb0b5fxmk', 'kbhym5gkap', 'kc', 'kcddod7uff', 'kci', 'kciairport', 'kconti44', 'kcqebeej7s', 'kcqnwixucm', 'kcvubuyexc', 'kdepetro313', 'kdhruf54sw', 'kdmq0jps02', 'kdzqczlpyr', 'keambleam', 'keep', 'keepem2', 'keeper', 'keeping', 'keepingit100', 'keepingtraditionsalive', 'keepit100', 'keepitclassy', 'keepitmovin', 'keepitup', 'keepmy', 'keeps', 'keepusguessing', 'keithlaw', 'kek5pdmgif', 'kelly', 'kelsey', 'kentuckymbb', 'kept', 'kerry', 'ketr', 'kevin', 'kevinswan_', 'kevolt', 'kewl', 'key', 'keyrpflhil', 'kfd4wqrklw', 'kfkjf1ztgi', 'kfuyyokufv', 'kgonzales89', 'khzrccyp2a', 'kick', 'kicked', 'kickin', 'kicking', 'kid', 'kidding', 'kidnapped', 'kids', 'kieranmahan', 'kigfkvxxdq', 'kill', 'killed', 'killeen', 'killin', 'killing', 'kim', 'kin', 'kind', 'kinda', 'kinder', 'kindle', 'kindly', 'kindness', 'king', 'kiosk', 'kiosks', 'kirkwoodtiger', 'kisses', 'kit', 'kitchen', 'kits', 'kitties', 'kitty', 'kj1iljaebv', 'kjkuvj6cmo', 'kk6eixifp5', 'kkay8xaps1', 'kkedjnrtwo', 'kkwhb', 'kkwiwi97a4', 'kl9baimes6', 'kleankanteen', 'kleinerin', 'klxivnbcyh', 'kmanldqbh4', 'kmdw', 'kmm24999563v99860l0km', 'kmquly9g5e', 'kms', 'kn', 'knack', 'knees', 'knew', 'knock', 'know', 'knowing', 'knowledge', 'known', 'knows', 'knoxville', 'knuvuovhub', 'koa', 'kooples', 'korea', 'kosher', 'kp', 'kphl', 'kqnrrp86a5', 'kravitz', 'krescate', 'kristi_capel', 'kristie', 'kristy', 'ksml', 'kta', 'ktawbiuuro', 'kthxbai', 'ktm', 'ktn', 'kuala', 'kudos', 'kul', 'kumtbger03', 'kung', 'kurt', 'kvfwajvvid', 'kvxs1lcqlp', 'kwuek1ukbc', 'ky', 'kybilc', 'kylecomer_', 'kylejudah', 'kys', 'l0i8fnz3ku', 'l2n0eghdgn', 'l7hsnlgie2', 'l7lwjazioa', 'l8', 'l8r', 'l_burley11', 'la', 'la397zaoay', 'labeled', 'labor', 'labrador', 'labyrinth', 'lack', 'lacked', 'lacking', 'lacks', 'lacma', 'ladan', 'laden', 'ladies', 'lady', 'ladygaga', 'lag', 'lagging', 'lagos', 'laguardia', 'laguardiaair', 'laiggef9kj', 'laissez', 'lake', 'lame', 'lamp', 'lan', 'land', 'landed', 'landing', 'landings', 'landonschott', 'lands', 'lane', 'lanes', 'language', 'languages', 'lap', 'laps', 'lapse', 'laptop', 'large', 'larger', 'largest', 'larkc8vc4s', 'larry', 'las', 'las2buf', 'las2sfo', 'lasairport', 'lasalle', 'last', 'lasted', 'lastella', 'lastflightofthenight', 'lastflightwithyouever', 'lastly', 'lastnight', 'lasttweetaboutthis', 'late', 'latimes', 'latinamerican', 'latrice', 'latte', 'latter', 'lauderdale', 'laugh', 'laughed', 'laughing', 'laughter', 'launched', 'launder', 'laundry', 'laura', 'laurasbrown5', 'lauren', 'laurieameacham', 'lav', 'lavatory', 'lavoratories', 'law', 'laws', 'lawsuit', 'lawyer', 'lawyerup', 'lax', 'lax29108m', 'lay', 'layout', 'layover', 'layovers', 'lazy', 'lb', 'lbairport', 'lbb', 'lbc', 'lbs', 'lchvjolidg', 'ld', 'le2v9d', 'le4h2gtzxz', 'lea', 'lead', 'leader', 'leadership', 'leading', 'leads', 'league', 'leah', 'leak', 'leaking', 'leanin', 'learn', 'learncustomerservice', 'learned', 'learning', 'learnt', 'lease', 'least', 'leastthebeverageswillbecold', 'leather', 'leatherseats', 'leathery', 'leave', 'leaves', 'leaving', 'leavingtomm', 'led', 'lednocdqee', 'leeannhealey', 'leeds', 'leeway', 'left', 'leg', 'legacy', 'legal', 'legalizes', 'legally', 'legit', 'legitimate', 'legitimately', 'legroom', 'legs', 'leigh_emery', 'leinenkugels', 'leisure', 'lekvhg', 'lemme', 'lenaowfyvu', 'lend', 'length', 'lengthy', 'lenses', 'leopolds_ic', 'lesliewolfson', 'less', 'lessening', 'lesson', 'let', 'letdown', 'letitgo', 'lets', 'letsgo', 'letsgoalready', 'letsgohome', 'letsworktogether', 'letter', 'letters', 'letting', 'level', 'levels', 'leverage', 'levi', 'lex', 'lexington', 'lf69waf5ad', 'lfgr0nifut', 'lfs4pefe6y', 'lft5', 'lft7qd23sy', 'lfw15', 'lga', 'lgb', 'lgbt', 'lgjw7b', 'lh', 'lh7631', 'lhr', 'lhrdfw', 'lhrt2', 'lhwfbkfyni', 'liable', 'liar', 'liars', 'liberty', 'library', 'license', 'lick', 'lie', 'lied', 'lieflat', 'lies', 'life', 'lifeisgood', 'lifeline', 'lifeneedsfrosting', 'lifesaver', 'lifetime', 'lifevests', 'lift', 'liftin', 'lifting', 'light', 'lightbulb', 'lighting', 'lightly', 'lightning', 'lights', 'lightyears', 'like', 'likeagirl', 'liked', 'likelihood', 'likely', 'likes', 'liking', 'likingyoulessandless', 'lil', 'lile', 'lilly', 'lima', 'limbo', 'limit', 'limited', 'limits', 'lin', 'lindaswc', 'lindsay', 'lindsey', 'line', 'lined', 'lines', 'linesforever', 'lineup', 'lingo', 'lining', 'link', 'linked', 'linking', 'links', 'lio6ocpteq', 'lip', 'lipstick', 'liqwoblfbt', 'lisa', 'lisapal', 'list', 'listed', 'listen', 'listened', 'listening', 'listens', 'lister', 'listing', 'lists', 'lit', 'lite', 'literally', 'literate', 'litter', 'little', 'live', 'liveatfirefly', 'lived', 'lively', 'liveonfox17', 'livepersonplease', 'livery', 'lives', 'livethelegend', 'livewelltraveled', 'livid', 'living', 'livvyports16', 'liza', 'lizaapproved', 'lizautter', 'lj2larive0', 'lj2ydkor8q', 'lj2zxzn8kg', 'ljzdthd9bv', 'lkfh9hyhw8', 'll', 'lloyd', 'lly144', 'lm3opxkxch', 'lmao', 'lmaooo', 'lmaoooo', 'lmfao', 'lmfaooo', 'lmfaooooo', 'lmk', 'lmuschel', 'lnded', 'lo', 'lo6lghpcdu', 'load', 'loaded', 'loading', 'loads', 'loaned', 'loaner', 'loanr', 'loans', 'lobstermac', 'loc', 'local', 'localized', 'locally', 'locals', 'locate', 'located', 'locating', 'location', 'locations', 'locator', 'lock', 'locked', 'lodge', 'lodging', 'loeco4gmvd', 'loft', 'lofty', 'log', 'logan', 'loganairports', 'loganex', 'logged', 'logging', 'logic', 'logical', 'logically', 'login', 'logistically', 'logistics', 'logo', 'logout', 'logs', 'lol', 'lolol', 'lololololol', 'loluwfci11', 'lolz', 'lon', 'london', 'londonfashionweek', 'lone', 'loner', 'long', 'longbeachairport', 'longbeachcity', 'longday', 'longer', 'longing', 'longstanding', 'look', 'looked', 'lookforwardtoflywithaa', 'lookin', 'looking', 'looks', 'looong', 'loooooong', 'loop', 'looped', 'loose', 'loosing', 'lopezlaymari', 'lord', 'los', 'lose', 'loser', 'losers', 'loses', 'losing', 'loss', 'lost', 'lostacustomer', 'lostandforgotten', 'lostbags', 'lostinlove', 'lostluggage', 'lostmybusiness', 'lostrevenue', 'lostsuitcase', 'lot', 'lots', 'lotttttttt', 'lou', 'loud', 'louder', 'loudly', 'loudspeaker', 'louis', 'louisville', 'lounge', 'lounges', 'louprice13', 'lousy', 'love', 'love_dragonss', 'loved', 'lovedflyingwiththem', 'loveeee', 'loveisintheair', 'lovejetblue', 'loveloughneagh', 'lovely', 'loves', 'lovesongfriday', 'lovesouthwest', 'lovesouthwestair', 'lovetotravel', 'loving', 'low', 'lowdown', 'lower', 'lowercase', 'lowered', 'loweredexpectations', 'lowest', 'lowstandards', 'loyal', 'loyalmosaicmember', 'loyalrrmember', 'loyalty', 'lpalumbo', 'lpdstock', 'lqjt2jvoys', 'lruns4cupcakes', 'lsuquinlanduhon', 'lsusoftball', 'lsxji0ouvr', 'lsybglf59j', 'lt', 'lt1pykfvrq', 'ltaljx', 'ltf2qud3xc', 'ltr', 'ltwhmol1dr', 'lubbock', 'lucas', 'lucia', 'luck', 'luckily', 'lucky', 'lucycat', 'lufthansa', 'lug4mfvwsa', 'luggage', 'luggagegate', 'luggages', 'lugging', 'luke_mcintosh68', 'lukewyckoff', 'lulgnweffh', 'lumpur', 'lunch', 'lunchtime', 'lung', 'lungs', 'lusaka', 'luv', 'luvagent', 'luved', 'luvforsw', 'luvin', 'luvintheair', 'luvisbetter', 'luvsw', 'luvswa', 'luvthem', 'luxclark', 'luxuries', 'luxurious', 'luxury', 'luz', 'lv', 'lv9hwqdk9a', 'lve', 'lvirtdtqly', 'lwotkiekgu', 'lwwdac2khx', 'lx009', 'lxwbsfxfj0', 'lycarltfhl', 'lying', 'lynchburg', 'lynn', 'lyoocx5msh', 'lyqrb4hcyu', 'lzfgutxiyn', 'm13', 'm1yywafkfi', 'm2phoavrxc', 'm2wsg2olgo', 'm4uwcpxtxj', 'm67wnbglxq', 'm7mmq2f5fa', 'm8', 'm81rv0blxs', 'm9nywr5kbs', 'ma', 'maarten', 'maatkare67', 'mac', 'macario2', 'machine', 'machines', 'mad', 'madbee95', 'maddening', 'maddie_flood', 'made', 'madhouse', 'madness', 'madrid', 'mae', 'maf', 'mag', 'magazine', 'magic', 'magical', 'magically', 'maiden', 'mail', 'mailbox', 'mailing', 'mails', 'maimi', 'main', 'maine', 'mainline', 'maint', 'maintain', 'maintained', 'maintenance', 'maintenece', 'mait', 'major', 'majority', 'make', 'makeitright', 'makeovertime', 'makers', 'makes', 'makessense', 'makestoomuchsense', 'makeup', 'making', 'makingloveoutofnothingatall', 'makingthingseasy', 'malaysia', 'malcome', 'male', 'malfunction', 'malfunctioning', 'malhoit', 'malik', 'mall', 'mallowfairy', 'malpensa', 'maltese', 'mammoth', 'man', 'manage', 'managed', 'management', 'manager', 'managers', 'managing', 'manana', 'manch', 'manchester', 'mandarinjourney', 'mandatory', 'maneuver', 'manifests', 'manilla', 'manned', 'manner', 'manners', 'mans', 'manual', 'manually', 'manuel', 'manuel_c', 'manufactured', 'many', 'map', 'maps', 'maqw2nlniu', 'marathon', 'marccopely', 'march', 'marciaveronicaa', 'marcnocwzn', 'marcos', 'marcus', 'mardi', 'mardigras', 'mardigras2015', 'margo', 'maria', 'marie', 'marieharf', 'marinadomine', 'mario', 'marisol', 'mark', 'marked', 'market', 'marketing', 'markets', 'marketwatch', 'markie', 'markie_post', 'marks', 'marriage', 'married', 'marriott', 'marriottrewards', 'marry', 'marsh', 'marsha', 'marshaled', 'marshall', 'martha', 'martin', 'marty', 'martysg', 'marvinatorsb', 'marxsterbcow', 'mary', 'maryella_green', 'maryjo', 'mashing', 'mask', 'mason', 'mass', 'massages', 'massive', 'massivefail', 'mastercard', 'masters', 'mat', 'match', 'mates', 'math', 'matt_e_boss', 'matter', 'matters', 'matthewebel', 'mattthomasnews', 'mauererpower', 'maui', 'maverick', 'mavigetbbw', 'max', 'maxabrahms', 'maxfitgirl29', 'maximization', 'may', 'maybe', 'maybeijustlost', 'maybemange', 'maysvillenyc', 'mayweather', 'mayweatherpacquiao', 'mb0hvfqb1t', 'mb3bjwgoap', 'mb3ipgs8zq', 'mbas', 'mbcehcszx3', 'mbj', 'mbltalr4bs', 'mbr', 'mc', 'mccaren', 'mccarran', 'mcdonnell', 'mce', 'mcgraw', 'mci', 'mckinnie', 'mclarren', 'mcmullen', 'mco', 'mcsi0dzpnz', 'md', 'md80', 'mdbdyomrs7', 'mdbeei', 'mde', 'mdn5ed58ze', 'mdt', 'mdw', 'mdw2mci', 'me', 'me2make', 'me2sit', 'meagan', 'meal', 'meals', 'mean', 'meaning', 'meaningful', 'means', 'meant', 'meantime', 'meanwhile', 'measles', 'measly', 'measure', 'measured', 'measurements', 'meat', 'mech', 'mechanic', 'mechanical', 'mechanicalissue', 'mechanics', 'med', 'medal', 'medallion', 'media', 'medical', 'medicalissue', 'medically', 'medication', 'medicine', 'mediocre', 'medium', 'meds', 'medusafridays', 'meelan', 'meerikangas', 'meet', 'meeting', 'meetings', 'meetthefleet', 'mega', 'megelizabeth631', 'megentripodi', 'meggersrocks', 'megzezzo', 'meh', 'mejia', 'mel', 'melaniespring', 'melbourne', 'melinda', 'melissa', 'melissaafrancis', 'mellani', 'mellie', 'melting', 'melton', 'mem', 'member', 'members', 'membership', 'memgrizz', 'memo', 'memorial', 'memories', 'memorize', 'memory', 'memphis', 'men', 'ment', 'mental', 'mentality', 'mention', 'mentioned', 'mentioning', 'mentions', 'menu', 'menus', 'meoalcipdd', 'mercy', 'mere', 'merge', 'merged', 'merger', 'mergerdisaster', 'mergers', 'merging', 'mess', 'message', 'messaged', 'messages', 'messaging', 'messed', 'messes', 'messing', 'met', 'metal', 'metars', 'method', 'methods', 'metro', 'mex', 'mexico', 'mf7rabgn8a', 'mfmnkmvotr', 'mfps', 'mfssh2uhue', 'mga', 'mgmt', 'mgr', 'mha3xxaed5', 'mhhs9ruplv', 'mht', 'mhtforlife', 'mhtt', 'mi', 'mia', 'miami', 'miamore', 'miatoiah', 'michael', 'michaelbcoleman', 'michele', 'michelle', 'microsecond', 'mid', 'middle', 'middleeast', 'mideast', 'midght', 'midland', 'midnight', 'midnite', 'midoexhibition', 'midterm', 'midway', 'might', 'mightmismybrosgraduation', 'mighty', 'miguel', 'mike', 'mikeabramson', 'mikehertz7', 'mikes', 'milage', 'milageplus', 'milan', 'mild', 'mile', 'mileage', 'mileageplus', 'mileagerun', 'milehighselfieclub', 'miler', 'miles', 'milesaaver', 'milestone', 'military', 'million', 'millions', 'milwaukee', 'mimosa', 'min', 'mind', 'mindset', 'mine', 'minefits', 'mines', 'mini', 'minimal', 'minimum', 'minneapolis', 'minor', 'minors', 'mins', 'mint', 'mintalicious', 'mintyfresh', 'minus', 'minute', 'minutes', 'miracle', 'miracles', 'miraculously', 'miranda', 'miriam', 'mis', 'misbehavior', 'miscalculation', 'miscnx', 'miscommunicated', 'misconnected', 'miscounting', 'miserable', 'miserablemorning', 'miserably', 'misery', 'misfortune', 'misguided', 'mishaps', 'misinformation', 'misjudging', 'mislead', 'misleading', 'mismanagement', 'misplace', 'misplaced', 'misread', 'miss', 'missed', 'missedconnection', 'missedflight', 'missedupgrades', 'missedwork', 'misses', 'missin', 'missing', 'missingtheoscars', 'mission', 'missmykids', 'misspelled', 'mistake', 'mistakefurious', 'mistaken', 'mistakes', 'mistreated', 'mistreatment', 'misunderstanding', 'misunderstood', 'mitchell', 'mitchellairport', 'mitchsunderland', 'mite', 'mites', 'mix', 'mixtape', 'mjkpgvxmpc', 'mjtk2sfuhg', 'mk', 'mke', 'mkpognntyc', 'mkt', 'mktg', 'mkwlkr', 'ml', 'ml1jacpmch', 'mli', 'mllovelace', 'mltple', 'mmcwkqp2gy', 'mmm', 'mn', 'mnl', 'mo3tvida', 'moar', 'mobay', 'mobil', 'mobile', 'mobileboarding', 'mobility', 'mod', 'model', 'modelodenegocio', 'moderate', 'modifications', 'modify', 'moines', 'mojave', 'mold', 'mom', 'moment', 'moments', 'momma', 'mommy', 'moms', 'momsgoodeats', 'mon', 'monday', 'monetary', 'money', 'moneyelsewhere', 'moneynotspentonunited', 'monica', 'monika', 'monitor', 'monitoring', 'monkey', 'monopoly', 'mons', 'monsoon', 'montana', 'montego', 'monterey', 'montereyregionalairport', 'month', 'monthly', 'months', 'montreal', 'montrose', 'mood', 'moodlight', 'moodlighting', 'moodlitmonday', 'mooks', 'moon', 'moose', 'mor', 'more', 'morn', 'morning', 'morons', 'mortified', 'mos', 'mosaic', 'mosaicmecrazy', 'mosiac', 'mosiacfail', 'most', 'mostly', 'mot', 'motel', 'mother', 'motherpollock', 'motion', 'motions', 'motor', 'motto', 'mountains', 'mouse', 'mouth', 'move', 'moveaboutthecountry', 'moved', 'movement', 'movements', 'moves', 'moveup', 'movie', 'movies', 'moving', 'mp', 'mp3', 'mpagent', 'mpi4yuo9jr', 'mplio6dygn', 'mpls', 'mpower', 'mpwnc2', 'mqxc64', 'mr', 'mrandyep', 'mraw3qdw4d', 'mrerickv', 'mrfbjtepef', 'mrjustyn', 'mrn', 'mrrenevendez', 'ms', 'msbgu', 'msg', 'msgs', 'msn', 'msnbc', 'msp', 'msscottwg', 'msy', 'mt', 'mt8splm02v', 'mtg', 'mtgs', 'mthm9waobu', 'mths', 'mtn', 'mty', 'muc', 'much', 'muchas', 'mugged', 'muh', 'multi', 'multibillion', 'multimedia', 'multimillion', 'multinational', 'multiple', 'multipledooropeningandclosing', 'multiplier', 'mumbai', 'mumbled', 'mundane', 'munich', 'murdering', 'murdock', 'murphyjulie', 'murraysawchuck', 'muscles', 'music', 'musical', 'musician', 'musicians', 'must', 'muzak', 'mv', 'mvmt', 'mvp', 'mvyoizrpde', 'mwa', 'mwangbickler', 'mwbk68k0a3', 'mwpg7grezp', 'mwsoguc33p', 'mx', 'mxo42', 'mxp', 'my', 'my3dnvbzaz', 'my8yb4', 'mybday', 'myers', 'mynzitcovn', 'mypompanobeach', 'myr', 'myrtle', 'myself', 'mysterious', 'mysteriously', 'mystery', 'mytimeismoney', 'myvxexperience', 'mzzfgqfhu2', 'n231wn', 'n26902', 'n284wn', 'n2fvelcygz', 'n33103', 'n33289', 'n351jb', 'n353jb', 'n366sw', 'n3bvzty3zi', 'n3lrfo4uay', 'n3suiip0vw', 'n559jb', 'n598jb', 'n5o43svl8i', 'n614sw', 'n615jb', 'n659sw', 'n747uw', 'n76200', 'n775jb', 'n7exdbcrhg', 'n7osjz8a59', 'n7psuejdc8', 'n813ma', 'n8325d', 'n8661a', 'n8uvclmada', 'n8winfu6c5', 'n924an', 'n9hmcrjchb', 'n9vge2npib', 'na', 'na5g5eakpa', 'nabisco', 'nada', 'nade', 'nader', 'naelah', 'nah', 'naia_miaa', 'nail', 'nailed', 'nakedmeetings', 'name', 'named', 'names', 'naming', 'nanceebing', 'nancy', 'nano', 'nantucket', 'naomi_cooper', 'nap', 'napkins', 'naples', 'narayanan', 'narita', 'narrow', 'narrower', 'narrowly', 'nas', 'nascar', 'nasdaq', 'nashinmypants', 'nashville', 'nassau', 'nastiest', 'nasty', 'nat', 'natca', 'nathankillam', 'nation', 'national', 'nationalairpor', 'nationalized', 'nationwide', 'natprodexpo', 'natt', 'natural', 'nature', 'naval', 'navigate', 'navigating', 'navimumbai', 'navy', 'nawww', 'nba', 'nbc', 'nbd', 'nbpcjcpew9', 'nbr', 'nbr1', 'nbsnewsr', 'nburnside26', 'nbz45jcd1r', 'nbzkhizf3v', 'nc', 'nc0es6e4lf', 'ncb2oncs9i', 'ncguzdgdaq', 'ncrmqibiwo', 'nd', 'ndtlj15zpu', 'ne', 'near', 'nearby', 'nearly', 'necessary', 'necessities', 'necessity', 'need', 'need2know', 'needcoffee', 'needed', 'needing', 'needlessly', 'needs', 'needtobehonest', 'needtocatchmynextflight', 'needtogethome', 'negative', 'negativedegrees', 'negatively', 'neglect', 'neglected', 'negligence', 'negligent', 'negotiate', 'negroni', 'nehnsdckty', 'neighboring', 'neighbors', 'neither', 'nelsjeff', 'nelson', 'nephew', 'neptune', 'nerd', 'nerdbird', 'nerds', 'nerves', 'nervous', 'net', 'netherlands', 'netneutrality', 'network', 'neuer', 'neurosurgery', 'nev', 'neveind', 'never', 'neveragain', 'neverchange', 'neverfails', 'neverflyaaagain', 'neverflyunited', 'neverflyusairways', 'neverflyvirgin', 'neverflyvirginforbusiness', 'nevergettinghome', 'neverontime', 'nevertakeno', 'nevertoldus', 'neveryamind', 'new', 'newamerican', 'newamericanairline', 'newamericanstinks', 'newark', 'newarkliberty', 'newborns', 'newburg', 'newburgh', 'newest', 'newlifetimecustomer', 'newly', 'neworleans', 'newplanesmell', 'news', 'newspaper', 'newsvp', 'newyork', 'next', 'nexttime', 'nexttimeiwillflysouthwest', 'nexus', 'nfaqhhr09j', 'nfjauw16vz', 'nftyconvention', 'ngg3n0wiar', 'nght', 'ngxal9oml6', 'nh', 'nh10', 'nh2i9zlzmk', 'nhl', 'nhlbruins', 'nhlonnbcsports', 'niagara', 'nice', 'nicely', 'nicer', 'nicest', 'nick', 'nickcunningham1', 'nickeled', 'nicole', 'niece', 'nigeria', 'nigga', 'niggaz', 'night', 'nightlife', 'nightmare', 'nightmarish', 'nights', 'nikon', 'ninadavuluri', 'nine', 'nines', 'nippon', 'nit', 'nite', 'nitrogen', 'nix', 'nixchangefees', 'nj', 'nj5ga1gds5', 'njv4bp', 'nkafbjyari', 'nklozcntto', 'nklw9ssvrq', 'nl', 'nlrphoto', 'nlzs1ehnee', 'nm', 'nm4agoodlife', 'nm4vnnf8kb', 'nmaryland', 'nmbhngnmki', 'nny', 'no', 'no2jetblue', 'no800number', 'no_airport', 'noaccountability', 'noah', 'noair', 'noanswer', 'noapology', 'nobackup', 'nobaggagefees', 'nobody', 'noc', 'nocareforcustomers', 'nocharge', 'nochill', 'noclothesnoinfo', 'nocoatcloset', 'nocommunication', 'nocompensation', 'nocrew', 'nocustomerservice', 'nodrinks', 'noexcuses', 'noexcusesaccepted', 'nofg0tqhyn', 'nofilterneeded', 'nofood', 'nofun', 'nofunatall', 'nogate', 'nogearnotraining', 'nogood', 'nohelp', 'nohelponboard', 'nohotel', 'noise', 'nokidhungry', 'nola', 'nolo', 'nolove', 'noloveforsurfers', 'noltnancy', 'noluv', 'nominated', 'nomoaa', 'nomoreaggravation', 'nomorecheckedbags', 'nomorevirgin', 'non', 'none', 'noneother', 'nonetheless', 'nonewplanes', 'nonexistent', 'nonperformance', 'nonprofit', 'nonprofits', 'nonrefundable', 'nonsense', 'nonstop', 'nonstops', 'nonupgrade', 'nonworking', 'noob', 'noodles', 'noon', 'noone', 'noooo', 'nooooo', 'noooooooooooooooooo', 'noooooooooooooooooooooope', 'nooption', 'nope', 'noplacelikehome', 'nopq5xisbs', 'nor', 'norahm', 'noreimbursement', 'noreply', 'norfolk', 'norm', 'norma', 'normal', 'normally', 'norris', 'north', 'northeast', 'northern', 'norush', 'norway', 'nose', 'nosecuritylines', 'nosedived', 'noservice', 'noshadetothedmv', 'nostalgic', 'nosupport', 'not', 'notafanofyourmerger', 'notahappycustomer', 'notahappytraveler', 'notanymore', 'notbabysitters', 'notch', 'notcomingback', 'notcool', 'note', 'noted', 'notes', 'notevenjv', 'notfair', 'notgoodenough', 'nothanks', 'nothappy', 'nothelpful', 'nothin', 'nothing', 'nothings', 'notice', 'noticed', 'noticing', 'notification', 'notifications', 'notified', 'notify', 'notifying', 'notimpressed', 'noting', 'notion', 'notmadeofmoney', 'notmyfault', 'notnice', 'notokay', 'notourfaultyoudontuseyourgatesright', 'notpghtimothy', 'notsatisfied', 'notsurprising', 'nottrue', 'notwheelsup', 'nov', 'novel', 'november', 'now', 'nowarmclothes', 'nowhere', 'nowhereland', 'noworstairline', 'noxtralegroom', 'nozzle', 'npbhd0', 'nrhodes85', 'nrosenb1', 'nrpwmgyv3e', 'nrt', 'ns1acfqcdq', 'nsjwvttjgo', 'nt', 'ntgl2wnqvm', 'nthin', 'ntrustopen', 'ntuix5dbyr', 'nudgenudge', 'nuhplnxriq', 'nullified', 'num', 'number', 'numbered', 'numbers', 'numerical', 'numerous', 'numofpointsavailable', 'nustgpelsf', 'nut', 'nutella', 'nuts', 'nutsaboutsouthwest', 'nvk3irg4kp', 'nvlnglnmgn', 'nvm', 'nvr', 'nw', 'nw7vx7dgmf', 'nwf2fka8fy', 'nwk', 'nws', 'nxqijcojnj', 'nxt', 'ny', 'ny6cs7jruv', 'ny_njairports', 'nyc', 'nyfw', 'nyjets', 'nyt', 'nytimes', 'nyvv1x3d67', 'nzdxrvszwv', 'nzherald', 'o0745apiau', 'o1u96xc3bo', 'o3cjsvssqf', 'o3srl1hfho', 'o3wlainimy', 'o4zr27qpcr', 'o5sifhp4rt', 'oa2drfaoq2', 'oaaret', 'oaflfr7wxb', 'oahu', 'oaj5mnucha', 'oak', 'oakland', 'oardjjgrrd', 'oatmeal', 'obama', 'obey', 'obf9jbpc6a', 'obj', 'obj_3', 'obnoxious', 'obqiro1buj', 'obscene', 'observation', 'observe', 'observer', 'obsessed', 'obsolete', 'obtain', 'obvious', 'obviously', 'oc', 'occasion', 'occasions', 'occupied', 'occupy', 'occur', 'occurred', 'occurs', 'ocean', 'ocqk0jfxua', 'oct', 'octavia', 'octaviannightmare', 'october', 'odd', 'odds', 'odlall5edh', 'ods1819', 'of', 'of40', 'of7pfvqpoy', 'off', 'offended', 'offenders', 'offensive', 'offensively', 'offer', 'offered', 'offering', 'offers', 'office', 'officer', 'offices', 'official', 'officially', 'offline', 'offload', 'offloading', 'often', 'ofw4a8b5ws', 'ogg', 'oh', 'oh7cfv7dhr', 'ohare', 'ohboy', 'ohio', 'ohioprobz', 'ohk', 'ohno', 'oi32uq2ttz', 'oil', 'oilncfweyg', 'ok', 'okaaaaay', 'okay', 'okayyyy', 'okc', 'okcdirects', 'okcprofessionals', 'okcthunder', 'okee', 'okie', 'oktukjy92o', 'olavarria', 'old', 'older', 'oldplanes', 'oldpolicieswaybetter', 'olds', 'oldseatnocushion', 'olive201', 'olives', 'olympic', 'om1vieg74a', 'oma', 'omaha', 'omg', 'omgee', 'on', 'onboad', 'onboard', 'onbrd', 'once', 'ondemand', 'one', 'onechildfourbags', 'onehouronhold', 'onelove', 'ones', 'oneworld', 'onfleek', 'ongoing', 'onhold', 'onholdfordays', 'onholdforever', 'onholdwith', 'onhxhco6bk', 'onion', 'online', 'only', 'onlyblue', 'onlyinamerica', 'onlywaytofly', 'ons', 'ont', 'ontario', 'ontarmac', 'ontime', 'onto', 'ooej4d4jop', 'ooh', 'ooookay', 'oops', 'op', 'opal', 'opaque', 'open', 'opened', 'opening', 'opens', 'openskies', 'operate', 'operated', 'operating', 'operation', 'operational', 'operations', 'operator', 'operators', 'opinion', 'opinions', 'opportunities', 'opportunity', 'opposed', 'opposite', 'oprah', 'ops', 'opsec', 'opt', 'optimistic', 'option', 'options', 'optout', 'oqukso3s2o', 'oqz7wc4lla', 'or', 'orange', 'orangecounty', 'orbitz', 'ord', 'ordeal', 'order', 'ordered', 'ordering', 'ordnoise', 'oregon', 'oreos', 'orf', 'org', 'organization', 'organizational', 'organizations', 'organized', 'orig', 'origami', 'origin', 'original', 'originally', 'originating', 'orl', 'orlando', 'orlandosentinel', 'orleans', 'orphan', 'orphanage', 'orthodoc', 'ory89eegek', 'os', 'osc9oflol3', 'oscar', 'oscarnight', 'oscars', 'oscars2015', 'oscars2016', 'oscars2105', 'oscarscountdown', 'osox9h7fwy', 'otfz7cyguq', 'other', 'others', 'otherwise', 'othr', 'otis', 'ots', 'ottawa', 'otty5rymzd', 'ou', 'ouch', 'ought', 'oui', 'oumc1lrxdn', 'our', 'ourguest', 'ourprincess', 'ours', 'ourselves', 'oust', 'out', 'outage', 'outbound', 'outbreak', 'outcome', 'outdated', 'outdoor', 'outfit', 'outfitted', 'outlets', 'outline', 'outlook', 'outofbusiness', 'outoftouchwithreality', 'outpost', 'outrage', 'outraged', 'outrageous', 'outright', 'outside', 'outsource', 'outsourced', 'outsourcing', 'outstanding', 'outta', 'outtage', 'outward', 'over', 'overall', 'overbk', 'overbook', 'overbooked', 'overcharge', 'overcharged', 'overcharging', 'overchging', 'overfilled', 'overflight', 'overflow', 'overflowed', 'overhaul', 'overhead', 'overheads', 'overheard', 'overheating', 'overkill', 'overloaded', 'overloads', 'overlooking', 'overnight', 'overpriced', 'overreacting', 'overseas', 'overselling', 'oversize', 'oversized', 'oversleeping', 'oversold', 'overtime', 'overweight', 'overwhelmed', 'overwhelming', 'overzealous', 'oveur', 'ow', 'owe', 'owed', 'owen', 'owes', 'owmaxoyehz', 'own', 'owner', 'ownership', 'owning', 'ox4w6ktsgi', 'oxgen', 'oxm6cwgab7', 'oxsa8btvtb', 'oxy1jnpjm3', 'oy', 'oylgeao7y8', 'oyllrzqu5m', 'oyu', 'ozs', 'p2hum7lxur', 'p3n2w8jfps', 'p6eef1zwzc', 'p6r5rt5ow5', 'p6ucbvlv5e', 'p7fsluxegw', 'p7skxzve1a', 'p8vcz4xthm', 'p8xfhq4kps', 'pa', 'pa7dcjxlzl', 'pac', 'pace', 'pacific', 'pacificbiznews', 'pacify', 'pack', 'package', 'packages', 'packed', 'packermama1', 'packing', 'packingayak', 'pacquiao', 'pact', 'pad', 'padresst', 'pafe', 'page', 'paged', 'pages', 'paid', 'paigeworthy', 'pain', 'painandsuffering', 'painful', 'painfully', 'painless', 'paint', 'painted', 'pair', 'pairing', 'pairings', 'pairs', 'pales', 'palm', 'pamgrout', 'pamper', 'panam', 'panamerican', 'pancho_joe', 'pandora', 'pandu', 'panic', 'panicked', 'pant', 'pants', 'panynj', 'paper', 'papers', 'paperwork', 'par', 'parachuteguy', 'paradise', 'parameters', 'paranoid', 'parent', 'parents', 'parentsonboard', 'parhetic', 'paris', 'parizad', 'park', 'parked', 'parker', 'parking', 'parody', 'parryaftab', 'part', 'partial', 'participate', 'particular', 'particularly', 'particulars', 'partly', 'partner', 'partnered', 'partnering', 'partnerrewards', 'partners', 'partnership', 'partnerships', 'parts', 'party', 'pascucci', 'paseengers', 'pasengers', 'paso', 'pass', 'passbook', 'passed', 'passenegers', 'passenger', 'passengerbillofrights', 'passengers', 'passengersarepeople', 'passengerslose', 'passes', 'passing', 'passion', 'passive', 'passngr', 'passport', 'password', 'past', 'pasta', 'paste', 'pasting', 'pastmypatienceexpirationdate', 'pastor', 'pat', 'patches', 'path', 'pathetic', 'patheticcx', 'patience', 'patienceiswearingthin', 'patiencerunningout', 'patient', 'patiently', 'patriarc', 'patrichruben', 'patricia', 'patrick', 'patron', 'patronizing', 'pats', 'pattern', 'patterns', 'pattonoswalt', 'paul', 'paulbev1', 'paulgordonbrown', 'paulo', 'paws', 'pax', 'paxex', 'pay', 'paycheck', 'payed', 'paying', 'payment', 'payments', 'paymytab', 'paypal', 'pays', 'payton', 'paytontaylor129', 'pb', 'pbi', 'pbpinftworth', 'pd3nbaakxh', 'pd7r1ll6re', 'pdquigley', 'pdw', 'pdx', 'pe', 'peace', 'peaches275', 'peak', 'peanut', 'peanuts', 'peanutsandtoons', 'peanutsonaplatter', 'pearl', 'peas', 'peculiar', 'pedophile', 'pedro', 'peeled', 'peeps', 'peer', 'peeved', 'peggy', 'pek', 'pen', 'penalized', 'penalty', 'pending', 'penguin', 'pennies', 'pennypincher', 'pens', 'pensacola', 'people', 'peopleon', 'pepper', 'pepperidge', 'peq90pqmpp', 'per', 'perceived', 'percentage', 'pereira', 'perfect', 'perfectly', 'perfectomobile', 'perform', 'performance', 'performing', 'performs', 'perhaps', 'period', 'periods', 'periolodicly', 'perk', 'perks', 'permanent', 'permanently', 'permission', 'permissions', 'persistence', 'persisting', 'person', 'personable', 'personal', 'personality', 'personalized', 'personally', 'personnel', 'perspective', 'perth', 'pesky', 'pet', 'peter', 'peterpiatetsky', 'peterstraubmma', 'petition', 'pets', 'petty', 'peuc0bmij9', 'pfsenjk5pw', 'pg96ys9asw', 'pgashow', 'pgatour', 'pgfryz', 'pgh', 'pgoeuxnspi', 'pgwukrpmox', 'ph', 'ph6rps', 'ph8qjzapkx', 'phantom', 'phd_mama_', 'phenomenal', 'phew', 'phf', 'phi', 'phi2ifnjit', 'phil', 'philacarservice', 'philadelphia', 'philippines', 'phillip', 'philly', 'philpete', 'phishing', 'phl', 'phlairport', 'phltolas', 'phn', 'pho', 'phoenix', 'phone', 'phonedied', 'phoneeeee', 'phones', 'photo', 'photography', 'photos', 'phrase', 'phrased', 'phx', 'phxskyharbor', 'physical', 'physically', 'pia', 'pic', 'pick', 'picked', 'picking', 'pickng', 'picks', 'pics', 'picture', 'pictures', 'pid', 'pie', 'piece', 'pieces', 'piela', 'pig', 'pigeon', 'piggy', 'pigs', 'pile', 'pillow', 'pillows', 'pilot', 'pilots', 'pilyoc', 'pimentel', 'pin', 'ping', 'pink', 'pins', 'pipes', 'pir', 'piss', 'pissed', 'pissing', 'pisspoor', 'pistol', 'pit', 'pita', 'pits', 'pitt', 'pitts', 'pittsburg', 'pittsburgh', 'pity', 'pivotalcf', 'pivxean3jy', 'pizza', 'pj', 'pjs', 'pkaxunyfn2', 'pkfi9bttzf', 'pkg49', 'pky7zhnnrh', 'pl9sop5ihu', 'place', 'placed', 'places', 'placing', 'plague', 'plain', 'plainly', 'plains', 'plan', 'planb', 'plane', 'planebroken', 'planes', 'planestrainsandautomobiles', 'planet', 'planing', 'planned', 'planner', 'planning', 'plans', 'plants', 'plastic', 'plat', 'plate', 'platinum', 'platinumeventually', 'platinummember', 'platinums', 'platitudes', 'platter', 'play', 'playa', 'played', 'player', 'players', 'playing', 'playlist', 'playsoon', 'pleading', 'pleads', 'pleasant', 'pleasantly', 'please', 'pleasecomeback', 'pleased', 'pleaseeee', 'pleaseeeeee', 'pleasegod', 'pleasehelp', 'pleasehurryup', 'pleasent', 'pleasure', 'plebes', 'pleeeease', 'pleeeeease', 'pleeeeeeeease', 'plenty', 'plitt', 'pln', 'plot', 'ploughs', 'plow', 'plowing', 'plows', 'pls', 'plse', 'plt', 'plug', 'plumber', 'plundering', 'plus', 'plz', 'pm', 'pn', 'pnbajfkmhg', 'pnr', 'pns', 'poc', 'pocket', 'pockets', 'podium', 'point', 'pointed', 'pointer', 'pointing', 'pointless', 'points', 'pointsme', 'pointy', 'poisoning', 'poisonpill76', 'poker', 'poles', 'police', 'policies', 'policy', 'polite', 'politely', 'pooch', 'pool', 'pooling', 'poop', 'poor', 'poorcommunication', 'poorcustomerservice', 'poorcustumerservice', 'poorest', 'poorform', 'poorly', 'poorlyhandled', 'poorplanning', 'poorservice', 'pop', 'popped', 'popping', 'pops', 'popular', 'populate', 'pordes', 'porn', 'port', 'portable', 'portal', 'portcolumbuscmh', 'portfolio', 'portion', 'portland', 'portlandjetport', 'portrayed', 'ports', 'portsmouth', 'pos', 'position', 'positions', 'positive', 'possession', 'possessions', 'possiable', 'possibilities', 'possibility', 'possible', 'possibly', 'post', 'postcode', 'posted', 'posting', 'postpone', 'posts', 'postsecret', 'potable', 'potatoes', 'poteettj', 'potential', 'potentially', 'potus', 'poughkeepsie', 'pound', 'pounding', 'pounds', 'pouting', 'powder', 'power', 'powered', 'powers', 'pp', 'ppl', 'pple', 'ppva4rch9f', 'pqd', 'pqds', 'pqm', 'pqms', 'pr', 'pr3oebc2n2', 'practical', 'practice', 'practices', 'praise', 'praised', 'praises', 'prank', 'pray', 'prayer', 'praying', 'praywinn', 'prbound', 'prchase', 'prds', 'pre', 'preboard', 'preboarding', 'prebook', 'prebooked', 'precheck', 'prechk', 'preciate', 'preciation', 'precious', 'precioustime', 'precipitation', 'precludes', 'predict', 'predictable', 'predicted', 'predictive', 'preemptive', 'preexisting', 'pref', 'prefer', 'preferably', 'preference', 'preferences', 'preferred', 'prefference', 'preflight', 'prefundia', 'pregame', 'preggo', 'pregnant', 'pregnantwithtwins', 'prem', 'premier', 'premier1k', 'premiere', 'premiers', 'premium', 'preoccupied', 'preparation', 'preparations', 'prepare', 'prepared', 'preparedness', 'prepares', 'prerecorded', 'preregistration', 'pres', 'prescreen', 'present', 'presentation', 'presented', 'presenting', 'president', 'presidential', 'press', 'pressed', 'pressure', 'pressurecooker', 'pressurization', 'presumably', 'pretend', 'pretending', 'pretty', 'prettyplease', 'pretzels', 'prev', 'prevent', 'preventable', 'preventative', 'prevented', 'preventing', 'prevention', 'previous', 'previously', 'pri', 'price', 'priced', 'pricediscrimination', 'priceless', 'priceline', 'prices', 'pricewise', 'pricey', 'pricing', 'pricy', 'pride', 'prime', 'prince', 'princess', 'princesses', 'princesshalf', 'principle', 'print', 'printed', 'printer', 'printers', 'prior', 'priorities', 'prioritize', 'priority', 'prison', 'priv', 'private', 'privilege', 'privileges', 'prize', 'prn', 'pro', 'proactive', 'proactively', 'prob', 'probability', 'probably', 'probablynot', 'problem', 'problematic', 'problems', 'problemsolvers', 'problemss', 'probls', 'probs', 'procedure', 'procedures', 'proceed', 'proceeded', 'process', 'processed', 'processes', 'processing', 'produce', 'produced', 'product', 'productivity', 'prof', 'prof_solutions', 'professional', 'professionalism', 'professionals', 'professor', 'professorpaul15', 'professors', 'proficient', 'profile', 'profit', 'profitability', 'profitable', 'profitbeforepeople', 'profiting', 'profits', 'program', 'programmers', 'programming', 'programs', 'progress', 'progressed', 'prohibits', 'proj', 'project', 'projects', 'prolly', 'prolonged', 'prom', 'promise', 'promised', 'promises', 'promising', 'promo', 'promos', 'promotethatgirl', 'promoting', 'promotion', 'promotions', 'prompt', 'prompted', 'prompting', 'promptly', 'prompts', 'pronounce', 'proof', 'proper', 'properly', 'property', 'proportion', 'proposal', 'propositioned', 'props', 'pros', 'prospective', 'protect', 'protected', 'protection', 'protest', 'protocol', 'protocols', 'proud', 'prove', 'provide', 'provided', 'providence', 'providenciales', 'provider', 'provides', 'providing', 'proving', 'provo', 'ps', 'ps9q9rpsil', 'psa', 'pseudo', 'psgrs', 'psngrs', 'psp', 'pssgrs', 'pssngrs', 'pst', 'psych', 'psychological', 'pt', 'ptfo', 'pto', 'pts', 'ptsbka4cdj', 'pty', 'pu', 'public', 'publicity', 'publicly', 'published', 'puerto', 'puj', 'pull', 'pulled', 'pullin', 'pulling', 'pulls', 'pulp4i0w96', 'pulse', 'pummeled', 'pump', 'pumped', 'pumping', 'pumps', 'punished', 'punishedforflying', 'punta', 'puppy', 'pura', 'purchase', 'purchased', 'purchasing', 'pure', 'purely', 'purifier', 'purpose', 'purse', 'push', 'pushback', 'pushed', 'pushing', 'pushy', 'put', 'puts', 'putting', 'pv', 'pvd', 'pvg', 'pvr', 'pw1eudlczg', 'pwm', 'px8hqoks3r', 'pxdel1nq3l', 'pxexilsjbs', 'pyalebgkjt', 'pyjaoaynx6', 'pzal4wtrez', 'pzgc6jch7n', 'q16xvwg0l6', 'q2', 'q3', 'q37pown6uv', 'q4', 'q4amiw7fsw', 'q4vnmb', 'q5a7jtki5k', 'q5sb0davuy', 'q6xedzvhh9', 'q8vsffrd1u', 'q9byn9pctf', 'q9n6nzyspk', 'qantas', 'qavvlaxlkl', 'qd2lyuxazg', 'qdebyahqfm', 'qdljhsloi5', 'qdxft9qqt9', 'qeada92mw6', 'qefkfwzo7d', 'qf0oc2hqez', 'qgmfcb7yt4', 'qgtcao1j2u', 'qgwk10dewv', 'qjkl4abprg', 'qjlzrywfj2', 'qkkjdfobos', 'qkquraggoo', 'qll48r57ep', 'qlyss8', 'qm9dqbai6g', 'qn5odugfqk', 'qp6aw3nlip', 'qqbmug', 'qqlzk2jkzr', 'qranzimhtr', 'qro', 'qrxvzfrd1z', 'qrxz0bgbtq', 'qs', 'qsvgru', 'quadruples', 'qualification', 'qualified', 'qualifies', 'qualify', 'quality', 'quantas', 'quarter', 'que', 'queries', 'query', 'question', 'questions', 'queue', 'queues', 'queuing', 'quiche', 'quick', 'quicker', 'quickest', 'quickie', 'quickly', 'quiet', 'quietly', 'quintana', 'quirkiness', 'quirky', 'quit', 'quite', 'quito', 'quitting', 'quotations', 'quote', 'quoted', 'quoting', 'quzvmk2rtr', 'qw1til96ya', 'qw2ebeemvg', 'qwfmoq0dql', 'qxnoaqtyn8', 'qxteqzm3yz', 'qxv45mv0ug', 'qxww1p09a0', 'qygxgmd3sn', 'r1oqaveo7i', 'r4xjxqrx1z', 'r7ibqr4cyd', 'r8p2zy3fe4', 'r9zsvzurlw', 'rabbits', 'race', 'races', 'rachel', 'rachelle', 'racist', 'rack', 'rad', 'radio', 'radish', 'raeann', 'raft', 'rag', 'ragandisney', 'rage', 'railed', 'rain', 'rainy', 'raise', 'raised', 'raising', 'rajuchinthala', 'raleigh', 'ralph', 'ramada', 'ramp', 'rampers', 'ramps', 'rams', 'ran', 'random', 'randomactsofcorporategreed', 'randomly', 'rang', 'range', 'ranging', 'ranked', 'rant', 'ranting', 'rapid', 'rapidly', 'rapidrewards', 'rapids', 'raps', 'rare', 'rarely', 'ratchet', 'rate', 'rated', 'rates', 'rather', 'rating', 'ratings', 'rats', 'raving', 'ravioli', 'ray', 'rayja9', 'razor', 'rbn7stuij1', 'rcd', 'rcdh183q1j', 'rcm_oficial', 'rcvd', 'rdj1mwflg1', 'rdu', 're', 'reaccommodation', 'reach', 'reachable', 'reached', 'reaches', 'reaching', 'reachingnewlows', 'react', 'reactions', 'reactivate', 'reactive', 'read', 'readded', 'reader', 'readers', 'readily', 'reading', 'reads', 'ready', 'reagan', 'reagan_airport', 'real', 'realise', 'realistic', 'realistically', 'reality', 'realize', 'realized', 'realizing', 'really', 'reallytallchris', 'realtime', 'reappeared', 'rear', 'rearrange', 'reason', 'reasonable', 'reasonably', 'reasons', 'reassess', 'reassign', 'reassigned', 'reativation', 'rebecca', 'reboard', 'reboarding', 'rebook', 'rebooked', 'rebooks', 'reboot', 'rebooting', 'rebuilding', 'rec', 'recap', 'reccewife', 'receipt', 'receipts', 'receive', 'received', 'receives', 'receiving', 'recent', 'recently', 'recharging', 'recheck', 'rechecked', 'recieved', 'reciprocate', 'reckless', 'reclaim', 'reclameaqui', 'recline', 'reclining', 'recognition', 'recognize', 'recognized', 'recommend', 'recommendation', 'recommended', 'reconsider', 'reconsidering', 'record', 'recorded', 'recording', 'recordings', 'records', 'recouping', 'recourse', 'recover', 'recovered', 'recovering', 'recovery', 'recruiter', 'recruiting', 'rectified', 'rectify', 'recvd', 'recycle', 'red', 'redcarpet', 'reddit', 'redeem', 'redeemed', 'redeeming', 'redemption', 'redesign', 'redeye', 'redirect', 'redirected', 'redirects', 'redo', 'redreserve', 'redsox', 'reduce', 'reduced', 'reduction', 'redwineisbetter', 'reebok', 'reebooked', 'reeks', 'reevaluate', 'ref', 'refer', 'reference', 'referencing', 'referral', 'referred', 'referring', 'refers', 'reflect', 'reflection', 'reflight', 'reform', 'refrain', 'refresh', 'refreshed', 'refresher', 'refreshes', 'refreshing', 'refreshments', 'refsd', 'refuel', 'refueled', 'refueling', 'refund', 'refundable', 'refunded', 'refunding', 'refundprocedurenottoopainful', 'refunds', 'refurbish', 'refuse', 'refused', 'refuses', 'refusing', 'regains', 'regard', 'regarding', 'regardless', 'regards', 'regina', 'regional', 'register', 'registered', 'registering', 'registers', 'registration', 'regrading', 'regret', 'regretting', 'regular', 'regularly', 'regulation', 'regulations', 'rehman', 'reigning', 'reimburse', 'reimbursed', 'reimbursement', 'reinforcements', 'reinstate', 'reinstated', 'reinstating', 'reinvest', 'reissue', 'reissued', 'reiterate', 'rejected', 'rejecting', 'relate', 'relations', 'relationship', 'relationships', 'relative', 'relatives', 'relax', 'relaxing', 'relay', 'relayed', 'release', 'released', 'releasing', 'relevant', 'reliability', 'reliable', 'relied', 'relief', 'relieved', 'reload', 'reluctant', 'rely', 'relying', 'rem', 'remain', 'remained', 'remaining', 'remains', 'remarks', 'remedy', 'remember', 'remembered', 'remembering', 'remembers', 'remind', 'reminded', 'reminder', 'reminding', 'reminds', 'remorse', 'remote', 'remotely', 'removal', 'remove', 'removed', 'removes', 'removing', 'renewed', 'renhotels', 'reno', 'renoairport', 'rent', 'rental', 'rentals', 'rented', 'renting', 'renttherunway', 'reopen', 'reopened', 'reopens', 'rep', 'repaid', 'repainted', 'repair', 'repaired', 'repartee', 'repeat', 'repeatably', 'repeated', 'repeatedly', 'repeating', 'replace', 'replaced', 'replacement', 'replacing', 'replane', 'replicate', 'replied', 'replies', 'reply', 'replying', 'report', 'reported', 'reporter', 'reports', 'reposted', 'reposting', 'repping', 'reprehensible', 'represent', 'representative', 'representatives', 'representing', 'represents', 'reproach', 'reps', 'republic', 'republican', 'reputation', 'req', 'reqs', 'request', 'requested', 'requesting', 'requests', 'require', 'required', 'requirement', 'requirements', 'requires', 'requiring', 'reroute', 'rerouted', 'res', 'resch', 'resched', 'reschedule', 'rescheduled', 'reschedulemyflight', 'reschedules', 'rescheduling', 'rescue', 'rescued', 'research', 'researching', 'reseated', 'resell', 'resend', 'resending', 'resent', 'reserv', 'reservation', 'reservations', 'reserve', 'reserved', 'reset', 'residing', 'reso', 'resoled', 'resolution', 'resolutions', 'resolve', 'resolved', 'resolving', 'resort', 'resorting', 'resource', 'resources', 'respect', 'respectful', 'respects', 'respond', 'responded', 'responding', 'responds', 'response', 'responses', 'responsibility', 'responsible', 'responsive', 'responsiveness', 'ressie', 'rest', 'restating', 'resting', 'restless', 'restore', 'restored', 'restr', 'restriction', 'restrictions', 'restrm', 'restroom', 'restrooms', 'restructured', 'result', 'resulted', 'resulting', 'results', 'resume', 'retailbagholder', 'retailer', 'retain', 'retaining', 'retains', 'retards', 'rethink', 'rethinking', 'reticketed', 'retire', 'retired', 'retiring', 'retook', 'retracted', 'retrain', 'retribution', 'retrieve', 'retrieved', 'retrn', 'retroactively', 'rett', 'return', 'returned', 'returning', 'returns', 'retweet', 'retweeted', 'retweets', 'reunion', 'reunited', 'reuniting', 'reuse', 'reuters', 'reveal', 'reveals', 'revenue', 'revers', 'reverse', 'reversed', 'reverted', 'revieving', 'review', 'reviewed', 'reviewing', 'revision', 'revisiting', 'revive', 'revs', 'revue', 'reward', 'rewards', 'rez', 'rfxlv1kgdh', 'rgywjbbhm4', 'rhkamx9vf5', 'rhonda', 'rhw78ktqfo', 'ri', 'ric', 'ric2dfw', 'rica', 'ricardo', 'rich', 'richard', 'rick', 'ricky', 'rico', 'ricoh', 'rid', 'ride', 'rides', 'ridic', 'ridicules', 'ridiculous', 'ridiculously', 'ridiculousness', 'riedel', 'rifle', 'right', 'rights', 'rigorous', 'rikrik__', 'rim', 'ring', 'ringing', 'ringling', 'rings', 'rinzysk6ki', 'rio', 'riot', 'rip', 'ripme', 'ripoff', 'ripoffs', 'ripped', 'ripping', 'ripskymall', 'rise', 'rising', 'risk', 'rita', 'ritacomo', 'rito', 'ritz', 'rivals', 'rivets', 'rizzilient', 'rj', 'rklqxxawhc', 'rkorhvr9z1', 'rkprxtgvfl', 'rkvczbpdce', 'rkwugmanm9', 'rldelahunty', 'rlwbj80ma5', 'rly', 'rmoug15', 'rmznivgmg6', 'rn', 'rncahill', 'rnd', 'rndtrp', 'rno', 'rnp', 'road', 'roadmap', 'roads', 'roadtrip', 'roadwarrior', 'roanoke', 'roasted', 'rob', 'robbed', 'robbing', 'robbogart', 'robcnyc', 'robert', 'robertdwyer', 'robertfor39', 'roberto', 'roberts', 'robin', 'robinreda', 'robinson', 'robocalls', 'robot', 'robotic', 'robotweeting', 'robthecameraman', 'robyn', 'roc', 'rock', 'rocked', 'rockers', 'rockies', 'rocking', 'rockingthetweets', 'rockinwellness', 'rocks', 'rockstar', 'rockstars', 'rocky', 'rodeo', 'roger', 'role', 'roll', 'rollaboard', 'rolled', 'rollerboards', 'rollercoaster', 'rollers', 'rolling', 'roo', 'rookie', 'room', 'rooms', 'rosetta', 'rotary', 'rotten', 'rough', 'round', 'roundtrip', 'roundtrips', 'route', 'routed', 'router', 'routes', 'routine', 'routinely', 'routing', 'row', 'row7', 'rows', 'roxydigital', 'royal', 'royally', 'rozana', 'rpdbpx3wnd', 'rqbpmwettq', 'rqstd', 'rr', 'rs', 'rsrv', 'rsw', 'rt', 'rtb', 'rtn', 'rtqyjcvtq3', 'rtrn', 'rtw', 'ru', 'rubbed', 'rubber', 'rubbish', 'rubs', 'rude', 'rudely', 'rudeness', 'rudeservice', 'rudest', 'rudestaff', 'ruin', 'ruined', 'ruining', 'ruiningmy', 'ruins', 'rule', 'rules', 'rulesshouldbend', 'rum', 'rumor', 'rumors', 'run', 'runaround', 'rundisney', 'runners', 'runnin', 'running', 'runningonthreehoursofsleep', 'runs', 'runway', 'runways', 'rush', 'rushed', 'russ', 'russell', 'russellswriting', 'russelneiss', 'russia', 'ruth', 'ruth_slobodin', 'rvcda2nnme', 'rwrd', 'rx', 'rx8z53m7yy', 'rxmjwoo7qi', 'ryand2285', 'rylietolbert15', 'ryxbplgmnk', 's3esw5agum', 's4', 's_myc88', 'sa_craig', 'sabe', 'sabotaging', 'sabre', 'sac', 'sacintlairport', 'sacramento', 'sad', 'saddened', 'saddening', 'saddens', 'sadie4406', 'sadly', 'safari', 'safe', 'safely', 'safer', 'safety', 'safetyconcerns', 'safetyfirst', 'saga', 'sagerooski', 'saharasams', 'saianel', 'said', 'saidi', 'sailed', 'sailor', 'saipan', 'sal', 'salad', 'sale', 'salem', 'sales', 'salisbury', 'sally', 'salt', 'salted', 'salvaged', 'sam', 'samantha', 'samartzis', 'samchampion', 'same', 'sammi_jon3s', 'samoore10', 'sample', 'samsonite', 'san', 'san68059m', 'sand', 'sandiego', 'sandra', 'sandwich', 'sandwiches', 'sanfrancisco', 'sang', 'sanitized', 'sanitizer', 'sanity', 'santa', 'santo', 'sao', 'sap', 'sapphire', 'sarah', 'sarahpompei', 'sarahzou', 'sarcasm', 'sarcastic', 'sarcastically', 'sardine', 'sarita', 'sass', 'sat', 'satellite', 'satesq', 'satisfaction', 'satisfactorily', 'satisfactory', 'satisfied', 'satisfy', 'sato', 'saturday', 'saturdays', 'sauce', 'sauna', 'sauvignon', 'sav', 'savannah', 'save', 'saved', 'saveface', 'saver', 'saves', 'savethediagonals', 'savethoseseats', 'saveus', 'saving', 'savings', 'saviour', 'savr', 'saw', 'saxonandparole', 'say', 'sayin', 'saying', 'says', 'saysorrychris', 'sb', 'sb5551', 'sba', 'sba0aricyq', 'sbehi46bmk', 'sbgbn7ouxy', 'sbn', 'sc', 'scale', 'scalpel', 'scam', 'scan', 'scandal', 'scanned', 'scare', 'scareair', 'scared', 'scareways', 'scarf', 'scary', 'scattered', 'scavenger', 'scenario', 'scenarios', 'scene', 'scenes', 'scent', 'sch', 'schd', 'sche', 'sched', 'schedule', 'scheduled', 'schedules', 'scheduling', 'scheme', 'scheming', 'schiphol', 'school', 'schooler', 'schoolgirl', 'schools', 'science', 'sciencebehindtheexperience', 'scl', 'scm1133', 'scolding', 'scollegelondon', 'scooby', 'scoop', 'scoot', 'scope', 'scotch', 'scott', 'scotthroth', 'scqujbvsta', 'scramble', 'scratching', 'screakjmf', 'scream', 'screaming', 'screen', 'screencap', 'screening', 'screenings', 'screens', 'screensand', 'screenshot', 'screw', 'screwed', 'screwing', 'screws', 'scroll', 'scrum', 'scumbag', 'scvpools', 'sd', 'sdf', 'sdfairport', 'sdm2wvr3zr', 'sdq', 'sdylukr7pt', 'se57dmjhiw', 'sea', 'seam', 'seams', 'sean', 'seanmfmadden', 'seanvrose', 'search', 'searched', 'searching', 'season', 'seasonal', 'seat', 'seatac', 'seatback', 'seatbelt', 'seated', 'seating', 'seatmate', 'seats', 'seattle', 'seattlebound', 'seau', 'sec', 'second', 'secondary', 'secondly', 'seconds', 'secret', 'secrets', 'secs', 'section', 'sections', 'sector', 'secure', 'secured', 'securing', 'security', 'sedholm', 'seductive', 'see', 'seeing', 'seek', 'seeking', 'seeks', 'seem', 'seemed', 'seemless', 'seems', 'seen', 'sees', 'seet', 'seetonight', 'seg', 'segment', 'segments', 'segs', 'seguinej', 'segway', 'select', 'selected', 'selecting', 'selection', 'selections', 'selects', 'self', 'selfie', 'selfies', 'sell', 'selling', 'sellmypointssoon', 'sellout', 'selves', 'semantics', 'semester', 'sen', 'send', 'sendambien', 'sending', 'sends', 'senior', 'sense', 'senseless', 'senses', 'sensitive', 'sent', 'sentierimelinda', 'sentiment', 'sentimental', 'sentinel', 'sep', 'separate', 'separated', 'separately', 'separating', 'sept', 'september', 'ser', 'serenitynow', 'series', 'serious', 'seriously', 'seriousness', 'serv', 'serve', 'served', 'servers', 'serves', 'service', 'serviced', 'servicedog', 'servicefail', 'services', 'servicing', 'serving', 'session', 'sests', 'set', 'setorii', 'sets', 'setting', 'settle', 'settled', 'setup', 'seulpvfn95', 'sev', 'seven', 'several', 'severally', 'severe', 'severely', 'sex', 'sexual', 'sexually', 'sexy', 'sf', 'sfjduahx9z', 'sfo', 'sfo2lax', 'sfotobos', 'sg7iqqfvso', 'sgckbopata', 'sgf', 'sh', 'shade', 'shades', 'shadier', 'shady', 'shafted', 'shaker', 'shaking', 'shaky', 'shall', 'sham', 'shambles', 'shame', 'shameful', 'shameonyou', 'shampoo', 'shanese', 'shanghai', 'shannon', 'shannonbloom', 'shannonwoodward', 'shaquille', 'share', 'shared', 'shares', 'sharing', 'sharktank', 'sharon', 'sharp', 'shattered', 'shavon', 'shawn', 'she', 'sheer', 'sheesh', 'sheila', 'shelf', 'shelleyandmarcrock', 'shenanigans', 'sherocks', 'shes', 'shesaidrun', 'shhhh', 'shift', 'shifts', 'shin', 'shined', 'ship', 'shipped', 'shipping', 'shirt', 'shirts', 'shit', 'shits', 'shitshow', 'shitting', 'shitty', 'shittydeal', 'shivadelrahim', 'shiver', 'shiz', 'shld', 'shock', 'shocked', 'shocker', 'shocking', 'shoddy', 'shoe', 'shoes', 'shopping', 'short', 'shortage', 'shortcomings', 'shortcuts', 'shortly', 'shorts', 'shortstaffed', 'shot', 'shots', 'shotwest', 'should', 'shoulda', 'shoulder', 'shoulders', 'shouldhavedriven', 'shouldhaveflowndelta', 'shouldhaveflownjetblue', 'shouldigetoutandpush', 'shouldn', 'shouldnt', 'shouldwearmasks', 'shout', 'shoutout', 'show', 'showed', 'shower', 'showexpert', 'showing', 'shown', 'shows', 'showsomerespect', 'showup', 'shrimp', 'shrinerack', 'shrug', 'shrugging', 'sht', 'shucks', 'shuffle', 'shulemstern', 'shut', 'shutting', 'shuttle', 'shuttles', 'shv', 'siberia', 'sibling', 'siblings', 'sick', 'sickcrew', 'side', 'sided', 'sides', 'sigh', 'sighed', 'sight', 'sign', 'signage', 'signal', 'signed', 'significant', 'significantly', 'signin', 'signing', 'signs', 'signup', 'sil', 'silence', 'silicon', 'sill', 'silly', 'silver', 'silverairways', 'silverairwsys', 'silverstatus', 'sime', 'similar', 'simonroesner', 'simple', 'simplify', 'simply', 'simultaneously', 'since', 'sincere', 'sincerely', 'sine', 'sing', 'singapore', 'singer', 'singing', 'single', 'sink', 'sinuses', 'siouxfalls', 'sir', 'sirius', 'sis', 'sister', 'sisters', 'sit', 'site', 'sites', 'siting', 'sits', 'sitters', 'sittin', 'sitting', 'sittingontheplane', 'sittingonthetarmac', 'situation', 'situations', 'sivi', 'six', 'size', 'sized', 'sizer', 'sj', 'sjc', 'sjd', 'sjo', 'sjqemdtqma', 'sju', 'sjveelween', 'sk6w9xqaqb', 'skateboard', 'skateboards', 'skebqktxvx', 'sked', 'ski', 'skies', 'skift', 'skiing', 'skilled', 'skillful', 'skills', 'skin', 'skip', 'skiplagged', 'skipper', 'skis', 'skkewqhssg', 'sky', 'skycap', 'skycaps', 'skymall', 'skype', 'skys', 'skyscanner', 'skyteam', 'skytrax', 'skyw', 'skywest', 'sl6bdrxfn8', 'slacksoft_uk', 'slammed', 'slapintheface', 'slapped', 'slash', 'slaycancerwithdragons', 'slc', 'slcairport', 'sld', 'sledge', 'sleekmoney', 'sleep', 'sleeping', 'sleepless', 'sleepy', 'sleet', 'slept', 'slew', 'sliced', 'slide', 'slides', 'slight', 'slightly', 'slime', 'slip', 'sliver', 'sllyibe2vq', 'slog', 'slogan', 'sloooooow', 'sloooowresponses', 'slopes', 'sloppy', 'slots', 'slow', 'slowdown', 'slower', 'slowest', 'slowing', 'slowly', 'slowness', 'sm', 'sma', 'small', 'smaller', 'smallest', 'smalls', 'smart', 'smarter', 'smashed', 'smattering', 'smell', 'smelled', 'smells', 'smelly', 'smf', 'smfh', 'smh', 'smile', 'smiles', 'smiles1307', 'smiling', 'smisek', 'smith', 'smitten', 'smm', 'smoking', 'smoooothest', 'smooth', 'smoothest', 'smoothflight', 'smoothie', 'smoothly', 'smoothoperation', 'smoothtransition', 'sms', 'smth', 'smugsmirk', 'smusportmgt', 'smybag', 'sna', 'sna2ord', 'snack', 'snacks', 'snafu', 'snag', 'snagging', 'snags', 'snapchat', 'snapped', 'snaps', 'sneaky', 'snit', 'snobby', 'snoop', 'snow', 'snowballed', 'snowbama', 'snowboard', 'snowbound', 'snowfall', 'snowforce', 'snowing', 'snowstorm', 'snowstorms', 'snowwillnevermelt', 'snowy', 'snuck', 'so', 'soaked', 'soaking', 'sobbed', 'sobbing', 'sobewff', 'soc', 'social', 'socialtantrum', 'society', 'sock', 'socket', 'soda', 'sodone', 'sofly', 'soft', 'software', 'sohappy', 'soiqrn19aj', 'sol', 'solar', 'solate', 'sold', 'sole', 'solid', 'solo', 'solution', 'solutions', 'solve', 'solved', 'solves', 'solving', 'sombrons', 'some', 'somebody', 'somehow', 'someone', 'someones', 'something', 'sometime', 'sometimes', 'somewhat', 'somewhere', 'somthing', 'son', 'song', 'songs', 'sons', 'sonyasloanmd', 'soon', 'sooner', 'sooo', 'soooo', 'sooooo', 'soooooo', 'sooooooo', 'sop', 'soreback', 'sorry', 'sorrynotsorry', 'sort', 'sorta', 'sorted', 'sorting', 'sorude', 'sos', 'sosmart', 'sotelo', 'sotl8xqsrp', 'soul', 'soulandinspiration', 'souljacoy', 'sound', 'sounded', 'sounding', 'soundofmusic', 'sounds', 'sour', 'soured', 'sourhwest', 'sous', 'south', 'southbendinwhere', 'southern', 'southwest', 'southwestair', 'southwestairlines', 'southwestairwasthere', 'southwestfail', 'southwestluv', 'southwestluvsweeps', 'southwestoliver', 'southwestrally', 'southwestrocks', 'southwestsmoothie', 'southwestsucks', 'southwestverity', 'southworst', 'sox', 'sozldj', 'sp', 'space', 'spaced', 'spaces', 'spade', 'spaghetti', 'spagnuolo', 'spain', 'spam', 'span', 'spanish', 'spare', 'sparkled', 'speak', 'speaking', 'speaks', 'spec', 'special', 'specialist', 'specially', 'specialolympics', 'specials', 'specific', 'specifically', 'specifics', 'specified', 'speciifc', 'spectacular', 'speechless', 'speed', 'speeds', 'speedy', 'spell', 'spelled', 'spelling', 'spend', 'spending', 'spends', 'spent', 'spf', 'spiced', 'spilled', 'spin', 'spirit', 'spiritairlines', 'spiritairpr', 'spirited', 'spirits', 'spite', 'spk', 'split', 'splits', 'splitting', 'spoil', 'spoiled', 'spoke', 'spoken', 'sponsor', 'sponsorship', 'spontaneously', 'spook', 'sporadically', 'sport', 'sporting', 'sports', 'sportsbiz', 'spot', 'spotify', 'spots', 'spotting', 'spotty', 'spousal', 'sprawled', 'spread', 'spreading', 'spreadtheword', 'spring', 'springs', 'sprinkled', 'sprint', 'sprinted', 'sprinting', 'spruce', 'spurs', 'spvsr', 'squared', 'squarely', 'squashed', 'squawked', 'squawking', 'squeaks', 'squished', 'sr', 'sre', 'srm13qbrzd', 'srq', 'srsly', 'srv', 'srvc', 'ssal', 'ssbaujtouw', 'ssuvwwkyhh', 'st', 'stable', 'stacey', 'stacy', 'stacycrossb6', 'staduim', 'staff', 'staffed', 'staffer', 'staffers', 'staffing', 'stafford', 'stage', 'stagnant', 'stahhppp', 'stahp', 'stains', 'stairs', 'stall', 'stamp', 'stand', 'standard', 'standards', 'standby', 'standbye', 'standbys', 'standing', 'star', 'staralliance', 'starboard', 'starbucks', 'stare', 'staring', 'starryeyes_dev_', 'stars', 'start', 'started', 'starting', 'startingbloc', 'startled', 'startling', 'starts', 'startups', 'starving', 'stat', 'state', 'stated', 'statement', 'states', 'static', 'staticy', 'stating', 'station', 'stationary', 'stations', 'stats', 'status', 'statusmatch', 'statusmatchpaidoff', 'stay', 'stayed', 'staying', 'stays', 'stbernard', 'stdby', 'steal', 'stealing', 'steamboat', 'steamed', 'steaming', 'steel', 'steep', 'steered', 'steering', 'stellar', 'stellarservice', 'step', 'stephenrodrick', 'stepitup', 'stepped', 'stepping', 'steps', 'stepup', 'steve', 'stevelord212', 'stevie', 'steward', 'stewardess', 'stewardesses', 'stewart', 'sti', 'stick', 'sticker', 'sticking', 'stickingtodelta', 'sticks', 'stiiiil', 'still', 'stillbagless', 'stilling', 'stillmakingmepoorthough', 'stillnobags', 'stillnotonmyflight', 'stillwaiting', 'stingiest', 'stingy', 'stink', 'stinks', 'stl', 'stl2atl', 'stlouis', 'stmt', 'stndby', 'stock', 'stocker', 'stockhouse', 'stocking', 'stoked', 'stole', 'stolen', 'stollen', 'stone', 'stone9956', 'stonewalled', 'stood', 'stop', 'stopover', 'stopped', 'stopping', 'stops', 'storage', 'store', 'stories', 'storm', 'storms', 'story', 'stow', 'stowaway', 'stpatricksfoundation', 'stqy9v8256', 'straight', 'straighten', 'straightend', 'straightened', 'strand', 'stranded', 'strandedattheairport', 'strandedinnashville', 'strandednyc', 'stranding', 'strandusindenver', 'strange', 'stranger', 'strangers', 'strategy', 'stray', 'strayed', 'straying', 'stream', 'streaming', 'streamline', 'street', 'streets', 'streetwise', 'strength', 'stress', 'stressed', 'stressful', 'stressors', 'stretch', 'stretching', 'strict', 'strike', 'strikes', 'string', 'strip', 'strips', 'strive', 'strives', 'stroller', 'strollers', 'strong', 'strongly', 'strtd', 'structure', 'structures', 'struggle', 'struggling', 'struts', 'stt', 'stubborn', 'stubbornly', 'stuck', 'stucked', 'stuckinmemphis', 'stuckintampa', 'stuckintheloop', 'stuckonaplane', 'student', 'students', 'studying', 'stuff', 'stuffing', 'stuffy', 'stunned', 'stunning', 'stupid', 'stupidity', 'stupidly', 'style', 'stylesheets', 'styling', 'sub', 'submit', 'submits', 'submitted', 'submitting', 'suboptimal', 'subpar', 'subscribe', 'subscription', 'subsequent', 'subsequently', 'substandard', 'substantial', 'substitute', 'substitutes', 'subterfuge', 'subtlety', 'success', 'successful', 'such', 'suck', 'sucked', 'sucking', 'sucks', 'sudden', 'suddenly', 'sue', 'suffer', 'suffered', 'suffering', 'sufficiently', 'sugafly', 'sugar', 'suggest', 'suggested', 'suggesting', 'suggestion', 'suggestions', 'suggests', 'suicide', 'suit', 'suitcase', 'suitcases', 'suite', 'suites', 'suits', 'sukhdeep', 'sum1', 'summer', 'summit', 'sun', 'sunburn', 'sunday', 'sundayfunday', 'sundays', 'sundown', 'sunglasses', 'sunkist', 'sunny', 'sunrise', 'sunrises', 'sunscreen', 'sunset', 'sunshine', 'suntimes', 'suntoshi', 'super', 'superb', 'superben', 'superhero', 'superior', 'superiors', 'superstars', 'supertzar85', 'supervisor', 'supervisors', 'superyan', 'supp', 'supplies', 'supply', 'support', 'supported', 'supporter', 'supporting', 'suppose', 'supposed', 'supposedly', 'suprise', 'suprlfoi8t', 'supv', 'supvrs', 'supvsr', 'surat', 'surcharge', 'sure', 'suree', 'surely', 'surf', 'surfboard', 'surfboardbag', 'surfer', 'surgeries', 'surgery', 'surgeryhelp', 'surliness', 'surly', 'surname', 'surprise', 'surprised', 'surprises', 'surprisingly', 'surreal', 'surrounding', 'survey', 'surveying', 'surveys', 'survive', 'susan', 'suspect', 'suspended', 'suuperg', 'suuuuper', 'sux', 'svc', 'svcs', 'svllindia', 'svu', 'sw', 'sw900001', 'swa', 'swa1004', 'swaculture', 'swadiversity', 'swag', 'swagglikebean', 'swair', 'swallowed', 'swamped', 'swanky', 'swap', 'swapic', 'swapped', 'swapping', 'sway', 'swb1gr57cc', 'swear', 'sweat', 'sweatshirt', 'sweaty', 'sweeps', 'sweepstakes', 'sweet', 'sweetheart', 'sweethearts', 'sweetingr', 'sweetmel', 'swell', 'swfan', 'swift', 'swimsuits', 'swindle', 'swing', 'swipe', 'swiss', 'switch', 'switch2sbux', 'switched', 'switching', 'switchingboth', 'swivel', 'swooped', 'swrr', 'swu', 'swwhyhen76', 'swzm2fx3nu', 'sxm', 'sxsw', 'sxu', 'sxvagbrtli', 'syastem', 'syd', 'sydney', 'sydneyairport', 'sylvie', 'sylvie75015', 'sympathetic', 'sympathize', 'sympathy', 'sync', 'synch', 'synergy', 'synonymous', 'syr', 'syracuse', 'sys', 'system', 'systemic', 'systems', 'systemwide', 'sytycd', 'szr0pioa21', 'são', 't1', 't1rypzebc8', 't2qbgamfpc', 't3', 't3e4sh5xng', 't3gnk2n7ld', 't4gcks2bh5', 't5', 't5mrj5yw6i', 't5sparrow', 't6fyybhjhl', 't78k7abtwf', 't9jbn9wztq', 't9s68korsn', 'ta', 'tab', 'tabitha', 'table', 'tables', 'tablet', 'tablets', 'tabs', 'tacky', 'tactic', 'tactics', 'tad', 'tag', 'tagged', 'tagging', 'tags', 'tahiti', 'tail', 'tailfin', 'tailfinthursday', 'tails', 'tailwind', 'tailwinds', 'taiwan', 'take', 'takemeback', 'takemehome', 'taken', 'takeoff', 'takeresponsibility', 'takers', 'takes', 'taking', 'takingthistothetop', 'takr', 'talent', 'talents', 'talk', 'talked', 'talking', 'talks', 'talktoahuman', 'tallahassee', 'taller', 'tamara', 'tammy', 'tampa', 'tan', 'tandoori', 'tank', 'tanked', 'tanpa', 'tap', 'taped', 'taping', 'tar', 'tara', 'target', 'targeting', 'tarmac', 'tarmack', 'tasha', 'taste', 'tastes', 'tasty', 'tatiana', 'tatianaking', 'tattoo', 'taxes', 'taxi', 'taxies', 'taxiing', 'taxing', 'taxis', 'taxiway', 'taylor', 'taylorlumsden', 'taylormdowns', 'tb', 'tbd', 'tbt', 'tbuccherifrnc3e', 'tcf', 'tckt', 'tcmparty', 'tcunningham10', 'tea', 'teach', 'teaching', 'team', 'teamnkh', 'teams', 'teamspirit', 'teamtreehouse', 'teamusa', 'tear', 'tears', 'tech', 'technical', 'technically', 'technology', 'teco', 'ted', 'tedious', 'teeming', 'teen', 'teenager', 'teens', 'teeth', 'tefhpuwmdj', 'tejrn09tfw', 'tel', 'telaviv', 'telephone', 'telephones', 'teleportation', 'television', 'tell', 'telleveryone', 'telling', 'tells', 'tellyourstory', 'temorris2010', 'temp', 'temper', 'temperature', 'template', 'temporary', 'temps', 'tempting', 'ten', 'tennetexan', 'tennis', 'tense', 'tent', 'tequila', 'term', 'terminal', 'terminals', 'terminology', 'terms', 'terra', 'terri', 'terrible', 'terriblecommunication', 'terriblecustomerservice', 'terribleservice', 'terribly', 'terrific', 'terrifyingly', 'terror', 'terry', 'terrybrokebad', 'test', 'testing', 'tests', 'texarkana', 'texas', 'texasisclosed', 'text', 'texted', 'texting', 'texts', 'teyana', 'tf', 'tfanxbh1cf', 'tfgreenairport', 'tfjfmsha2k', 'tfw1', 'tgcyalate', 'tgif', 'tgsb1dfps3', 'tgsljjn6g0', 'th', 'thai', 'thaiairways', 'thailand', 'than', 'thank', 'thanked', 'thankful', 'thankfully', 'thankgoodness', 'thanking', 'thankjesus', 'thankme', 'thanks', 'thanksamericanairlines', 'thanksdave', 'thanksdc', 'thanksjetblue', 'thanksm', 'thanksunited', 'thanku', 'thankyou', 'thankyouforeverything', 'thansk', 'thanx', 'that', 'thatisall', 'thats', 'thatthis', 'thaw', 'the', 'the15hours', 'the16', 'the_uso', 'theacademy', 'theairhelper', 'thebachelor', 'thecandacesmith', 'thee', 'theellenshow', 'theend', 'thefaaonline', 'theflight', 'theft', 'thefutureisweird', 'thehaileytate', 'thehipmunk', 'their', 'thelodge', 'them', 'themagicalstranger', 'themed', 'themenofbusiness', 'themselves', 'then', 'thenatek', 'thenationaluae', 'thenewaa', 'thenewamerican', 'thepoopqueen', 'there', 'therealaviation', 'therefore', 'thereisafirstforeverything', 'theres', 'therofo', 'these', 'thestarter', 'thetakeover', 'thete', 'thetroubadour', 'thevdt', 'theverge', 'thewayoftheid', 'theworst', 'theworstairline', 'theworstairlineever', 'they', 'theyareallbetter', 'theycouldatleastofferfreebooze', 'theydontanswer', 'thick', 'thickens', 'thier', 'thieves', 'thin', 'thing', 'things', 'thingsishouldknow', 'thingsyoucantmakeup', 'think', 'thinkbus', 'thinking', 'thinks', 'thinner', 'third', 'thirty', 'thirty_lives', 'this', 'thisiscoach', 'thislinehasntmovedforanhour', 'thismosaicnothappy', 'thks', 'thng', 'thnk', 'thnkx', 'thnx', 'tho', 'thomas', 'thor', 'those', 'though', 'thought', 'thoughtful', 'thoughts', 'thousand', 'thousands', 'thousandth', 'thre', 'thread', 'threat', 'threatened', 'threatening', 'threatens', 'three', 'threehourslate', 'threw', 'thrilled', 'thrombosis', 'throne', 'throug', 'through', 'throughout', 'throw', 'throwback', 'thrower', 'throwing', 'thrown', 'thru', 'ths10ldy2a', 'tht', 'thu', 'thur', 'thurs', 'thursday', 'thus', 'thx', 'thxu', 'thy', 'ti2469', 'tia', 'tic', 'tick', 'ticked', 'ticket', 'ticketed', 'ticketing', 'tickets', 'ticks', 'tickt', 'tiday', 'tide', 'tides', 'tied', 'tier', 'tiffany', 'tiffanyandco', 'tifffyhuang', 'tight', 'tightconnection', 'tighter', 'tiks', 'til', 'till', 'till11', 'tilleymonsta', 'tim', 'timbennettg3', 'timbit', 'timco', 'time', 'time2switch', 'timed', 'timeliness', 'timely', 'times', 'timezones', 'timieyancey', 'timing', 'tinaisback', 'tinder', 'tinderchamp', 'tindertips', 'tinman2ironman', 'tiny', 'tip', 'tips', 'tire', 'tired', 'tiredandwanttogohome', 'tiredcustomer', 'tiredofthis', 'tiredofwaiting', 'tisk', 'tissues', 'title', 'tix', 'tixs', 'tjdzamhpew', 'tjycqh', 'tk', 'tk3aopdtsq', 'tkauygcpms', 'tke', 'tks', 'tkt', 'tkts', 'tkvcmhbpim', 'tkvmhbkec3', 'tlc', 'tld', 'tlgoihqkvs', 'tlh', 'tlpbaupik5', 'tmadcle', 'tmccexyaaq', 'tmm', 'tmobile', 'tmr', 'tmrw', 'tmw', 'tn', 'tn5cxcld6m', 'tnkixxrxhb', 'tnx', 'tny9uipha5', 'to', 'to10', 'toby', 'tock', 'today', 'todays', 'toddler', 'toddlers', 'toes', 'together', 'toilet', 'toiletries', 'toilets', 'tok', 'token', 'tokyo', 'tokyomarathon2015', 'told', 'toledo', 'tolerable', 'toll', 'tollfree', 'tom', 'tomo', 'tomoro', 'tomorro', 'tomorrow', 'tomorrows', 'tomrw', 'tomvh', 'ton', 'tone', 'tones', 'tongue', 'tonic', 'tonight', 'tonite', 'tonnes', 'tons', 'tonysimsmma', 'too', 'took', 'tool', 'toolittletoolate', 'toolong', 'tools', 'tooooo', 'toothpaste', 'top', 'toplay', 'topnews', 'topping', 'topqmvqnjp', 'tops', 'tore', 'tori_leggieri', 'toronto', 'torture', 'tortured', 'tory', 'tos', 'toss', 'tossed', 'total', 'totaled', 'totalfail', 'totally', 'totallyconfused', 'totes', 'touch', 'touchdown', 'touched', 'touching', 'tough', 'toughtomakeplans', 'tour', 'tourist', 'tourists', 'touting', 'toward', 'towards', 'towed', 'tower', 'town', 'towns', 'toyingwithouremotions', 'tpa', 'tpallini', 'tpzhjx7hbt', 'tqc96tkci9', 'trace', 'tracing', 'track', 'tracker', 'tracking', 'tracks', 'trade', 'trading', 'traditionally', 'traditions', 'traffic', 'train', 'trained', 'training', 'trains', 'transaction', 'transactional', 'transactions', 'transatlantic', 'transcontinental', 'transf', 'transfer', 'transferable', 'transferred', 'transferring', 'transfers', 'transformative', 'transit', 'transition', 'translation', 'transpacific', 'transparency', 'transparent', 'transpired', 'transport', 'transportation', 'transported', 'transports', 'trap', 'trapped', 'trappedhouston', 'traps', 'trash', 'trashy', 'travel', 'travelbank', 'traveled', 'traveler', 'travelers', 'travelfail', 'travelhelp', 'traveling', 'travelingwithsmallkids', 'travelled', 'traveller', 'travellers', 'travelling', 'travelocity', 'traveloneworld', 'travelportland', 'travelproblems', 'travelpulse', 'travels', 'travelzoo', 'travis', 'travisamex', 'tray', 'trbl', 'treacherous', 'treasure', 'treat', 'treated', 'treating', 'treatment', 'treats', 'tree', 'treenut', 'trees', 'tremendous', 'tremendously', 'trend', 'trending', 'triage', 'trial', 'trials', 'tribute', 'tricities', 'trick', 'trickling', 'tricks', 'tried', 'tries', 'triflight', 'trip', 'tripadvisor', 'tripitpro', 'triple', 'tripofalifetime', 'tripping', 'trips', 'trite', 'trivia', 'trivialize', 'tropic', 'troubadour', 'trouble', 'troubles', 'troubleshoot', 'troubleshot', 'troubling', 'troy', 'trqlpeinzw', 'tru', 'trublue', 'truck', 'true', 'trueblue', 'truebluecolors', 'truebluelove', 'truebluemember4life', 'truebluepoints', 'truly', 'trumping', 'trust', 'trusted', 'truth', 'truthful', 'truthh4', 'truu_tall', 'trv', 'trvl', 'try', 'tryagain', 'tryin', 'trying', 'tryn', 'tryna', 'tryng', 'trys', 'ts', 'tsa', 'tsanightmare', 'tsaprecheck', 'tsk', 'tsvgbrl15f', 'tsvibtvt8h', 'tt', 'ttbty89ilo', 'ttinac11', 'ttlwzgiyag', 'ttxrsynlxr', 'tu', 'tu9jx2jazn', 'tucking', 'tucson', 'tue', 'tues', 'tuesday', 'tuftsenergyconf', 'tug', 'tul', 'tulsa', 'tumitravel', 'tummy', 'tuned', 'turbulence', 'turkish', 'turn', 'turnaround', 'turned', 'turning', 'turns', 'turquoise', 'turrible', 'tus', 'tux', 'tv', 'tv4u', 'tvb5zbzvhg', 'tvk0pyxqv5', 'tvs', 'twa', 'tweak', 'tweet', 'tweeted', 'tweeter', 'tweetin', 'tweeting', 'tweets', 'twelve', 'twenty', 'twetpxuppn', 'twice', 'twiiter', 'twin', 'twins', 'twist', 'twitter', 'twitterhug', 'twitterz', 'two', 'twtr', 'tx', 'txfd', 'txhyj40llg', 'txt', 'txting', 'ty', 'ty9c0gae2o', 'tynchoelac', 'type', 'typical', 'typically', 'typing', 'typo', 'tyr', 'tys', 'tysvm', 'tyvm', 'tywinter', 'tyxaztmq1u', 'tzzjhuibch', 'u1vieuidf5', 'u390czplhl', 'u5hxri6crx', 'u69fafqhsf', 'u6duw27mde', 'ua', 'ua1002', 'ua1022', 'ua1023', 'ua1037', 'ua1059', 'ua1069', 'ua1088', 'ua1116', 'ua1118', 'ua1121', 'ua1127', 'ua1130', 'ua1150', 'ua1151', 'ua1157', 'ua1159', 'ua1207', 'ua125', 'ua1260', 'ua1266', 'ua1270', 'ua1297', 'ua14', 'ua1416', 'ua1429', 'ua1459', 'ua1469', 'ua1470', 'ua1481', 'ua1510', 'ua1516', 'ua1523', 'ua1532', 'ua1534', 'ua1543', 'ua1550', 'ua1564', 'ua1565', 'ua1566', 'ua1568', 'ua1589', 'ua1616', 'ua1619', 'ua1641', 'ua1665', 'ua1673', 'ua1724', 'ua1731', 'ua1740', 'ua1745', 'ua1750', 'ua1758', 'ua1764', 'ua2066', 'ua22', 'ua23', 'ua230', 'ua246', 'ua252', 'ua26', 'ua276', 'ua304', 'ua3364', 'ua3388', 'ua3417', 'ua3426', 'ua343', 'ua3462', 'ua3466', 'ua3530', 'ua3576', 'ua3645', 'ua3659', 'ua3710', 'ua3728', 'ua3774', 'ua3782', 'ua3785', 'ua3787', 'ua381', 'ua3882', 'ua415', 'ua423', 'ua4232', 'ua4636', 'ua4646', 'ua4689', 'ua469', 'ua4727', 'ua475', 'ua4753', 'ua484', 'ua49', 'ua4904', 'ua4935', 'ua5', 'ua5025', 'ua5029', 'ua5037', 'ua507', 'ua5097', 'ua51', 'ua514', 'ua5168', 'ua5184', 'ua5282', 'ua5396', 'ua5525', 'ua5631', 'ua57', 'ua6', 'ua6002', 'ua6016053916', 'ua6076', 'ua6136', 'ua6194', 'ua6255', 'ua6259', 'ua63', 'ua6318', 'ua6357', 'ua6366', 'ua6465', 'ua647', 'ua649', 'ua688', 'ua6doua34l', 'ua748', 'ua761', 'ua768', 'ua795', 'ua7985', 'ua80', 'ua82', 'ua862', 'ua863', 'ua871', 'ua895', 'ua90', 'ua922', 'ua936', 'ua938', 'ua978', 'ua992', 'ua994', 'ual', 'ual212', 'uaywrr45as', 'ubergizmo', 'ubetter', 'ucf0b0bq8r', 'uctraveladvisor', 'ucveu2hurz', 'ucvnilmb4x', 'uczzp9yphk', 'ud', 'udpq0fliqo', 'udub', 'ueggkn79za', 'ufbdr5axeo', 'ufyxxkisa3', 'ugfckermrw', 'uggh', 'ugh', 'uh', 'uh6uwuosc0', 'uhmmm', 'uhuh', 'uhumaskldv', 'ui9m8ypzh2', 'uiesr3ghho', 'ujfs9zi6kd', 'uk', 'ukdjjijrow', 'ukm4e99dz0', 'uld0hwfkfo', 'ultimately', 'um', 'umm', 'ummmm', 'umosaicmecrazy', 'ump', 'umpteen', 'un', 'unable', 'unacceptable', 'unaccomidating', 'unaccommodating', 'unaccompanied', 'unaccounted', 'unaccpetable', 'unamerican', 'unamericanairlines', 'unannounced', 'unanswered', 'unansweredquestions', 'unanticipated', 'unapologetic', 'unavailable', 'unavoidable', 'unaware', 'unbalanced', 'unbelieavle', 'unbelievable', 'unbelievably', 'uncalled', 'uncaring', 'uncertainty', 'uncharacteristic', 'uncle', 'unclear', 'uncomfortable', 'uncompromising', 'unconscionable', 'uncontrollable', 'uncontrollably', 'uncool', 'uncourteous', 'uncvsduke', 'und', 'undefined', 'undelayed', 'under', 'undergoing', 'undermines', 'underserved', 'understaffed', 'understaffing', 'understand', 'understandable', 'understandably', 'understanding', 'understands', 'understatement', 'understood', 'underway', 'underweight', 'undetermined', 'undies', 'undignified', 'undone', 'undrstnd', 'undue', 'uneducated', 'unempathetic', 'unemployment', 'uneventful', 'unexpactable', 'unexpected', 'unexplained', 'unfair', 'unfamiliar', 'unfold', 'unfollow', 'unfollowing', 'unforeseeable', 'unfortunate', 'unfortunately', 'unfriendly', 'unfriendlyskies', 'unhappy', 'unhappycustomer', 'unhappytraveler', 'unheard', 'unhelpful', 'unhelpfulness', 'uniform', 'unimpressed', 'uninformed', 'unite', 'united', 'united13', 'united1k', 'united_airline', 'unitedagainstunited', 'unitedairline', 'unitedairlines', 'unitedairlinessuck', 'unitedairlinessucks', 'unitedairlinessux', 'unitedappeals', 'unitedbreaksguitars', 'unitedfail', 'unitedfails', 'unitedfirst', 'unitedflyerhd', 'unitedhatesusall', 'unitedlies', 'unitedsucks', 'unitedsucksdick', 'unitedvusa', 'unitedwithivy', 'unitedworstever', 'universally', 'universalorl', 'university', 'unknowledgeable', 'unknown', 'unless', 'unlike', 'unlikely', 'unload', 'unloaded', 'unloading', 'unloads', 'unlucky', 'unmanned', 'unmet', 'unmissable', 'unmonitored', 'unmoving', 'unnecessarily', 'unnecessary', 'unnerving', 'unnoticed', 'uno_baseball', 'unorganized', 'unplanned', 'unpleasant', 'unpleased', 'unprecedented', 'unpredictable', 'unprepared', 'unproductive', 'unprofessional', 'unprofessionalism', 'unprofessionally', 'unreachable', 'unreal', 'unrealistic', 'unreasonable', 'unrelate', 'unreliable', 'unresolved', 'unrivalled', 'unsafe', 'unsat', 'unscheduled', 'unsecured', 'unserved', 'unserviceable', 'unsettling', 'unsmiling', 'unsolicited', 'unspecified', 'unsuccessful', 'unsuitable', 'unsure', 'unsympathetic', 'unt', 'untd', 'until', 'untrained', 'untrue', 'untruthful', 'untz', 'unusable', 'unused', 'unusual', 'unveils', 'unwilling', 'unwind', 'unwise', 'uoaryq98pu', 'up', 'upaz1ef3dl', 'upc', 'upcoming', 'update', 'updated', 'updates', 'updateyourwebsite', 'updating', 'upfare', 'upgd', 'upgrade', 'upgraded', 'upgrademe', 'upgrades', 'upgrading', 'upgrd', 'uphold', 'upholding', 'upinairclaire', 'uplink', 'upload', 'upocmmulun', 'upon', 'upp41abxrq', 'uppp', 'ups', 'upsell', 'upset', 'upsetting', 'upstate', 'upwherewebelong', 'uq2oopjpwg', 'uqgw6qsffu', 'ur', 'ur60un86gy', 'urcyfcp2lx', 'urged', 'urgency', 'urgent', 'urgently', 'us', 'us1562', 'us1765', 'us1799', 'us1937', 'us1951', 'us2065', 'us2118', 'us2146', 'us2218', 'us3645', 'us3825', 'us4485', 'us4551', 'us4623', 'us5235', 'us5268', 'us558', 'us624', 'us626', 'us628', 'us643', 'us651621', 'us728', 'us733', 'us755', 'us84', 'us874', 'usa', 'usable', 'usage', 'usair', 'usair4603', 'usaireays', 'usairheads', 'usairsucks', 'usairway', 'usairways', 'usairwayscenter', 'usairwaysfail', 'usairwaysfailscustomers', 'usairwaysfflyer', 'usairwaysmobile', 'usairwaysssuck', 'usairwayssuck', 'usairwayssucks', 'usairwis', 'usaiways', 'usatoday', 'usatodaytravel', 'usaw', 'usb', 'uschamber', 'usd', 'usdelay', 'use', 'useable', 'used', 'useful', 'useles', 'useless', 'user', 'username', 'users', 'uses', 'usexpress', 'using', 'usnavy', 'usual', 'usually', 'usuck', 'usurious', 'usvi', 'usxlon', 'ut5grrwaaa', 'utah', 'utdallas', 'utdfqf5wpa', 'ute', 'utevgw', 'utfdhxa8pu', 'utilize', 'utmost', 'utterly', 'uvf', 'uwon', 'ux', 'uy28d1uegx', 'uygew2nosr', 'v015pk7dsi', 'v1radykep2', 'v24qnp3doi', 'v4zvugmkjw', 'v5qwkyxsw6', 'v8pvphmtzc', 'v8sb0rbicx', 'va', 'va370', 'vabeatsjblue', 'vaca', 'vacancies', 'vacate', 'vacatime', 'vacatinn', 'vacation', 'vacationfail', 'vacationing', 'vacations', 'vacay', 'vague', 'vahdekvoke', 'vail', 'vainglorygame', 'valentine', 'valentines', 'valentinesday', 'valet', 'valid', 'validity', 'vallarta', 'valley', 'valleys', 'valuable', 'valuables', 'value', 'valued', 'values', 'valuing', 'van', 'vancouver', 'vanessaannz', 'vanished', 'vanity', 'vape', 'various', 'vary', 'vastly', 'vbfieo2qjc', 'vbuxfpckfa', 'vc6keulg2j', 'vcp', 'vd0tlomtwu', 'vday', 'vdfdodqvgx', 've', 'vebeen', 'veers', 'veg', 'vegan', 'vegas', 'vegecomgirl', 'vegetarian', 'vegetarianproblems', 'veggies', 'vein', 'velcro', 'velour', 'velourlive', 'vendor', 'venetia', 'venezuela', 'vent', 'ventilation', 'vents', 'venture', 'verbal', 'verbally', 'verbiage', 'verification', 'verified', 'verifies', 'verify', 'verizonwireless', 'vermont', 'versa', 'versace', 'version', 'versions', 'versus', 'very', 'veryimportantproject', 'veryloyalcustomer', 'vet', 'veterans', 'vetr', 'vets', 'vftuyjh45x', 'vglx6ykwqg', 'vgn2x1ckg0', 'vgqoihtrkh', 'vhfjgneozo', 'vhgkitzsaw', 'vhp2gtdwpk', 'via', 'viable', 'vibe', 'vibrant', 'vice', 'vicky', 'victim', 'victoria', 'vida', 'video', 'videos', 'vieques', 'view', 'views', 'vile', 'village', 'villages', 'vincenzolandino', 'vincesviews', 'vindictive_tk', 'vineyard', 'vino', 'vinyl', 'vinylvegas', 'violation', 'vip', 'vipliveinthevieyard', 'vipswagbags', 'viracopos', 'viraltech', 'virgin', 'virginamerica', 'virginatlantic', 'virginia', 'virginmedia', 'virtual', 'virtually', 'virus', 'visa', 'visible', 'visibly', 'vision', 'visit', 'visiting', 'visors', 'visualclubconcepts', 'vital', 'vitaminwater', 'vjfv7ksgcq', 'vlci2kv1ip', 'vm', 'vmquurzupw', 'vmsg', 'vn3jjia53o', 'vo3eqsepqh', 'vo61lme5ja', 'vocab', 'vodkatonics', 'voice', 'voicemail', 'voided', 'volkswagen', 'volleyball', 'volt', 'volume', 'volumes', 'voluntarily', 'volunteer', 'volunteers', 'vomit', 'vomited', 'vosizh17sl', 'vote', 'voted', 'voucher', 'vouchers', 'vouufrn4js', 'vows', 'voxcghciji', 'vp', 'vpdrplxj5a', 'vpqem31xuq', 'vqmdmzafuj', 'vqtyza6mzu', 'vr9k180lai', 'vrm', 'vrqdpqepfw', 'vs', 'vskxyamnom', 'vt', 'vtqe8m1l3i', 'vu5lbzxtrx', 'vu7xswjkiy', 'vudwjm1lyb', 'vuelo24', 'vuelos24', 'vulnerable', 'vusa_australia', 'vuxf4r4unu', 'vv8cfyhkvb', 'vvzksmfkvw', 'vw2v8gvngq', 'vw4p4t4tlh', 'vx', 'vx358', 'vx363', 'vx399', 'vx413', 'vx919', 'vx9vbctdlf', 'vxn2j36m7v', 'vxsafetydance', 'vyil1xklrog24fs', 'vyuanh4iqr', 'vía', 'w0hoaewhws', 'w1aakjumxa', 'w3xs6tvpzg', 'w5nl0ay9bl', 'w8mtmsp2ry', 'w9bqiw0aou', 'wa', 'waa', 'waaaaaaiting', 'wack', 'wager', 'wages', 'wah', 'wailing', 'wait', 'waited', 'waitin', 'waiting', 'waitingagain', 'waitingforbags', 'waitinginphilly', 'waitingonapilot', 'waitingsince', 'waitlisted', 'waits', 'waive', 'waived', 'waiver', 'waivers', 'waives', 'waivethefee', 'waiving', 'wake', 'wakes', 'waking', 'wakinginmemphis', 'waldorf', 'walk', 'walked', 'walking', 'walks', 'walkway', 'wall', 'wallet', 'walls', 'walls29', 'wallstreet', 'wallstslumlord', 'walmart', 'waltdisneyworld', 'walton', 'wamo66', 'wandered', 'wanna', 'wannaa', 'wannagohome', 'want', 'wantcharge', 'wanted', 'wanting', 'wantmymoneyback', 'wants', 'warehouse', 'warm', 'warmer', 'warmest', 'warmth', 'warmweather', 'warn', 'warning', 'warnings', 'warrants', 'warriors', 'was', 'wasappreciated', 'washington', 'washingtondc', 'wasn', 'wasnt', 'waspaid', 'waste', 'wasted', 'wastedeffort', 'wastedtime', 'wasteoftime', 'wasting', 'wat', 'watch', 'watched', 'watching', 'water', 'waterbury', 'watered', 'waters', 'wating', 'watson', 'wave', 'waved', 'way', 'wayne', 'ways', 'wbhbljjks7', 'wbmhrl3bvl', 'wc', 'wcsazzqpae', 'wd', 'wd40', 'wdaktmr7mj', 'wdw', 'wdyekvb1ze', 'we', 'we7pf5ll1y', 'weak', 'weakservice', 'weaktea', 'weappreciateyou', 'wear', 'wearing', 'weary', 'weasel', 'weather', 'weathered', 'weatherless', 'weathers', 'web', 'webbernaturals', 'weblink', 'webpage', 'webs', 'website', 'websites', 'wed', 'wedding', 'wednesday', 'wedontcarebecauseyoupaidalready', 'weds', 'week', 'weekday', 'weekend', 'weekends', 'weekly', 'weeklycommuteonaa', 'weeks', 'weepysweetmonty', 'weigh', 'weighed', 'weighing', 'weighs', 'weight', 'weights', 'weird', 'welcome', 'welcomed', 'welcomes', 'welcoming', 'welfare', 'well', 'welldone', 'welllllll', 'wellplayed', 'welp', 'wemosaictogether', 'wendell', 'wendi', 'wens', 'went', 'wentook3', 'were', 'weren', 'werenot', 'werenotincalianymore', 'wererunning', 'werin', 'wernicke', 'wervirgin', 'west', 'westagard', 'westchester', 'western', 'westjet', 'westpalmbeach', 'westpalmbeachbound', 'wet', 'wether', 'weve', 'wewantcomps', 'wewanttoknow', 'wewillsee', 'weyburn', 'wezumdimyf', 'wgyztnjcxm', 'whacked', 'whagpknnlf', 'whammie', 'what', 'whatacluster', 'whatajoke', 'whatcustomerservice', 'whatever', 'whatfrozenpipes', 'whatgives', 'whathappend', 'whats', 'whatsoever', 'whatstatus', 'whatstheholdup', 'whch', 'wheel', 'wheelchair', 'wheelchairs', 'wheels', 'wheelsup', 'wheeze', 'when', 'whenever', 'whenitsnowsitpours', 'where', 'whereabouts', 'whereas', 'whereby', 'whereismybag', 'whereisthelove', 'wheresmyrefund', 'wheresthecustomerserviceat', 'wheresthepilot', 'whether', 'which', 'whichever', 'whichisworsedenordfw', 'while', 'whilst', 'whining', 'whiny', 'whiplash', 'whipped', 'whiskey', 'whisper', 'whispering', 'white', 'whitterbug', 'who', 'whoa', 'whoever', 'whole', 'wholly', 'whom', 'whoooo', 'whoot', 'whose', 'whrsthecoach', 'wht', 'whufmi2ytd', 'why', 'whyabcwhy', 'whyairtravelsucks', 'whyareyouyelling', 'whybeaaff', 'whydidntiflysouthwest', 'whyfly', 'whyisusairalwaysdelayed', 'whyjeff', 'whyyounoloveme', 'whyyy', 'wi', 'wichita', 'wide', 'wiedersehen', 'wife', 'wifes', 'wifey', 'wifi', 'wifiless', 'wiggle', 'wigs', 'wiil', 'wikipearl', 'wilco', 'will', 'will1531', 'williams', 'willie', 'willing', 'willl', 'willneverflywithyou', 'wills', 'wilmington', 'wilson', 'win', 'wind', 'windchill', 'window', 'windows', 'winds', 'windy', 'wine', 'wing', 'wings', 'winks', 'winkwink', 'winner', 'winners', 'winning', 'winnipeg', 'wins', 'winston', 'winter', 'winterops', 'winters', 'winterstorm', 'winterstorm2015', 'winterweather', 'winwin', 'wipe', 'wiped', 'wipes', 'wired', 'wireless', 'wires', 'wise', 'wiser', 'wish', 'wishing', 'wishmyflightwaslonger', 'wit', 'with', 'withheld', 'within', 'without', 'witness', 'witnessed', 'witty', 'wiyh', 'wjere', 'wjiigztiwg', 'wjoc9f14su', 'wjyas2d94n', 'wk', 'wknd', 'wkrb', 'wks', 'wlcm', 'wld', 'wmass', 'wmcactionnews5', 'wmn4life', 'wmo6tkqhxp', 'wmx12f33zc', 'wn3946', 'wn4287', 'wndceo5qlk', 'wny9tzsr8n', 'wo', 'woase2015', 'woaw', 'woeful', 'woke', 'woman', 'women', 'won', 'wonder', 'wondered', 'wonderful', 'wonderfully', 'wondering', 'wong', 'wonked', 'wont', 'wontflyagainwithyou', 'woo', 'woodland', 'woody', 'woof', 'woohoo', 'word', 'worded', 'words', 'wore', 'work', 'workaround', 'worked', 'worker', 'workers', 'workforce', 'workforces', 'workhard', 'workin', 'working', 'workng', 'workout', 'works', 'worksnicely', 'world', 'worlds', 'worldwide', 'worm', 'worn', 'worried', 'worries', 'worrisome', 'worry', 'worrying', 'worse', 'worst', 'worst2unitedflightsever', 'worstairline', 'worstairlineever', 'worstairlineinamerica', 'worstcustomerservice', 'worstcustomerserviceever', 'worstcustservice', 'worstever', 'worstflight', 'worstflightever', 'worstflightexperienceever', 'worstservice', 'worstthingever', 'worsttraveldayever', 'worsttripofmylife', 'worth', 'worthless', 'worthy', 'would', 'woulda', 'wouldn', 'wouldnt', 'wouldt', 'wouldve', 'wounded', 'woven', 'wow', 'wowxhpu5qv', 'wpg', 'wqzztiemx0', 'wrap', 'wrath', 'wreck', 'wrecked', 'wrecking', 'wrench', 'wrestle', 'wretched', 'write', 'writers', 'writes', 'writing', 'written', 'wrong', 'wronganswer', 'wrongfully', 'wrongiswrong', 'wrote', 'wrwqrublps', 'ws', 'wsgyckciio', 'wsj', 'wsjplus', 'wta5px70a5', 'wtf', 'wtfodds', 'wth', 'wtop', 'wtw', 'wu3lbcncr9', 'wudda', 'wut', 'wvgpp3ymz1', 'wway', 'wx', 'wxowzhpgfl', 'wylie', 'wyoming', 'wznp5q1m0h', 'x1eqyahfvz', 'x2', 'x4rsvagijn', 'x4tdy84dbh', 'x5jena7nye', 'x5zqssjtrb', 'x6syw3mdvu', 'x7ilzqdwe2', 'x9blwgwa68', 'x____x', 'x__x', 'xaizw2isml', 'xaspqdsqhe', 'xatoxbnsfa', 'xbkvcraokn', 'xbqqqbrgvf', 'xc6jq70r7b', 'xcvqxykg49', 'xd', 'xdjzkc34gb', 'xedeckgmw5', 'xf9mpnaaje', 'xfinity', 'xfwxsrwkha', 'xgfs6tjtmo', 'xggcntco8m', 'xgpaayfdwt', 'xhlc30mtff', 'xhsuupheze', 'xijifymvqp', 'xijyrpslzk', 'xld', 'xltv5z6st1', 'xm', 'xmaqcucwzl', 'xmas', 'xmrvr4lgeg', 'xmz3tf9ix8', 'xna', 'xox', 'xoxo', 'xpm98igqjn', 'xrdtov7nl8', 'xt', 'xtra', 'xvbjczlmda', 'xw', 'xwjol55flh', 'xx', 'xx2m2jxqep', 'xx5qscjll1', 'xxppzo88j1', 'xxsaombdgs', 'xxx', 'xxy2d2imnp', 'xz6qeg3nef', 'xzbajmiekx', 'xzmscw', 'xzy7phkfgr', 'y39yzdpbvu', 'y3sahvx3zk', 'y5qe9hcqzt', 'y7o0unxtqp', 'y8aormfkac', 'ya', 'yaayy', 'yaffasolin', 'yall', 'yards', 'yasss', 'yasssss', 'yay', 'yayayay', 'ybmbgs0dhn', 'ybv0xaowkv', 'yc7v2s0iod', 'yccitaep3s', 'yco9dikpt9', 'yday', 'yea', 'yeah', 'year', 'yearly', 'years', 'yeehaw', 'yeg', 'yell', 'yelled', 'yelling', 'yellow', 'yeniettelswood', 'yep', 'yer', 'yes', 'yeseniahernandez', 'yessir', 'yest', 'yesterday', 'yet', 'yf9nhmwyff', 'yh1kzkyzrr', 'yhz', 'yi4wguk5tr', 'yield', 'yikes', 'yiwlhqhzgp', 'ymftw1uyhr', 'ymmh9k4cbr', 'ync2zut4zz', 'yo', 'yoga', 'yogurt', 'yokkhhqcmp', 'york', 'yorkshire2002', 'you', 'youareonyourown', 'youcandobetter', 'youcouldntmakethis', 'youd', 'youdidit', 'youknowyouwantto', 'young', 'younger', 'your', 'youragentshavenoclue', 'yourairlinesucks', 'youre', 'youredoingitwrong', 'youretheworst', 'yourlocalnyer', 'yourock', 'yourphonesystemsucks', 'yours', 'yourself', 'yourselves', 'yourstoryhere', 'yousuck', 'yout', 'youth', 'youve', 'yow', 'ypbkcirbxu', 'ypo7nyprzl', 'yponthebeat', 'ypu', 'ypvpvdltys', 'yqhk8ljabn', 'yr', 'yrs', 'ysqbvq6mgb', 'ystday', 'ystrdy', 'yuck', 'yucki', 'yul', 'yuma', 'yummy', 'yup', 'yvonne', 'yvonneokaka', 'yvr', 'ywg', 'yx1dqjn8nl', 'yxe', 'yxn00pnoav', 'yxswfq9tgp', 'yxu', 'yyc', 'yyj', 'yyz', 'yyzua70435', 'yzh4zrqm0i', 'yzxfe7au22', 'z1', 'z5znfwkkwp', 'zabsonre', 'zacks_com', 'zagging', 'zakkohane', 'zambia', 'zcbjyo6lsn', 'zcc82u', 'zdkxn4ktou', 'zero', 'zf5wjgtxzt', 'zfqmpgxvs6', 'zfroinpszi', 'zfv', 'zgoqoxjbqy', 'zhxok07aqa', 'zig', 'zik2uoxgnw', 'zip', 'zippers', 'zira2z3udc', 'zj76', 'zkatcher', 'zkoe6clgiu', 'zksx79itdn', 'zl4bvexmcj', 'znsujp86bv', 'zo2iceg4li', 'zofwldqxbe', 'zombie', 'zone', 'zones', 'zoom', 'zouowgv3q6', 'zpz78poeon', 'zqutus7epw', 'zrh', 'zrh_airport', 'zsdgzydnde', 'zsuztnaijq', 'ztrdwv0n4l', 'zukes', 'zurich', 'zv2pt6trk9', 'zv6cfpohl5', 'zvfmxnuelj', 'zzps5ywve2']\n"
          ],
          "name": "stdout"
        }
      ]
    },
    {
      "cell_type": "markdown",
      "metadata": {
        "id": "zTdsWKoMcB3s",
        "colab_type": "text"
      },
      "source": [
        "**Modelo Random Forest**"
      ]
    },
    {
      "cell_type": "code",
      "metadata": {
        "id": "oqldiSoBcB3t",
        "colab_type": "code",
        "colab": {}
      },
      "source": [
        "#CRear base de train y test\n",
        "X_train, X_test, y_train, y_test = train_test_split(df, y, test_size=0.3, random_state=42)"
      ],
      "execution_count": null,
      "outputs": []
    },
    {
      "cell_type": "code",
      "metadata": {
        "id": "WkikRMCScB30",
        "colab_type": "code",
        "colab": {
          "base_uri": "https://localhost:8080/",
          "height": 159
        },
        "outputId": "2553e22e-e006-4351-d367-70d5a8da27d4"
      },
      "source": [
        "from sklearn.ensemble import RandomForestClassifier\n",
        "from sklearn.model_selection import cross_val_score\n",
        "from sklearn.metrics import mean_squared_error\n",
        "from sklearn import metrics\n",
        "\n",
        "clf = RandomForestClassifier(n_jobs=-1, n_estimators=100, max_depth=100, random_state=123, criterion = 'entropy')\n",
        "clf"
      ],
      "execution_count": null,
      "outputs": [
        {
          "output_type": "execute_result",
          "data": {
            "text/plain": [
              "RandomForestClassifier(bootstrap=True, ccp_alpha=0.0, class_weight=None,\n",
              "                       criterion='entropy', max_depth=100, max_features='auto',\n",
              "                       max_leaf_nodes=None, max_samples=None,\n",
              "                       min_impurity_decrease=0.0, min_impurity_split=None,\n",
              "                       min_samples_leaf=1, min_samples_split=2,\n",
              "                       min_weight_fraction_leaf=0.0, n_estimators=100,\n",
              "                       n_jobs=-1, oob_score=False, random_state=123, verbose=0,\n",
              "                       warm_start=False)"
            ]
          },
          "metadata": {
            "tags": []
          },
          "execution_count": 13
        }
      ]
    },
    {
      "cell_type": "code",
      "metadata": {
        "id": "_aBp2-4ucB37",
        "colab_type": "code",
        "colab": {}
      },
      "source": [
        "clf.fit(X_train, y_train)\n",
        "y_pred=clf.predict(X_test)"
      ],
      "execution_count": null,
      "outputs": []
    },
    {
      "cell_type": "code",
      "metadata": {
        "id": "wFG1jKRkcB4C",
        "colab_type": "code",
        "colab": {
          "base_uri": "https://localhost:8080/",
          "height": 35
        },
        "outputId": "87b2c2ad-3994-4314-9d4b-f880eacb64e7"
      },
      "source": [
        "acc_vect_constpw =metrics.accuracy_score(y_test, y_pred)\n",
        "print(\"Accuracy:\", acc_vect_constpw)"
      ],
      "execution_count": null,
      "outputs": [
        {
          "output_type": "stream",
          "text": [
            "Accuracy: 0.7666211293260473\n"
          ],
          "name": "stdout"
        }
      ]
    },
    {
      "cell_type": "markdown",
      "metadata": {
        "id": "4pzIKPMZcB4H",
        "colab_type": "text"
      },
      "source": [
        "**matriz de confusión para las predicciones del sentimiento del tweet: negative':-1,'neutral':0,'positive':1**"
      ]
    },
    {
      "cell_type": "code",
      "metadata": {
        "scrolled": true,
        "id": "hNfPSo30cB4I",
        "colab_type": "code",
        "colab": {
          "base_uri": "https://localhost:8080/",
          "height": 106
        },
        "outputId": "a2e5e371-7fdb-4529-c2e6-ee8641f26212"
      },
      "source": [
        "print(pd.crosstab(y_test, y_pred, rownames=['Actual sentiment'], colnames=['Predicted sentiment']))"
      ],
      "execution_count": null,
      "outputs": [
        {
          "output_type": "stream",
          "text": [
            "Predicted sentiment    -1    0    1\n",
            "Actual sentiment                   \n",
            "-1                   2736   62   16\n",
            " 0                    533  316   35\n",
            " 1                    308   71  315\n"
          ],
          "name": "stdout"
        }
      ]
    },
    {
      "cell_type": "markdown",
      "metadata": {
        "id": "Md4jMeg1cB4P",
        "colab_type": "text"
      },
      "source": [
        "Con el modelo incluyendo los stopwords se obtiene un accuracy de 0,76."
      ]
    },
    {
      "cell_type": "markdown",
      "metadata": {
        "id": "17zEkHvJcB4R",
        "colab_type": "text"
      },
      "source": [
        "# Exercise 12.2 \n",
        "\n",
        "Remove stopwords, then predict the sentiment using CountVectorizer.\n",
        "\n",
        "use Random Forest classifier"
      ]
    },
    {
      "cell_type": "code",
      "metadata": {
        "id": "yfjgiRCZcB4S",
        "colab_type": "code",
        "colab": {}
      },
      "source": [
        "vect2 = CountVectorizer(lowercase= True, stop_words='english') #calcula los token y elimina stopwords\n",
        "X_dtm2 = vect2.fit_transform(X) #entrenar el modelo"
      ],
      "execution_count": null,
      "outputs": []
    },
    {
      "cell_type": "code",
      "metadata": {
        "id": "Is1iQA9ocB4b",
        "colab_type": "code",
        "colab": {
          "base_uri": "https://localhost:8080/",
          "height": 35
        },
        "outputId": "6bb3a3bc-1419-4980-b7c8-53569910ba3f"
      },
      "source": [
        "df2=X_dtm2.todense()\n",
        "df2\n",
        "print(df2.shape)"
      ],
      "execution_count": null,
      "outputs": [
        {
          "output_type": "stream",
          "text": [
            "(14640, 14770)\n"
          ],
          "name": "stdout"
        }
      ]
    },
    {
      "cell_type": "markdown",
      "metadata": {
        "id": "Lvh3BmhBcB4k",
        "colab_type": "text"
      },
      "source": [
        "Al eliminar los stopword en la función de vectorizer, se crea una matriz sparse con 14770 columnas (palabras)\n",
        "\n",
        "**Modelo Random Forest para countvectorizer sin stopwords**"
      ]
    },
    {
      "cell_type": "code",
      "metadata": {
        "id": "MKvH-qQ0cB4n",
        "colab_type": "code",
        "colab": {
          "base_uri": "https://localhost:8080/",
          "height": 35
        },
        "outputId": "aaad4448-3fa5-4a97-df13-2327a26f1d60"
      },
      "source": [
        "#Crear base de train y test\n",
        "X_train2, X_test2, y_train2, y_test2 = train_test_split(df2, y, test_size=0.3, random_state=42)\n",
        "X_train2.shape"
      ],
      "execution_count": null,
      "outputs": [
        {
          "output_type": "execute_result",
          "data": {
            "text/plain": [
              "(10248, 14770)"
            ]
          },
          "metadata": {
            "tags": []
          },
          "execution_count": 19
        }
      ]
    },
    {
      "cell_type": "code",
      "metadata": {
        "id": "uhKu_zsocB43",
        "colab_type": "code",
        "colab": {
          "base_uri": "https://localhost:8080/",
          "height": 159
        },
        "outputId": "4fb7e015-613b-48ac-97dc-097dad471ceb"
      },
      "source": [
        "clf = RandomForestClassifier(n_jobs=-1, n_estimators=100, max_depth=100, random_state=123, criterion = 'entropy')\n",
        "clf"
      ],
      "execution_count": null,
      "outputs": [
        {
          "output_type": "execute_result",
          "data": {
            "text/plain": [
              "RandomForestClassifier(bootstrap=True, ccp_alpha=0.0, class_weight=None,\n",
              "                       criterion='entropy', max_depth=100, max_features='auto',\n",
              "                       max_leaf_nodes=None, max_samples=None,\n",
              "                       min_impurity_decrease=0.0, min_impurity_split=None,\n",
              "                       min_samples_leaf=1, min_samples_split=2,\n",
              "                       min_weight_fraction_leaf=0.0, n_estimators=100,\n",
              "                       n_jobs=-1, oob_score=False, random_state=123, verbose=0,\n",
              "                       warm_start=False)"
            ]
          },
          "metadata": {
            "tags": []
          },
          "execution_count": 20
        }
      ]
    },
    {
      "cell_type": "code",
      "metadata": {
        "id": "FjOHbjsNcB5E",
        "colab_type": "code",
        "colab": {}
      },
      "source": [
        "clf.fit(X_train2, y_train2)\n",
        "y_pred2=clf.predict(X_test2)"
      ],
      "execution_count": null,
      "outputs": []
    },
    {
      "cell_type": "code",
      "metadata": {
        "id": "bba1PaY-cB5N",
        "colab_type": "code",
        "colab": {
          "base_uri": "https://localhost:8080/",
          "height": 35
        },
        "outputId": "f4794d10-75a5-439f-9309-61654ad788b8"
      },
      "source": [
        "acc_vect_sinstpw =  metrics.accuracy_score(y_test2, y_pred2)\n",
        "print(\"Accuracy:\",acc_vect_sinstpw)"
      ],
      "execution_count": null,
      "outputs": [
        {
          "output_type": "stream",
          "text": [
            "Accuracy: 0.7497723132969034\n"
          ],
          "name": "stdout"
        }
      ]
    },
    {
      "cell_type": "markdown",
      "metadata": {
        "id": "Z57ItLXFcB5b",
        "colab_type": "text"
      },
      "source": [
        "**matriz de confusión para las predicciones del sentimiento del tweet: negative':-1,'neutral':0,'positive':1**"
      ]
    },
    {
      "cell_type": "code",
      "metadata": {
        "scrolled": true,
        "id": "wde6CW64cB5d",
        "colab_type": "code",
        "colab": {
          "base_uri": "https://localhost:8080/",
          "height": 106
        },
        "outputId": "171f70d9-7771-4743-cd58-df13604392ad"
      },
      "source": [
        "print(pd.crosstab(y_test2, y_pred2, rownames=['Actual sentiment'], colnames=['Predicted sentiment']))"
      ],
      "execution_count": null,
      "outputs": [
        {
          "output_type": "stream",
          "text": [
            "Predicted sentiment    -1    0    1\n",
            "Actual sentiment                   \n",
            "-1                   2720   45   49\n",
            " 0                    614  209   61\n",
            " 1                    285   45  364\n"
          ],
          "name": "stdout"
        }
      ]
    },
    {
      "cell_type": "markdown",
      "metadata": {
        "id": "8yiOcRorcB5n",
        "colab_type": "text"
      },
      "source": [
        "Con el modelo sin stopwords se obtiene un accuracy de 0,74, el cual es menor al modelo sin stopwords (0,76). Esto se puede deber a que alguna de las palabras que se están eliminando aportan información relevante sobre la predicción del sentimiento del tweet."
      ]
    },
    {
      "cell_type": "markdown",
      "metadata": {
        "id": "JuOqUTd2cB5p",
        "colab_type": "text"
      },
      "source": [
        "# Exercise 12.3\n",
        "\n",
        "Increase n_grams size (with and without stopwords),  then predict the sentiment using CountVectorizer\n",
        "\n",
        "use Random Forest classifier"
      ]
    },
    {
      "cell_type": "markdown",
      "metadata": {
        "id": "8aBZNjHPcB5r",
        "colab_type": "text"
      },
      "source": [
        "**Modelo random forest, iterando sobre enegramas eliminando stopwords** "
      ]
    },
    {
      "cell_type": "code",
      "metadata": {
        "scrolled": true,
        "id": "wGlneeZ8cB5u",
        "colab_type": "code",
        "colab": {
          "base_uri": "https://localhost:8080/",
          "height": 106
        },
        "outputId": "30ec9724-8352-448b-d8a2-2d0aa7bc0b30"
      },
      "source": [
        "#Sin la función stopwords\n",
        "gram = range(1,6)\n",
        "acc1=[]\n",
        "\n",
        "clf3 = RandomForestClassifier(n_jobs=-1, n_estimators=100, max_depth=100, random_state=123, criterion = 'entropy')\n",
        "\n",
        "for i in gram:\n",
        "    vect3 = CountVectorizer(ngram_range=(1, i), lowercase= True, stop_words='english') \n",
        "    X_dtm3 = vect3.fit_transform(X) \n",
        "    X_train3, X_test3, y_train3, y_test3 = train_test_split(X_dtm3, y, test_size=0.3, random_state=42)\n",
        "    clf3.fit(X_train3, y_train3)\n",
        "    y_pred3 = clf3.predict(X_test3)\n",
        "    acc = metrics.accuracy_score(y_test3, y_pred3)\n",
        "    acc1.append([i, acc])   \n",
        "\n",
        "acc1\n"
      ],
      "execution_count": null,
      "outputs": [
        {
          "output_type": "execute_result",
          "data": {
            "text/plain": [
              "[[1, 0.7497723132969034],\n",
              " [2, 0.7106102003642987],\n",
              " [3, 0.6867030965391621],\n",
              " [4, 0.6755464480874317],\n",
              " [5, 0.6614298724954463]]"
            ]
          },
          "metadata": {
            "tags": []
          },
          "execution_count": 24
        }
      ]
    },
    {
      "cell_type": "markdown",
      "metadata": {
        "id": "iKQHNjafcB5-",
        "colab_type": "text"
      },
      "source": [
        "**Modelo random forest, iterando sobre enegramas sin eliminar stopwords** "
      ]
    },
    {
      "cell_type": "code",
      "metadata": {
        "id": "-OAUb6JncB6A",
        "colab_type": "code",
        "colab": {
          "base_uri": "https://localhost:8080/",
          "height": 106
        },
        "outputId": "a77d0cc9-b454-403e-a459-324dfa075df5"
      },
      "source": [
        "#Sin la función stopwords\n",
        "gram = range(1,6)\n",
        "acc2=[]\n",
        "\n",
        "clf3 = RandomForestClassifier(n_jobs=-1, n_estimators=100, max_depth=100, random_state=123, criterion = 'entropy')\n",
        "\n",
        "for i in gram:\n",
        "    vect3 = CountVectorizer(ngram_range=(1, i), lowercase= True) \n",
        "    X_dtm3 = vect3.fit_transform(X) \n",
        "    X_train3, X_test3, y_train3, y_test3 = train_test_split(X_dtm3, y, test_size=0.3, random_state=42)\n",
        "    clf3.fit(X_train3, y_train3)\n",
        "    y_pred3 = clf3.predict(X_test3)\n",
        "    acc = metrics.accuracy_score(y_test3, y_pred3)\n",
        "    acc2.append([i, acc])  \n",
        "\n",
        "acc2\n"
      ],
      "execution_count": null,
      "outputs": [
        {
          "output_type": "execute_result",
          "data": {
            "text/plain": [
              "[[1, 0.7666211293260473],\n",
              " [2, 0.7331511839708561],\n",
              " [3, 0.7122040072859745],\n",
              " [4, 0.6933060109289617],\n",
              " [5, 0.6810109289617486]]"
            ]
          },
          "metadata": {
            "tags": []
          },
          "execution_count": 25
        }
      ]
    },
    {
      "cell_type": "markdown",
      "metadata": {
        "id": "W0W-VuwHfoLC",
        "colab_type": "text"
      },
      "source": [
        "Al iterar el número enegramas en los modelos randomforest con y sin stopwords, utilizando la función countvectorizer, se puede observar que el desempeño del modelo tiende a disminuir, a medida que aumenta el tamaño del enegrama. Por lo cual, se recomienda trabajar con un diccionario solo de palabras como tokens. "
      ]
    },
    {
      "cell_type": "markdown",
      "metadata": {
        "id": "nOt9k2W2cB6I",
        "colab_type": "text"
      },
      "source": [
        "# Exercise 12.4\n",
        "\n",
        "Predict the sentiment using TfidfVectorizer.\n",
        "\n",
        "use Random Forest classifier"
      ]
    },
    {
      "cell_type": "markdown",
      "metadata": {
        "id": "fzrWHkSUimk8",
        "colab_type": "text"
      },
      "source": [
        "### Random forest con TfidfVectorizer eliminando stopwords"
      ]
    },
    {
      "cell_type": "code",
      "metadata": {
        "id": "H1OM4EYEcB6K",
        "colab_type": "code",
        "colab": {
          "base_uri": "https://localhost:8080/",
          "height": 35
        },
        "outputId": "8c30f857-4750-4906-c666-58fba44af336"
      },
      "source": [
        "#\n",
        "\n",
        "clf3 = RandomForestClassifier(n_jobs=-1, n_estimators=100, max_depth=100, random_state=123, criterion = 'entropy')\n",
        "\n",
        "vect4 = TfidfVectorizer(lowercase= True, stop_words='english') \n",
        "X_dtm4 = vect4.fit_transform(X) \n",
        "X_train4, X_test4, y_train4, y_test4 = train_test_split(X_dtm4, y, test_size=0.3, random_state=42)\n",
        "clf3.fit(X_train4, y_train4)\n",
        "y_pred4 = clf3.predict(X_test4)\n",
        "acc_tfidf_sinstw = metrics.accuracy_score(y_test4, y_pred4)\n",
        "acc_tfidf_sinstw\n"
      ],
      "execution_count": null,
      "outputs": [
        {
          "output_type": "execute_result",
          "data": {
            "text/plain": [
              "0.7486338797814208"
            ]
          },
          "metadata": {
            "tags": []
          },
          "execution_count": 41
        }
      ]
    },
    {
      "cell_type": "markdown",
      "metadata": {
        "id": "thjgc41Qivro",
        "colab_type": "text"
      },
      "source": [
        "### Random forest con TfidfVectorizer sin eliminar stopwords"
      ]
    },
    {
      "cell_type": "code",
      "metadata": {
        "id": "CWNLRQ-Bilco",
        "colab_type": "code",
        "colab": {
          "base_uri": "https://localhost:8080/",
          "height": 35
        },
        "outputId": "0f436b58-4414-4c80-b87b-e81bc81c9a40"
      },
      "source": [
        "clf3 = RandomForestClassifier(n_jobs=-1, n_estimators=100, max_depth=100, random_state=123, criterion = 'entropy')\n",
        "\n",
        "vect5 = TfidfVectorizer( lowercase= True) \n",
        "X_dtm5 = vect5.fit_transform(X) \n",
        "X_train5, X_test5, y_train5, y_test5 = train_test_split(X_dtm5, y, test_size=0.3, random_state=42)\n",
        "clf3.fit(X_train5, y_train5)\n",
        "y_pred5 = clf3.predict(X_test5)\n",
        "acc_tfidf_constw = metrics.accuracy_score(y_test5, y_pred5)\n",
        "acc_tfidf_constw"
      ],
      "execution_count": null,
      "outputs": [
        {
          "output_type": "execute_result",
          "data": {
            "text/plain": [
              "0.7556921675774135"
            ]
          },
          "metadata": {
            "tags": []
          },
          "execution_count": 40
        }
      ]
    },
    {
      "cell_type": "markdown",
      "metadata": {
        "id": "Kn_TpTQEjdZ0",
        "colab_type": "text"
      },
      "source": [
        "En cuanto a los modelos utilizando tfidvectorizer, el modelo que tiene un mejor desempeño es el randomforest sin eliminar stopwords, con un accuracy de 0,71.  "
      ]
    },
    {
      "cell_type": "markdown",
      "metadata": {
        "id": "FI51b_YljM82",
        "colab_type": "text"
      },
      "source": [
        "### Random forest con TfidfVectorizer eliminando stopwords, iterando enegramas"
      ]
    },
    {
      "cell_type": "code",
      "metadata": {
        "id": "LH1yNoExjIPU",
        "colab_type": "code",
        "colab": {
          "base_uri": "https://localhost:8080/",
          "height": 106
        },
        "outputId": "69bd4b4c-f9c7-4220-e51c-39ca96874079"
      },
      "source": [
        "#Sin la función stopwords\n",
        "gram = range(1,6)\n",
        "acc3=[]\n",
        "clf3 = RandomForestClassifier(n_jobs=-1, n_estimators=100, max_depth=100, random_state=123, criterion = 'entropy')\n",
        "\n",
        "for i in gram:\n",
        "    vect3 = TfidfVectorizer(ngram_range=(1, i), lowercase= True) \n",
        "    X_dtm3 = vect3.fit_transform(X) \n",
        "    X_train3, X_test3, y_train3, y_test3 = train_test_split(X_dtm3, y, test_size=0.3, random_state=42)\n",
        "    clf3.fit(X_train3, y_train3)\n",
        "    y_pred3 = clf3.predict(X_test3)\n",
        "    acc_tfid_sinst = metrics.accuracy_score(y_test3, y_pred3)\n",
        "    acc3.append([i,acc_tfid_sinst])\n",
        "\n",
        "acc3\n",
        "    "
      ],
      "execution_count": null,
      "outputs": [
        {
          "output_type": "execute_result",
          "data": {
            "text/plain": [
              "[[1, 0.7556921675774135],\n",
              " [2, 0.7290528233151184],\n",
              " [3, 0.7135701275045537],\n",
              " [4, 0.6996812386156649],\n",
              " [5, 0.6903460837887068]]"
            ]
          },
          "metadata": {
            "tags": []
          },
          "execution_count": 29
        }
      ]
    },
    {
      "cell_type": "markdown",
      "metadata": {
        "id": "-82kOAWhkWy4",
        "colab_type": "text"
      },
      "source": [
        "### Random forest con TfidfVectorizer sin eliminar stopwords, iterando enegramas"
      ]
    },
    {
      "cell_type": "code",
      "metadata": {
        "id": "KgtsdQVUkE-x",
        "colab_type": "code",
        "colab": {
          "base_uri": "https://localhost:8080/",
          "height": 106
        },
        "outputId": "44b6fed3-0957-4602-eb11-ada627d0c58a"
      },
      "source": [
        "#Sin la función stopwords\n",
        "gram = range(1,6)\n",
        "acc4 = []\n",
        "\n",
        "clf3 = RandomForestClassifier(n_jobs=-1, n_estimators=100, max_depth=100, random_state=123, criterion = 'entropy')\n",
        "\n",
        "for i in gram:\n",
        "    vect3 = TfidfVectorizer(ngram_range=(1, i), lowercase= True, stop_words='english') \n",
        "    X_dtm3 = vect3.fit_transform(X) \n",
        "    X_train3, X_test3, y_train3, y_test3 = train_test_split(X_dtm3, y, test_size=0.3, random_state=42)\n",
        "    clf3.fit(X_train3, y_train3)\n",
        "    y_pred3 = clf3.predict(X_test3)\n",
        "    acc_tfid_const = metrics.accuracy_score(y_test3, y_pred3)\n",
        "    acc4.append([i, acc_tfid_const])\n",
        "\n",
        "acc4"
      ],
      "execution_count": null,
      "outputs": [
        {
          "output_type": "execute_result",
          "data": {
            "text/plain": [
              "[[1, 0.7486338797814208],\n",
              " [2, 0.7090163934426229],\n",
              " [3, 0.6898907103825137],\n",
              " [4, 0.6687158469945356],\n",
              " [5, 0.660063752276867]]"
            ]
          },
          "metadata": {
            "tags": []
          },
          "execution_count": 30
        }
      ]
    },
    {
      "cell_type": "markdown",
      "metadata": {
        "id": "_U9iMRkWvRCF",
        "colab_type": "text"
      },
      "source": [
        "Al iterar el número enegramas en los modelos Random Forest con y sin stopwords, utilizando la función TfidfVectorizer para calcular la frecuencia relativa, se puede observar que el desempeño del modelo tiende a disminuir, a medida que aumenta el tamaño del enegrama. Por lo cual, se recomienda trabajar con un diccionario solo de palabras como tokens. "
      ]
    },
    {
      "cell_type": "markdown",
      "metadata": {
        "id": "HVZSru5Vkmt6",
        "colab_type": "text"
      },
      "source": [
        "## Conclusiones"
      ]
    },
    {
      "cell_type": "code",
      "metadata": {
        "id": "EJtzdH-skpKW",
        "colab_type": "code",
        "colab": {
          "base_uri": "https://localhost:8080/",
          "height": 230
        },
        "outputId": "86cf4177-f36e-48f4-cb69-025a50f677ed"
      },
      "source": [
        "\n",
        "#print('Modelo con countvectorizer sin eliminar stop words \\n',acc_vect_constpw, '\\n ')\n",
        "#print('Modelo con countvectorizer eliminando stop words \\n',acc_vect_sinstpw, '\\n ') \n",
        "\n",
        "print('Modelo con countvectorizer sin eliminar stop words, iterando enegramas \\n',acc2, '\\n ')\n",
        "print('Modelo con countvectorizer eliminando stop words, iterando enegramas \\n', acc1, '\\n ')\n",
        "\n",
        "#print('Modelo con TfidfVectorize sin eliminar stop words \\n', acc_tfidf_constw, '\\n ')\n",
        "#print('Modelo con TfidfVectorize sin eliminar stop words \\n', acc_tfidf_sinstw, '\\n ')\n",
        "\n",
        "print('Modelo con TfidfVectorize sin eliminar stop words, iterando enegramas \\n', acc3, '\\n ')\n",
        "print('Modelo con TfidfVectorize sin eliminar stop words, iterando enegramas \\n', acc4, '\\n ')\n"
      ],
      "execution_count": null,
      "outputs": [
        {
          "output_type": "stream",
          "text": [
            "Modelo con countvectorizer sin eliminar stop words, iterando enegramas \n",
            " [[1, 0.7666211293260473], [2, 0.7331511839708561], [3, 0.7122040072859745], [4, 0.6933060109289617], [5, 0.6810109289617486]] \n",
            " \n",
            "Modelo con countvectorizer eliminando stop words, iterando enegramas \n",
            " [[1, 0.7497723132969034], [2, 0.7106102003642987], [3, 0.6867030965391621], [4, 0.6755464480874317], [5, 0.6614298724954463]] \n",
            " \n",
            "Modelo con TfidfVectorize sin eliminar stop words, iterando enegramas \n",
            " [[1, 0.7556921675774135], [2, 0.7290528233151184], [3, 0.7135701275045537], [4, 0.6996812386156649], [5, 0.6903460837887068]] \n",
            " \n",
            "Modelo con TfidfVectorize sin eliminar stop words, iterando enegramas \n",
            " [[1, 0.7486338797814208], [2, 0.7090163934426229], [3, 0.6898907103825137], [4, 0.6687158469945356], [5, 0.660063752276867]] \n",
            " \n"
          ],
          "name": "stdout"
        }
      ]
    },
    {
      "cell_type": "markdown",
      "metadata": {
        "id": "QvSU6Fm6vE6q",
        "colab_type": "text"
      },
      "source": [
        "**El modelo de mejor desempeño para clasificar el sentimiento del tweet para las aerolíneas se da con la función countvectorizer con un accuracy del 76%, en este caso se debe tener en cuenta los stopwords y no se deben incluir enegramas mayores a 2.** \n",
        "\n",
        "Asímismo, se recomienda hacer una calibración de los parámetros del random forest, para obtener un mejor resultado de predicción. "
      ]
    },
    {
      "cell_type": "code",
      "metadata": {
        "id": "REuq08Wgvzh8",
        "colab_type": "code",
        "colab": {}
      },
      "source": [
        ""
      ],
      "execution_count": null,
      "outputs": []
    }
  ]
}